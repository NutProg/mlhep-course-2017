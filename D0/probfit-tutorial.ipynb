{
 "cells": [
  {
   "cell_type": "markdown",
   "metadata": {},
   "source": [
    "# probfit Basic Tutorial"
   ]
  },
  {
   "cell_type": "markdown",
   "metadata": {},
   "source": [
    "[probfit](http://iminuit.github.io/probfit/) is a modeling / fitting package to be used together with [iminuit](http://iminuit.github.com/iminuit/).\n",
    "\n",
    "This tutorial is a fast-paced introduction to the probfit features:\n",
    "\n",
    "* built-in common models: polynomial, gaussian, ...\n",
    "* build-in common fit statistics: chi^2, binned and unbinned likelihood\n",
    "* tools to get your fits to converge and check the results: try_uml, draw, draw_residuals, ...\n",
    "* tools to help you implement your own models and fit statistics: Normalize, Extended, integrate_1d, ...\n",
    "\n",
    "Please start this notebook with the ``ipython --pylab=inline`` option to get inline plots."
   ]
  },
  {
   "cell_type": "code",
   "execution_count": 68,
   "metadata": {
    "collapsed": false
   },
   "outputs": [
    {
     "name": "stdout",
     "output_type": "stream",
     "text": [
      "Requirement already satisfied (use --upgrade to upgrade): iminuit in /root/miniconda/envs/rep_py2/lib/python2.7/site-packages\n",
      "Requirement already satisfied (use --upgrade to upgrade): probfit in /root/miniconda/envs/rep_py2/lib/python2.7/site-packages\n",
      "Requirement already satisfied (use --upgrade to upgrade): cython in /root/miniconda/envs/rep_py2/lib/python2.7/site-packages\n",
      "\u001b[33mYou are using pip version 8.1.2, however version 9.0.1 is available.\n",
      "You should consider upgrading via the 'pip install --upgrade pip' command.\u001b[0m\n"
     ]
    }
   ],
   "source": [
    "!pip install iminuit probfit cython"
   ]
  },
  {
   "cell_type": "code",
   "execution_count": 69,
   "metadata": {
    "collapsed": false
   },
   "outputs": [],
   "source": [
    "# We assume you have executed this cell in all the following examples\n",
    "import numpy as np\n",
    "import matplotlib.pyplot as plt\n",
    "import iminuit\n",
    "import probfit\n",
    "%matplotlib inline"
   ]
  },
  {
   "cell_type": "markdown",
   "metadata": {},
   "source": [
    "In your own code you can explicitly import what you need to save\n",
    "typing in interactive sessions, e.g.\n",
    "\n",
    "    from iminuit import Minuit, describe\n",
    "    from probfit import gaussian, BinnedLH\n",
    "\n",
    "We don't do this here, we only import `iminuit` and `probfit` into our\n",
    "namespace so that it is clear to you which functions and classes come\n",
    "from which package while reading the code below."
   ]
  },
  {
   "cell_type": "markdown",
   "metadata": {},
   "source": [
    "## Chi^2 straight line fit\n",
    "\n",
    "We can't really call this a fitting package without being able to fit a straight line, right?"
   ]
  },
  {
   "cell_type": "code",
   "execution_count": 70,
   "metadata": {
    "collapsed": false
   },
   "outputs": [
    {
     "data": {
      "image/png": "[encoded data removed]",
      "text/plain": [
       "<matplotlib.figure.Figure at 0x7f68658e0710>"
      ]
     },
     "metadata": {},
     "output_type": "display_data"
    }
   ],
   "source": [
    "# Let's make a straight line with gaussian(mu=0, sigma=1) noise\n",
    "np.random.seed(0)\n",
    "x = np.linspace(0, 10, 20) \n",
    "y = 3 * x + 15 + np.random.randn(len(x))\n",
    "err = np.ones(len(x))\n",
    "plt.errorbar(x, y, err, fmt='.');"
   ]
  },
  {
   "cell_type": "code",
   "execution_count": 71,
   "metadata": {
    "collapsed": false
   },
   "outputs": [],
   "source": [
    "# Let's define our line.\n",
    "# First argument has to be the independent variable,\n",
    "# arguments after that are shape parameters.\n",
    "def line(x, m, c): # define it to be parabolic or whatever you like\n",
    "    return m * x + c"
   ]
  },
  {
   "cell_type": "code",
   "execution_count": 72,
   "metadata": {
    "collapsed": false
   },
   "outputs": [
    {
     "data": {
      "text/plain": [
       "['x', 'm', 'c']"
      ]
     },
     "execution_count": 72,
     "metadata": {},
     "output_type": "execute_result"
    }
   ],
   "source": [
    "iminuit.describe(line)"
   ]
  },
  {
   "cell_type": "code",
   "execution_count": 73,
   "metadata": {
    "collapsed": false
   },
   "outputs": [],
   "source": [
    "# Define a chi^2 cost function\n",
    "chi2 = probfit.Chi2Regression(line, x, y, err)"
   ]
  },
  {
   "cell_type": "code",
   "execution_count": 74,
   "metadata": {
    "collapsed": false
   },
   "outputs": [
    {
     "data": {
      "text/plain": [
       "['m', 'c']"
      ]
     },
     "execution_count": 74,
     "metadata": {},
     "output_type": "execute_result"
    }
   ],
   "source": [
    "# Chi2Regression is just a callable object; nothing special about it\n",
    "iminuit.describe(chi2)"
   ]
  },
  {
   "cell_type": "code",
   "execution_count": 75,
   "metadata": {
    "collapsed": false
   },
   "outputs": [
    {
     "name": "stderr",
     "output_type": "stream",
     "text": [
      "/root/miniconda/envs/rep_py2/lib/python2.7/site-packages/ipykernel/__main__.py:4: InitialParamWarning: Parameter m does not have initial value. Assume 0.\n",
      "/root/miniconda/envs/rep_py2/lib/python2.7/site-packages/ipykernel/__main__.py:4: InitialParamWarning: Parameter m is floating but does not have initial step size. Assume 1.\n",
      "/root/miniconda/envs/rep_py2/lib/python2.7/site-packages/ipykernel/__main__.py:4: InitialParamWarning: Parameter c does not have initial value. Assume 0.\n",
      "/root/miniconda/envs/rep_py2/lib/python2.7/site-packages/ipykernel/__main__.py:4: InitialParamWarning: Parameter c is floating but does not have initial step size. Assume 1.\n"
     ]
    },
    {
     "data": {
      "text/html": [
       "<hr>"
      ]
     },
     "metadata": {},
     "output_type": "display_data"
    },
    {
     "data": {
      "text/html": [
       "\n",
       "        <table>\n",
       "            <tr>\n",
       "                <td title=\"Minimum value of function\">FCN = 12.0738531135</td>\n",
       "                <td title=\"Total number of call to FCN so far\">TOTAL NCALL = 36</td>\n",
       "                <td title=\"Number of call in last migrad\">NCALLS = 36</td>\n",
       "            </tr>\n",
       "            <tr>\n",
       "                <td title=\"Estimated distance to minimum\">EDM = 1.10886029888e-21</td>\n",
       "                <td title=\"Maximum EDM definition of convergence\">GOAL EDM = 1e-05</td>\n",
       "                <td title=\"Error def. Amount of increase in FCN to be defined as 1 standard deviation\">\n",
       "                UP = 1.0</td>\n",
       "            </tr>\n",
       "        </table>\n",
       "        \n",
       "        <table>\n",
       "            <tr>\n",
       "                <td align=\"center\" title=\"Validity of the migrad call\">Valid</td>\n",
       "                <td align=\"center\" title=\"Validity of parameters\">Valid Param</td>\n",
       "                <td align=\"center\" title=\"Is Covariance matrix accurate?\">Accurate Covar</td>\n",
       "                <td align=\"center\" title=\"Positive definiteness of covariance matrix\">PosDef</td>\n",
       "                <td align=\"center\" title=\"Was covariance matrix made posdef by adding diagonal element\">Made PosDef</td>\n",
       "            </tr>\n",
       "            <tr>\n",
       "                <td align=\"center\" style=\"background-color:#92CCA6\">True</td>\n",
       "                <td align=\"center\" style=\"background-color:#92CCA6\">True</td>\n",
       "                <td align=\"center\" style=\"background-color:#92CCA6\">True</td>\n",
       "                <td align=\"center\" style=\"background-color:#92CCA6\">True</td>\n",
       "                <td align=\"center\" style=\"background-color:#92CCA6\">False</td>\n",
       "            </tr>\n",
       "            <tr>\n",
       "                <td align=\"center\" title=\"Was last hesse call fail?\">Hesse Fail</td>\n",
       "                <td align=\"center\" title=\"Validity of covariance\">HasCov</td>\n",
       "                <td align=\"center\" title=\"Is EDM above goal EDM?\">Above EDM</td>\n",
       "                <td align=\"center\"></td>\n",
       "                <td align=\"center\" title=\"Did last migrad call reach max call limit?\">Reach calllim</td>\n",
       "            </tr>\n",
       "            <tr>\n",
       "                <td align=\"center\" style=\"background-color:#92CCA6\">False</td>\n",
       "                <td align=\"center\" style=\"background-color:#92CCA6\">True</td>\n",
       "                <td align=\"center\" style=\"background-color:#92CCA6\">False</td>\n",
       "                <td align=\"center\"></td>\n",
       "                <td align=\"center\" style=\"background-color:#92CCA6\">False</td>\n",
       "            </tr>\n",
       "        </table>\n",
       "        "
      ]
     },
     "metadata": {},
     "output_type": "display_data"
    },
    {
     "data": {
      "text/html": [
       "\n",
       "        <table>\n",
       "            <tr>\n",
       "                <td><a href=\"#\" onclick=\"$('#qLUJyfwFVY').toggle()\">+</a></td>\n",
       "                <td title=\"Variable name\">Name</td>\n",
       "                <td title=\"Value of parameter\">Value</td>\n",
       "                <td title=\"Parabolic error\">Parab Error</td>\n",
       "                <td title=\"Minos lower error\">Minos Error-</td>\n",
       "                <td title=\"Minos upper error\">Minos Error+</td>\n",
       "                <td title=\"Lower limit of the parameter\">Limit-</td>\n",
       "                <td title=\"Upper limit of the parameter\">Limit+</td>\n",
       "                <td title=\"Is the parameter fixed in the fit\">FIXED</td>\n",
       "            </tr>\n",
       "        \n",
       "            <tr>\n",
       "                <td>1</td>\n",
       "                <td>m</td>\n",
       "                <td>2.88628</td>\n",
       "                <td>0.0736788</td>\n",
       "                <td>0</td>\n",
       "                <td>0</td>\n",
       "                <td></td>\n",
       "                <td></td>\n",
       "                <td></td>\n",
       "            </tr>\n",
       "            \n",
       "            <tr>\n",
       "                <td>2</td>\n",
       "                <td>c</td>\n",
       "                <td>16.1379</td>\n",
       "                <td>0.430946</td>\n",
       "                <td>0</td>\n",
       "                <td>0</td>\n",
       "                <td></td>\n",
       "                <td></td>\n",
       "                <td></td>\n",
       "            </tr>\n",
       "            \n",
       "            </table>\n",
       "        \n",
       "            <pre id=\"qLUJyfwFVY\" style=\"display:none;\">\n",
       "            <textarea rows=\"10\" cols=\"50\" onclick=\"this.select()\" readonly>\\begin{tabular}{|c|r|r|r|r|r|r|r|c|}\n",
       "\\hline\n",
       " & Name & Value & Para Error & Error+ & Error- & Limit+ & Limit- & FIXED\\\\\n",
       "\\hline\n",
       "1 & m & 2.886e+00 & 7.368e-02 &  &  &  &  & \\\\\n",
       "\\hline\n",
       "2 & c & 1.614e+01 & 4.309e-01 &  &  &  &  & \\\\\n",
       "\\hline\n",
       "\\end{tabular}</textarea>\n",
       "            </pre>\n",
       "            "
      ]
     },
     "metadata": {},
     "output_type": "display_data"
    },
    {
     "data": {
      "text/html": [
       "<hr>"
      ]
     },
     "metadata": {},
     "output_type": "display_data"
    }
   ],
   "source": [
    "# minimize it\n",
    "# yes, it gives you a heads up that you didn't give it initial value\n",
    "# we can ignore it for now\n",
    "minuit = iminuit.Minuit(chi2) # see iminuit tutorial on how to give initial value/range/error\n",
    "minuit.migrad(); # MIGRAD is a very stable robust minimization method\n",
    "# you can look at your terminal to see what it is doing;"
   ]
  },
  {
   "cell_type": "code",
   "execution_count": 76,
   "metadata": {
    "collapsed": false
   },
   "outputs": [
    {
     "name": "stdout",
     "output_type": "stream",
     "text": [
      "{'c': 16.137947520534624, 'm': 2.8862774144823855}\n",
      "{'c': 0.4309458211385722, 'm': 0.07367884284273937}\n"
     ]
    }
   ],
   "source": [
    "# The output above is a pretty-printed summary of the fit results from\n",
    "# minuit.print_fmin()\n",
    "# which was automatically called by iminuit.Minuit.migrad() after running MIGRAD.\n",
    "\n",
    "# Let's see our results as Python dictionaries ...\n",
    "print(minuit.values)\n",
    "print(minuit.errors)"
   ]
  },
  {
   "cell_type": "markdown",
   "metadata": {},
   "source": [
    "#### Parabolic error\n",
    "is calculated using the second derivative at the minimum\n",
    "This is good in most cases where the uncertainty is symmetric not much correlation\n",
    "exists. Migrad usually got this accurately but if you want ot be sure\n",
    "call `minuit.hesse()` after calling `minuit.migrad()`.\n",
    "\n",
    "#### Minos Error\n",
    "is obtained by scanning the chi^2 or likelihood profile and find the point\n",
    "where chi^2 is increased by `minuit.errordef`. Note that in the Minuit documentation\n",
    "and output `errordef` is often called `up` ... it's the same thing.\n",
    "\n",
    "#### What `errordef` should I use?\n",
    "\n",
    "As explained in the Minuit documentation you should use:\n",
    "\n",
    "* `errordef = 1` for chi^2 fits\n",
    "* `errordef = 0.5` for likelihood fits\n",
    "\n",
    "`errordef=1` is the default, so you only have to set it to `errordef=0.5`\n",
    "if you are defining a likelihood cost function (if you don't your HESSE and MINOS errors will be incorrect).\n",
    "`probfit` helps you by defining a `default_errordef()` attribute on the\n",
    "cost function classes, which is automatically detected by the `Minuit` constructor\n",
    "and can be used to set `Minuit.errordef` correctly, so that users can't forget.\n",
    "Classes used in this tutorial:\n",
    "\n",
    "* `probfit.Chi2Regression.get_errordef()` and `probfit.BinnedChi2.get_errordef()` return 1.\n",
    "* `probfit.BinnedLH.get_errordef()` and `probfit.UnbinnedLH.get_errordef()` return 0.5."
   ]
  },
  {
   "cell_type": "code",
   "execution_count": 77,
   "metadata": {
    "collapsed": false
   },
   "outputs": [
    {
     "data": {
      "text/plain": [
       "((array([  0.        ,   0.52631579,   1.05263158,   1.57894737,\n",
       "           2.10526316,   2.63157895,   3.15789474,   3.68421053,\n",
       "           4.21052632,   4.73684211,   5.26315789,   5.78947368,\n",
       "           6.31578947,   6.84210526,   7.36842105,   7.89473684,\n",
       "           8.42105263,   8.94736842,   9.47368421,  10.        ]),\n",
       "  array([ 16.76405235,  16.97910458,  19.13663272,  21.9777353 ,\n",
       "          23.18334746,  21.91745896,  25.42377263,  25.90127437,\n",
       "          27.5283601 ,  29.62112482,  30.93351726,  33.82269456,\n",
       "          34.70840615,  35.64799081,  37.54912639,  39.01788485,\n",
       "          41.75723697,  41.636947  ,  43.73412033,  44.14590426])),\n",
       " None,\n",
       " (array([  0.        ,   0.52631579,   1.05263158,   1.57894737,\n",
       "           2.10526316,   2.63157895,   3.15789474,   3.68421053,\n",
       "           4.21052632,   4.73684211,   5.26315789,   5.78947368,\n",
       "           6.31578947,   6.84210526,   7.36842105,   7.89473684,\n",
       "           8.42105263,   8.94736842,   9.47368421,  10.        ]),\n",
       "  array([ 16.13794752,  17.6570409 ,  19.17613427,  20.69522765,\n",
       "          22.21432102,  23.7334144 ,  25.25250778,  26.77160115,\n",
       "          28.29069453,  29.8097879 ,  31.32888128,  32.84797466,\n",
       "          34.36706803,  35.88616141,  37.40525479,  38.92434816,\n",
       "          40.44344154,  41.96253491,  43.48162829,  45.00072167])),\n",
       " [])"
      ]
     },
     "execution_count": 77,
     "metadata": {},
     "output_type": "execute_result"
    },
    {
     "data": {
      "image/png": "[encoded data removed]",
      "text/plain": [
       "<matplotlib.figure.Figure at 0x7f6865996110>"
      ]
     },
     "metadata": {},
     "output_type": "display_data"
    }
   ],
   "source": [
    "# Let's visualize our line\n",
    "chi2.draw(minuit)\n",
    "# looks good;"
   ]
  },
  {
   "cell_type": "code",
   "execution_count": 78,
   "metadata": {
    "collapsed": false
   },
   "outputs": [
    {
     "name": "stdout",
     "output_type": "stream",
     "text": [
      "error matrix:\n",
      "((0.005428571882645087, -0.027142859751431703), (-0.027142859751431703, 0.18571430075679826))\n",
      "correlation matrix:\n",
      "((1.0, -0.8548504260481388), (-0.8548504260481388, 1.0))\n"
     ]
    },
    {
     "data": {
      "text/html": [
       "\n",
       "            <table>\n",
       "                <tr>\n",
       "                    <td><a onclick=\"$('#ySnPCaLuQI').toggle()\" href=\"#\">+</a></td>\n",
       "        \n",
       "            <td>\n",
       "            <div style=\"width:20px;position:relative; width: -moz-fit-content;\">\n",
       "            <div style=\"display:inline-block;-webkit-writing-mode:vertical-rl;-moz-writing-mode: vertical-rl;writing-mode: vertical-rl;\">\n",
       "            m\n",
       "            </div>\n",
       "            </div>\n",
       "            </td>\n",
       "            \n",
       "            <td>\n",
       "            <div style=\"width:20px;position:relative; width: -moz-fit-content;\">\n",
       "            <div style=\"display:inline-block;-webkit-writing-mode:vertical-rl;-moz-writing-mode: vertical-rl;writing-mode: vertical-rl;\">\n",
       "            c\n",
       "            </div>\n",
       "            </div>\n",
       "            </td>\n",
       "            \n",
       "                </tr>\n",
       "                \n",
       "            <tr>\n",
       "                <td>m</td>\n",
       "            \n",
       "                <td style=\"background-color:rgb(255,117,117)\">\n",
       "                1.00\n",
       "                </td>\n",
       "                \n",
       "                <td style=\"background-color:rgb(242,137,127)\">\n",
       "                -0.85\n",
       "                </td>\n",
       "                \n",
       "            </tr>\n",
       "            \n",
       "            <tr>\n",
       "                <td>c</td>\n",
       "            \n",
       "                <td style=\"background-color:rgb(242,137,127)\">\n",
       "                -0.85\n",
       "                </td>\n",
       "                \n",
       "                <td style=\"background-color:rgb(255,117,117)\">\n",
       "                1.00\n",
       "                </td>\n",
       "                \n",
       "            </tr>\n",
       "            </table>\n",
       "\n",
       "            <pre id=\"ySnPCaLuQI\" style=\"display:none;\">\n",
       "            <textarea rows=\"13\" cols=\"50\" onclick=\"this.select()\" readonly>%\\usepackage[table]{xcolor} % include this for color\n",
       "%\\usepackage{rotating} % include this for rotate header\n",
       "%\\documentclass[xcolor=table]{beamer} % for beamer\n",
       "\\begin{tabular}{|c|c|c|}\n",
       "\\hline\n",
       "\\rotatebox{90}{} & \\rotatebox{90}{m} & \\rotatebox{90}{c}\\\\\n",
       "\\hline\n",
       "m & \\cellcolor[RGB]{255,117,117} 1.00 & \\cellcolor[RGB]{242,137,127} -0.85\\\\\n",
       "\\hline\n",
       "c & \\cellcolor[RGB]{242,137,127} -0.85 & \\cellcolor[RGB]{255,117,117} 1.00\\\\\n",
       "\\hline\n",
       "\\end{tabular}</textarea>\n",
       "            </pre>\n",
       "            "
      ]
     },
     "metadata": {},
     "output_type": "display_data"
    }
   ],
   "source": [
    "# Sometimes we want the error matrix (a.k.a. covariance matrix)\n",
    "print('error matrix:')\n",
    "print(minuit.matrix())\n",
    "# or the correlation matrix\n",
    "print('correlation matrix:')\n",
    "print(minuit.matrix(correlation=True))\n",
    "# or a pretty html representation\n",
    "# Note that `print_matrix()` shows the correlation matrix, not the error matrix\n",
    "minuit.print_matrix()"
   ]
  },
  {
   "cell_type": "markdown",
   "metadata": {},
   "source": [
    "## Binned Poisson likelihood fit of a Gaussian distribution\n",
    "In high energy physics, we usually want to fit a distribution to a histogram. Let's look at simple Gaussian distribution."
   ]
  },
  {
   "cell_type": "code",
   "execution_count": 79,
   "metadata": {
    "collapsed": false
   },
   "outputs": [
    {
     "data": {
      "image/png": "[encoded data removed]",
      "text/plain": [
       "<matplotlib.figure.Figure at 0x7f686cb3c550>"
      ]
     },
     "metadata": {},
     "output_type": "display_data"
    }
   ],
   "source": [
    "# First let's make some example data\n",
    "np.random.seed(0)\n",
    "data = np.random.randn(10000) * 4 + 1\n",
    "# sigma = 4 and mean = 1\n",
    "plt.hist(data, bins=100, histtype='step');"
   ]
  },
  {
   "cell_type": "code",
   "execution_count": 80,
   "metadata": {
    "collapsed": false
   },
   "outputs": [],
   "source": [
    "# Define your PDF / model\n",
    "def gauss_pdf(x, mu, sigma):\n",
    "    \"\"\"Normalized Gaussian\"\"\"\n",
    "    return 1 / np.sqrt(2 * np.pi) / sigma * np.exp(-(x - mu) ** 2 / 2. / sigma ** 2)"
   ]
  },
  {
   "cell_type": "code",
   "execution_count": 81,
   "metadata": {
    "collapsed": false
   },
   "outputs": [],
   "source": [
    "# Build your cost function\n",
    "# Here we use binned likelihood\n",
    "binned_likelihood = probfit.BinnedLH(gauss_pdf, data)"
   ]
  },
  {
   "cell_type": "code",
   "execution_count": 82,
   "metadata": {
    "collapsed": false
   },
   "outputs": [
    {
     "name": "stderr",
     "output_type": "stream",
     "text": [
      "/root/miniconda/envs/rep_py2/lib/python2.7/site-packages/ipykernel/__main__.py:3: InitialParamWarning: Parameter mu does not have initial value. Assume 0.\n",
      "  app.launch_new_instance()\n",
      "/root/miniconda/envs/rep_py2/lib/python2.7/site-packages/ipykernel/__main__.py:3: InitialParamWarning: Parameter mu is floating but does not have initial step size. Assume 1.\n",
      "  app.launch_new_instance()\n",
      "/root/miniconda/envs/rep_py2/lib/python2.7/site-packages/ipykernel/__main__.py:3: InitialParamWarning: Parameter sigma is floating but does not have initial step size. Assume 1.\n",
      "  app.launch_new_instance()\n"
     ]
    },
    {
     "data": {
      "image/png": "[encoded data removed]",
      "text/plain": [
       "<matplotlib.figure.Figure at 0x7f686ca5e590>"
      ]
     },
     "metadata": {},
     "output_type": "display_data"
    }
   ],
   "source": [
    "# Create the minuit\n",
    "# and give an initial value for the sigma parameter\n",
    "minuit = iminuit.Minuit(binned_likelihood, sigma=3)\n",
    "# Remember: minuit.errordef is automatically set to 0.5\n",
    "# as required for likelihood fits (this was explained above)\n",
    "binned_likelihood.draw(minuit);"
   ]
  },
  {
   "cell_type": "code",
   "execution_count": 83,
   "metadata": {
    "collapsed": false
   },
   "outputs": [
    {
     "name": "stderr",
     "output_type": "stream",
     "text": [
      "/root/miniconda/envs/rep_py2/lib/python2.7/site-packages/ipykernel/__main__.py:1: LogWarning: x is really small return 0\n",
      "  if __name__ == '__main__':\n"
     ]
    },
    {
     "data": {
      "text/html": [
       "<hr>"
      ]
     },
     "metadata": {},
     "output_type": "display_data"
    },
    {
     "data": {
      "text/html": [
       "\n",
       "        <table>\n",
       "            <tr>\n",
       "                <td title=\"Minimum value of function\">FCN = 20.9368166553</td>\n",
       "                <td title=\"Total number of call to FCN so far\">TOTAL NCALL = 46</td>\n",
       "                <td title=\"Number of call in last migrad\">NCALLS = 46</td>\n",
       "            </tr>\n",
       "            <tr>\n",
       "                <td title=\"Estimated distance to minimum\">EDM = 1.45381812614e-06</td>\n",
       "                <td title=\"Maximum EDM definition of convergence\">GOAL EDM = 5e-06</td>\n",
       "                <td title=\"Error def. Amount of increase in FCN to be defined as 1 standard deviation\">\n",
       "                UP = 0.5</td>\n",
       "            </tr>\n",
       "        </table>\n",
       "        \n",
       "        <table>\n",
       "            <tr>\n",
       "                <td align=\"center\" title=\"Validity of the migrad call\">Valid</td>\n",
       "                <td align=\"center\" title=\"Validity of parameters\">Valid Param</td>\n",
       "                <td align=\"center\" title=\"Is Covariance matrix accurate?\">Accurate Covar</td>\n",
       "                <td align=\"center\" title=\"Positive definiteness of covariance matrix\">PosDef</td>\n",
       "                <td align=\"center\" title=\"Was covariance matrix made posdef by adding diagonal element\">Made PosDef</td>\n",
       "            </tr>\n",
       "            <tr>\n",
       "                <td align=\"center\" style=\"background-color:#92CCA6\">True</td>\n",
       "                <td align=\"center\" style=\"background-color:#92CCA6\">True</td>\n",
       "                <td align=\"center\" style=\"background-color:#92CCA6\">True</td>\n",
       "                <td align=\"center\" style=\"background-color:#92CCA6\">True</td>\n",
       "                <td align=\"center\" style=\"background-color:#92CCA6\">False</td>\n",
       "            </tr>\n",
       "            <tr>\n",
       "                <td align=\"center\" title=\"Was last hesse call fail?\">Hesse Fail</td>\n",
       "                <td align=\"center\" title=\"Validity of covariance\">HasCov</td>\n",
       "                <td align=\"center\" title=\"Is EDM above goal EDM?\">Above EDM</td>\n",
       "                <td align=\"center\"></td>\n",
       "                <td align=\"center\" title=\"Did last migrad call reach max call limit?\">Reach calllim</td>\n",
       "            </tr>\n",
       "            <tr>\n",
       "                <td align=\"center\" style=\"background-color:#92CCA6\">False</td>\n",
       "                <td align=\"center\" style=\"background-color:#92CCA6\">True</td>\n",
       "                <td align=\"center\" style=\"background-color:#92CCA6\">False</td>\n",
       "                <td align=\"center\"></td>\n",
       "                <td align=\"center\" style=\"background-color:#92CCA6\">False</td>\n",
       "            </tr>\n",
       "        </table>\n",
       "        "
      ]
     },
     "metadata": {},
     "output_type": "display_data"
    },
    {
     "data": {
      "text/html": [
       "\n",
       "        <table>\n",
       "            <tr>\n",
       "                <td><a href=\"#\" onclick=\"$('#azTmqTjDmY').toggle()\">+</a></td>\n",
       "                <td title=\"Variable name\">Name</td>\n",
       "                <td title=\"Value of parameter\">Value</td>\n",
       "                <td title=\"Parabolic error\">Parab Error</td>\n",
       "                <td title=\"Minos lower error\">Minos Error-</td>\n",
       "                <td title=\"Minos upper error\">Minos Error+</td>\n",
       "                <td title=\"Lower limit of the parameter\">Limit-</td>\n",
       "                <td title=\"Upper limit of the parameter\">Limit+</td>\n",
       "                <td title=\"Is the parameter fixed in the fit\">FIXED</td>\n",
       "            </tr>\n",
       "        \n",
       "            <tr>\n",
       "                <td>1</td>\n",
       "                <td>mu</td>\n",
       "                <td>0.925875</td>\n",
       "                <td>0.039626</td>\n",
       "                <td>0</td>\n",
       "                <td>0</td>\n",
       "                <td></td>\n",
       "                <td></td>\n",
       "                <td></td>\n",
       "            </tr>\n",
       "            \n",
       "            <tr>\n",
       "                <td>2</td>\n",
       "                <td>sigma</td>\n",
       "                <td>3.95238</td>\n",
       "                <td>0.0282674</td>\n",
       "                <td>0</td>\n",
       "                <td>0</td>\n",
       "                <td></td>\n",
       "                <td></td>\n",
       "                <td></td>\n",
       "            </tr>\n",
       "            \n",
       "            </table>\n",
       "        \n",
       "            <pre id=\"azTmqTjDmY\" style=\"display:none;\">\n",
       "            <textarea rows=\"10\" cols=\"50\" onclick=\"this.select()\" readonly>\\begin{tabular}{|c|r|r|r|r|r|r|r|c|}\n",
       "\\hline\n",
       " & Name & Value & Para Error & Error+ & Error- & Limit+ & Limit- & FIXED\\\\\n",
       "\\hline\n",
       "1 & $\\mu$ & 9.259e-01 & 3.963e-02 &  &  &  &  & \\\\\n",
       "\\hline\n",
       "2 & $\\sigma$ & 3.952e+00 & 2.827e-02 &  &  &  &  & \\\\\n",
       "\\hline\n",
       "\\end{tabular}</textarea>\n",
       "            </pre>\n",
       "            "
      ]
     },
     "metadata": {},
     "output_type": "display_data"
    },
    {
     "data": {
      "text/html": [
       "<hr>"
      ]
     },
     "metadata": {},
     "output_type": "display_data"
    },
    {
     "data": {
      "text/plain": [
       "({'hesse_failed': False, 'has_reached_call_limit': False, 'has_accurate_covar': True, 'has_posdef_covar': True, 'up': 0.5, 'edm': 1.4538181261375696e-06, 'is_valid': True, 'is_above_max_edm': False, 'has_covariance': True, 'has_made_posdef_covar': False, 'has_valid_parameters': True, 'fval': 20.936816655253306, 'nfcn': 46},\n",
       " [{'is_const': False, 'name': 'mu', 'has_limits': False, 'value': 0.9258754454754967, 'number': 0, 'has_lower_limit': False, 'upper_limit': 0.0, 'lower_limit': 0.0, 'has_upper_limit': False, 'error': 0.03962599040295913, 'is_fixed': False},\n",
       "  {'is_const': False, 'name': 'sigma', 'has_limits': False, 'value': 3.952381323607855, 'number': 1, 'has_lower_limit': False, 'upper_limit': 0.0, 'lower_limit': 0.0, 'has_upper_limit': False, 'error': 0.02826740732189662, 'is_fixed': False}])"
      ]
     },
     "execution_count": 83,
     "metadata": {},
     "output_type": "execute_result"
    }
   ],
   "source": [
    "minuit.migrad()\n",
    "# Like in all binned fit with long zero tail. It will have to do something about the zero bin\n",
    "# probfit.BinnedLH does handle them gracefully but will give you a warning;"
   ]
  },
  {
   "cell_type": "code",
   "execution_count": 84,
   "metadata": {
    "collapsed": false
   },
   "outputs": [
    {
     "data": {
      "image/png": "[encoded data removed]",
      "text/plain": [
       "<matplotlib.figure.Figure at 0x7f6817ccd710>"
      ]
     },
     "metadata": {},
     "output_type": "display_data"
    }
   ],
   "source": [
    "# Visually check if the fit succeeded by plotting the model over the data\n",
    "binned_likelihood.draw(minuit); # uncertainty is given by symmetric Poisson;"
   ]
  },
  {
   "cell_type": "code",
   "execution_count": 85,
   "metadata": {
    "collapsed": false
   },
   "outputs": [
    {
     "name": "stdout",
     "output_type": "stream",
     "text": [
      "Value: {'mu': 0.9258754454754967, 'sigma': 3.952381323607855}\n",
      "Error: {'mu': 0.03962599040295913, 'sigma': 0.02826740732189662}\n"
     ]
    }
   ],
   "source": [
    "# Let's see the result\n",
    "print('Value: {}'.format(minuit.values))\n",
    "print('Error: {}'.format(minuit.errors))"
   ]
  },
  {
   "cell_type": "code",
   "execution_count": 86,
   "metadata": {
    "collapsed": false
   },
   "outputs": [
    {
     "data": {
      "text/html": [
       "<hr>"
      ]
     },
     "metadata": {},
     "output_type": "display_data"
    },
    {
     "data": {
      "text/html": [
       "\n",
       "        <table>\n",
       "            <tr>\n",
       "                <td title=\"Minimum value of function\">FCN = 20.9368166553</td>\n",
       "                <td title=\"Total number of call to FCN so far\">TOTAL NCALL = 46</td>\n",
       "                <td title=\"Number of call in last migrad\">NCALLS = 46</td>\n",
       "            </tr>\n",
       "            <tr>\n",
       "                <td title=\"Estimated distance to minimum\">EDM = 1.45381812614e-06</td>\n",
       "                <td title=\"Maximum EDM definition of convergence\">GOAL EDM = 5e-06</td>\n",
       "                <td title=\"Error def. Amount of increase in FCN to be defined as 1 standard deviation\">\n",
       "                UP = 0.5</td>\n",
       "            </tr>\n",
       "        </table>\n",
       "        \n",
       "        <table>\n",
       "            <tr>\n",
       "                <td align=\"center\" title=\"Validity of the migrad call\">Valid</td>\n",
       "                <td align=\"center\" title=\"Validity of parameters\">Valid Param</td>\n",
       "                <td align=\"center\" title=\"Is Covariance matrix accurate?\">Accurate Covar</td>\n",
       "                <td align=\"center\" title=\"Positive definiteness of covariance matrix\">PosDef</td>\n",
       "                <td align=\"center\" title=\"Was covariance matrix made posdef by adding diagonal element\">Made PosDef</td>\n",
       "            </tr>\n",
       "            <tr>\n",
       "                <td align=\"center\" style=\"background-color:#92CCA6\">True</td>\n",
       "                <td align=\"center\" style=\"background-color:#92CCA6\">True</td>\n",
       "                <td align=\"center\" style=\"background-color:#92CCA6\">True</td>\n",
       "                <td align=\"center\" style=\"background-color:#92CCA6\">True</td>\n",
       "                <td align=\"center\" style=\"background-color:#92CCA6\">False</td>\n",
       "            </tr>\n",
       "            <tr>\n",
       "                <td align=\"center\" title=\"Was last hesse call fail?\">Hesse Fail</td>\n",
       "                <td align=\"center\" title=\"Validity of covariance\">HasCov</td>\n",
       "                <td align=\"center\" title=\"Is EDM above goal EDM?\">Above EDM</td>\n",
       "                <td align=\"center\"></td>\n",
       "                <td align=\"center\" title=\"Did last migrad call reach max call limit?\">Reach calllim</td>\n",
       "            </tr>\n",
       "            <tr>\n",
       "                <td align=\"center\" style=\"background-color:#92CCA6\">False</td>\n",
       "                <td align=\"center\" style=\"background-color:#92CCA6\">True</td>\n",
       "                <td align=\"center\" style=\"background-color:#92CCA6\">False</td>\n",
       "                <td align=\"center\"></td>\n",
       "                <td align=\"center\" style=\"background-color:#92CCA6\">False</td>\n",
       "            </tr>\n",
       "        </table>\n",
       "        "
      ]
     },
     "metadata": {},
     "output_type": "display_data"
    },
    {
     "data": {
      "text/html": [
       "\n",
       "        <table>\n",
       "            <tr>\n",
       "                <td><a href=\"#\" onclick=\"$('#PxeqAWfCKC').toggle()\">+</a></td>\n",
       "                <td title=\"Variable name\">Name</td>\n",
       "                <td title=\"Value of parameter\">Value</td>\n",
       "                <td title=\"Parabolic error\">Parab Error</td>\n",
       "                <td title=\"Minos lower error\">Minos Error-</td>\n",
       "                <td title=\"Minos upper error\">Minos Error+</td>\n",
       "                <td title=\"Lower limit of the parameter\">Limit-</td>\n",
       "                <td title=\"Upper limit of the parameter\">Limit+</td>\n",
       "                <td title=\"Is the parameter fixed in the fit\">FIXED</td>\n",
       "            </tr>\n",
       "        \n",
       "            <tr>\n",
       "                <td>1</td>\n",
       "                <td>mu</td>\n",
       "                <td>0.925875</td>\n",
       "                <td>0.039626</td>\n",
       "                <td>0</td>\n",
       "                <td>0</td>\n",
       "                <td></td>\n",
       "                <td></td>\n",
       "                <td></td>\n",
       "            </tr>\n",
       "            \n",
       "            <tr>\n",
       "                <td>2</td>\n",
       "                <td>sigma</td>\n",
       "                <td>3.95238</td>\n",
       "                <td>0.0282674</td>\n",
       "                <td>0</td>\n",
       "                <td>0</td>\n",
       "                <td></td>\n",
       "                <td></td>\n",
       "                <td></td>\n",
       "            </tr>\n",
       "            \n",
       "            </table>\n",
       "        \n",
       "            <pre id=\"PxeqAWfCKC\" style=\"display:none;\">\n",
       "            <textarea rows=\"10\" cols=\"50\" onclick=\"this.select()\" readonly>\\begin{tabular}{|c|r|r|r|r|r|r|r|c|}\n",
       "\\hline\n",
       " & Name & Value & Para Error & Error+ & Error- & Limit+ & Limit- & FIXED\\\\\n",
       "\\hline\n",
       "1 & $\\mu$ & 9.259e-01 & 3.963e-02 &  &  &  &  & \\\\\n",
       "\\hline\n",
       "2 & $\\sigma$ & 3.952e+00 & 2.827e-02 &  &  &  &  & \\\\\n",
       "\\hline\n",
       "\\end{tabular}</textarea>\n",
       "            </pre>\n",
       "            "
      ]
     },
     "metadata": {},
     "output_type": "display_data"
    },
    {
     "data": {
      "text/html": [
       "<hr>"
      ]
     },
     "metadata": {},
     "output_type": "display_data"
    },
    {
     "data": {
      "text/html": [
       "\n",
       "            <table>\n",
       "                <tr>\n",
       "                    <td><a onclick=\"$('#QCYFExFuDp').toggle()\" href=\"#\">+</a></td>\n",
       "        \n",
       "            <td>\n",
       "            <div style=\"width:20px;position:relative; width: -moz-fit-content;\">\n",
       "            <div style=\"display:inline-block;-webkit-writing-mode:vertical-rl;-moz-writing-mode: vertical-rl;writing-mode: vertical-rl;\">\n",
       "            mu\n",
       "            </div>\n",
       "            </div>\n",
       "            </td>\n",
       "            \n",
       "            <td>\n",
       "            <div style=\"width:20px;position:relative; width: -moz-fit-content;\">\n",
       "            <div style=\"display:inline-block;-webkit-writing-mode:vertical-rl;-moz-writing-mode: vertical-rl;writing-mode: vertical-rl;\">\n",
       "            sigma\n",
       "            </div>\n",
       "            </div>\n",
       "            </td>\n",
       "            \n",
       "                </tr>\n",
       "                \n",
       "            <tr>\n",
       "                <td>mu</td>\n",
       "            \n",
       "                <td style=\"background-color:rgb(255,117,117)\">\n",
       "                1.00\n",
       "                </td>\n",
       "                \n",
       "                <td style=\"background-color:rgb(163,254,186)\">\n",
       "                -0.00\n",
       "                </td>\n",
       "                \n",
       "            </tr>\n",
       "            \n",
       "            <tr>\n",
       "                <td>sigma</td>\n",
       "            \n",
       "                <td style=\"background-color:rgb(163,254,186)\">\n",
       "                -0.00\n",
       "                </td>\n",
       "                \n",
       "                <td style=\"background-color:rgb(255,117,117)\">\n",
       "                1.00\n",
       "                </td>\n",
       "                \n",
       "            </tr>\n",
       "            </table>\n",
       "\n",
       "            <pre id=\"QCYFExFuDp\" style=\"display:none;\">\n",
       "            <textarea rows=\"13\" cols=\"50\" onclick=\"this.select()\" readonly>%\\usepackage[table]{xcolor} % include this for color\n",
       "%\\usepackage{rotating} % include this for rotate header\n",
       "%\\documentclass[xcolor=table]{beamer} % for beamer\n",
       "\\begin{tabular}{|c|c|c|}\n",
       "\\hline\n",
       "\\rotatebox{90}{} & \\rotatebox{90}{$\\mu$} & \\rotatebox{90}{$\\sigma$}\\\\\n",
       "\\hline\n",
       "$\\mu$ & \\cellcolor[RGB]{255,117,117} 1.00 & \\cellcolor[RGB]{163,254,186} -0.00\\\\\n",
       "\\hline\n",
       "$\\sigma$ & \\cellcolor[RGB]{163,254,186} -0.00 & \\cellcolor[RGB]{255,117,117} 1.00\\\\\n",
       "\\hline\n",
       "\\end{tabular}</textarea>\n",
       "            </pre>\n",
       "            "
      ]
     },
     "metadata": {},
     "output_type": "display_data"
    }
   ],
   "source": [
    "# That printout can get out of hand quickly\n",
    "minuit.print_fmin()\n",
    "# Also print the correlation matrix\n",
    "minuit.print_matrix()"
   ]
  },
  {
   "cell_type": "code",
   "execution_count": 87,
   "metadata": {
    "collapsed": false
   },
   "outputs": [
    {
     "name": "stderr",
     "output_type": "stream",
     "text": [
      "/root/miniconda/envs/rep_py2/lib/python2.7/site-packages/ipykernel/__main__.py:3: LogWarning: x is really small return 0\n",
      "  app.launch_new_instance()\n"
     ]
    },
    {
     "data": {
      "image/png": "[encoded data removed]",
      "text/plain": [
       "<matplotlib.figure.Figure at 0x7f68784f9b50>"
      ]
     },
     "metadata": {},
     "output_type": "display_data"
    }
   ],
   "source": [
    "# Looking at a likelihood profile is a good method\n",
    "# to check that the reported errors make sense\n",
    "minuit.draw_mnprofile('mu');"
   ]
  },
  {
   "cell_type": "code",
   "execution_count": 88,
   "metadata": {
    "collapsed": false
   },
   "outputs": [
    {
     "data": {
      "image/png": "[encoded data removed]",
      "text/plain": [
       "<matplotlib.figure.Figure at 0x7f68784f9fd0>"
      ]
     },
     "metadata": {},
     "output_type": "display_data"
    }
   ],
   "source": [
    "# Plot a 2d contour error\n",
    "# You can notice that it takes some time to draw\n",
    "# We will this is because our PDF is defined in Python\n",
    "# We will show how to speed this up later\n",
    "minuit.draw_mncontour('mu', 'sigma');"
   ]
  },
  {
   "cell_type": "markdown",
   "metadata": {},
   "source": [
    "## Chi^2 fit of a Gaussian distribution\n",
    "\n",
    "Let's explore another popular cost function chi^2.\n",
    "Chi^2 is bad when you have bin with 0.\n",
    "ROOT just ignore.\n",
    "ROOFIT does something I don't remember.\n",
    "But it's best to avoid using chi^2 when you have bin with 0 count."
   ]
  },
  {
   "cell_type": "code",
   "execution_count": 89,
   "metadata": {
    "collapsed": false
   },
   "outputs": [
    {
     "data": {
      "image/png": "[encoded data removed]",
      "text/plain": [
       "<matplotlib.figure.Figure at 0x7f686cbb1790>"
      ]
     },
     "metadata": {},
     "output_type": "display_data"
    }
   ],
   "source": [
    "# We will use the same data as in the previous example\n",
    "np.random.seed(0)\n",
    "data = np.random.randn(10000) * 4 + 1\n",
    "# sigma = 4 and mean = 1\n",
    "plt.hist(data, bins=100, histtype='step');"
   ]
  },
  {
   "cell_type": "code",
   "execution_count": 90,
   "metadata": {
    "collapsed": false
   },
   "outputs": [],
   "source": [
    "# We will use the same PDF as in the previous example\n",
    "def gauss_pdf(x, mu, sigma):\n",
    "    \"\"\"Normalized Gaussian\"\"\"\n",
    "    return 1 / np.sqrt(2 * np.pi) / sigma * np.exp(-(x - mu) **2 / 2. / sigma ** 2)"
   ]
  },
  {
   "cell_type": "code",
   "execution_count": 91,
   "metadata": {
    "collapsed": false
   },
   "outputs": [],
   "source": [
    "# Binned chi^2 fit only makes sense (for now) for extended PDFs\n",
    "# probfit.Extended adds a norm parameter with name 'N'\n",
    "extended_gauss_pdf = probfit.Extended(gauss_pdf)"
   ]
  },
  {
   "cell_type": "code",
   "execution_count": 92,
   "metadata": {
    "collapsed": false
   },
   "outputs": [
    {
     "data": {
      "text/plain": [
       "['x', 'mu', 'sigma', 'N']"
      ]
     },
     "execution_count": 92,
     "metadata": {},
     "output_type": "execute_result"
    }
   ],
   "source": [
    "# Describe the function signature\n",
    "iminuit.describe(extended_gauss_pdf)"
   ]
  },
  {
   "cell_type": "code",
   "execution_count": 93,
   "metadata": {
    "collapsed": false
   },
   "outputs": [],
   "source": [
    "# Chi^2 distribution fit is really bad for distribution with long tail\n",
    "# since when bin count=0... poisson error=0 and blows up chi^2\n",
    "# so give it some range\n",
    "chi2 = probfit.BinnedChi2(extended_gauss_pdf, data, bound=(-7,10))\n",
    "# This time we use the pedantic=False option to tell Minuit\n",
    "# that we don't want warnings about parameters without initial\n",
    "# value or step size.\n",
    "# And print_level=0 means that no output is generated\n",
    "minuit = iminuit.Minuit(chi2, sigma=1, pedantic=False, print_level=0)\n",
    "minuit.migrad();"
   ]
  },
  {
   "cell_type": "code",
   "execution_count": 94,
   "metadata": {
    "collapsed": false
   },
   "outputs": [
    {
     "data": {
      "text/html": [
       "<hr>"
      ]
     },
     "metadata": {},
     "output_type": "display_data"
    },
    {
     "data": {
      "text/html": [
       "\n",
       "        <table>\n",
       "            <tr>\n",
       "                <td title=\"Minimum value of function\">FCN = 36.5025998638</td>\n",
       "                <td title=\"Total number of call to FCN so far\">TOTAL NCALL = 109</td>\n",
       "                <td title=\"Number of call in last migrad\">NCALLS = 109</td>\n",
       "            </tr>\n",
       "            <tr>\n",
       "                <td title=\"Estimated distance to minimum\">EDM = 4.6474267658e-07</td>\n",
       "                <td title=\"Maximum EDM definition of convergence\">GOAL EDM = 1e-05</td>\n",
       "                <td title=\"Error def. Amount of increase in FCN to be defined as 1 standard deviation\">\n",
       "                UP = 1.0</td>\n",
       "            </tr>\n",
       "        </table>\n",
       "        \n",
       "        <table>\n",
       "            <tr>\n",
       "                <td align=\"center\" title=\"Validity of the migrad call\">Valid</td>\n",
       "                <td align=\"center\" title=\"Validity of parameters\">Valid Param</td>\n",
       "                <td align=\"center\" title=\"Is Covariance matrix accurate?\">Accurate Covar</td>\n",
       "                <td align=\"center\" title=\"Positive definiteness of covariance matrix\">PosDef</td>\n",
       "                <td align=\"center\" title=\"Was covariance matrix made posdef by adding diagonal element\">Made PosDef</td>\n",
       "            </tr>\n",
       "            <tr>\n",
       "                <td align=\"center\" style=\"background-color:#92CCA6\">True</td>\n",
       "                <td align=\"center\" style=\"background-color:#92CCA6\">True</td>\n",
       "                <td align=\"center\" style=\"background-color:#92CCA6\">True</td>\n",
       "                <td align=\"center\" style=\"background-color:#92CCA6\">True</td>\n",
       "                <td align=\"center\" style=\"background-color:#92CCA6\">False</td>\n",
       "            </tr>\n",
       "            <tr>\n",
       "                <td align=\"center\" title=\"Was last hesse call fail?\">Hesse Fail</td>\n",
       "                <td align=\"center\" title=\"Validity of covariance\">HasCov</td>\n",
       "                <td align=\"center\" title=\"Is EDM above goal EDM?\">Above EDM</td>\n",
       "                <td align=\"center\"></td>\n",
       "                <td align=\"center\" title=\"Did last migrad call reach max call limit?\">Reach calllim</td>\n",
       "            </tr>\n",
       "            <tr>\n",
       "                <td align=\"center\" style=\"background-color:#92CCA6\">False</td>\n",
       "                <td align=\"center\" style=\"background-color:#92CCA6\">True</td>\n",
       "                <td align=\"center\" style=\"background-color:#92CCA6\">False</td>\n",
       "                <td align=\"center\"></td>\n",
       "                <td align=\"center\" style=\"background-color:#92CCA6\">False</td>\n",
       "            </tr>\n",
       "        </table>\n",
       "        "
      ]
     },
     "metadata": {},
     "output_type": "display_data"
    },
    {
     "data": {
      "text/html": [
       "\n",
       "        <table>\n",
       "            <tr>\n",
       "                <td><a href=\"#\" onclick=\"$('#jjFIyeNTWR').toggle()\">+</a></td>\n",
       "                <td title=\"Variable name\">Name</td>\n",
       "                <td title=\"Value of parameter\">Value</td>\n",
       "                <td title=\"Parabolic error\">Parab Error</td>\n",
       "                <td title=\"Minos lower error\">Minos Error-</td>\n",
       "                <td title=\"Minos upper error\">Minos Error+</td>\n",
       "                <td title=\"Lower limit of the parameter\">Limit-</td>\n",
       "                <td title=\"Upper limit of the parameter\">Limit+</td>\n",
       "                <td title=\"Is the parameter fixed in the fit\">FIXED</td>\n",
       "            </tr>\n",
       "        \n",
       "            <tr>\n",
       "                <td>1</td>\n",
       "                <td>mu</td>\n",
       "                <td>0.906468</td>\n",
       "                <td>0.0448253</td>\n",
       "                <td>0</td>\n",
       "                <td>0</td>\n",
       "                <td></td>\n",
       "                <td></td>\n",
       "                <td></td>\n",
       "            </tr>\n",
       "            \n",
       "            <tr>\n",
       "                <td>2</td>\n",
       "                <td>sigma</td>\n",
       "                <td>3.95905</td>\n",
       "                <td>0.0411286</td>\n",
       "                <td>0</td>\n",
       "                <td>0</td>\n",
       "                <td></td>\n",
       "                <td></td>\n",
       "                <td></td>\n",
       "            </tr>\n",
       "            \n",
       "            <tr>\n",
       "                <td>3</td>\n",
       "                <td>N</td>\n",
       "                <td>9969.72</td>\n",
       "                <td>103.372</td>\n",
       "                <td>0</td>\n",
       "                <td>0</td>\n",
       "                <td></td>\n",
       "                <td></td>\n",
       "                <td></td>\n",
       "            </tr>\n",
       "            \n",
       "            </table>\n",
       "        \n",
       "            <pre id=\"jjFIyeNTWR\" style=\"display:none;\">\n",
       "            <textarea rows=\"12\" cols=\"50\" onclick=\"this.select()\" readonly>\\begin{tabular}{|c|r|r|r|r|r|r|r|c|}\n",
       "\\hline\n",
       " & Name & Value & Para Error & Error+ & Error- & Limit+ & Limit- & FIXED\\\\\n",
       "\\hline\n",
       "1 & $\\mu$ & 9.065e-01 & 4.483e-02 &  &  &  &  & \\\\\n",
       "\\hline\n",
       "2 & $\\sigma$ & 3.959e+00 & 4.113e-02 &  &  &  &  & \\\\\n",
       "\\hline\n",
       "3 & N & 9.970e+03 & 1.034e+02 &  &  &  &  & \\\\\n",
       "\\hline\n",
       "\\end{tabular}</textarea>\n",
       "            </pre>\n",
       "            "
      ]
     },
     "metadata": {},
     "output_type": "display_data"
    },
    {
     "data": {
      "text/html": [
       "<hr>"
      ]
     },
     "metadata": {},
     "output_type": "display_data"
    },
    {
     "data": {
      "text/html": [
       "\n",
       "            <table>\n",
       "                <tr>\n",
       "                    <td><a onclick=\"$('#UWCuKoQSUE').toggle()\" href=\"#\">+</a></td>\n",
       "        \n",
       "            <td>\n",
       "            <div style=\"width:20px;position:relative; width: -moz-fit-content;\">\n",
       "            <div style=\"display:inline-block;-webkit-writing-mode:vertical-rl;-moz-writing-mode: vertical-rl;writing-mode: vertical-rl;\">\n",
       "            mu\n",
       "            </div>\n",
       "            </div>\n",
       "            </td>\n",
       "            \n",
       "            <td>\n",
       "            <div style=\"width:20px;position:relative; width: -moz-fit-content;\">\n",
       "            <div style=\"display:inline-block;-webkit-writing-mode:vertical-rl;-moz-writing-mode: vertical-rl;writing-mode: vertical-rl;\">\n",
       "            sigma\n",
       "            </div>\n",
       "            </div>\n",
       "            </td>\n",
       "            \n",
       "            <td>\n",
       "            <div style=\"width:20px;position:relative; width: -moz-fit-content;\">\n",
       "            <div style=\"display:inline-block;-webkit-writing-mode:vertical-rl;-moz-writing-mode: vertical-rl;writing-mode: vertical-rl;\">\n",
       "            N\n",
       "            </div>\n",
       "            </div>\n",
       "            </td>\n",
       "            \n",
       "                </tr>\n",
       "                \n",
       "            <tr>\n",
       "                <td>mu</td>\n",
       "            \n",
       "                <td style=\"background-color:rgb(255,117,117)\">\n",
       "                1.00\n",
       "                </td>\n",
       "                \n",
       "                <td style=\"background-color:rgb(172,240,179)\">\n",
       "                -0.10\n",
       "                </td>\n",
       "                \n",
       "                <td style=\"background-color:rgb(167,247,183)\">\n",
       "                -0.05\n",
       "                </td>\n",
       "                \n",
       "            </tr>\n",
       "            \n",
       "            <tr>\n",
       "                <td>sigma</td>\n",
       "            \n",
       "                <td style=\"background-color:rgb(172,240,179)\">\n",
       "                -0.10\n",
       "                </td>\n",
       "                \n",
       "                <td style=\"background-color:rgb(255,117,117)\">\n",
       "                1.00\n",
       "                </td>\n",
       "                \n",
       "                <td style=\"background-color:rgb(180,229,173)\">\n",
       "                0.18\n",
       "                </td>\n",
       "                \n",
       "            </tr>\n",
       "            \n",
       "            <tr>\n",
       "                <td>N</td>\n",
       "            \n",
       "                <td style=\"background-color:rgb(167,247,183)\">\n",
       "                -0.05\n",
       "                </td>\n",
       "                \n",
       "                <td style=\"background-color:rgb(180,229,173)\">\n",
       "                0.18\n",
       "                </td>\n",
       "                \n",
       "                <td style=\"background-color:rgb(255,117,117)\">\n",
       "                1.00\n",
       "                </td>\n",
       "                \n",
       "            </tr>\n",
       "            </table>\n",
       "\n",
       "            <pre id=\"UWCuKoQSUE\" style=\"display:none;\">\n",
       "            <textarea rows=\"15\" cols=\"50\" onclick=\"this.select()\" readonly>%\\usepackage[table]{xcolor} % include this for color\n",
       "%\\usepackage{rotating} % include this for rotate header\n",
       "%\\documentclass[xcolor=table]{beamer} % for beamer\n",
       "\\begin{tabular}{|c|c|c|c|}\n",
       "\\hline\n",
       "\\rotatebox{90}{} & \\rotatebox{90}{$\\mu$} & \\rotatebox{90}{$\\sigma$} & \\rotatebox{90}{N}\\\\\n",
       "\\hline\n",
       "$\\mu$ & \\cellcolor[RGB]{255,117,117} 1.00 & \\cellcolor[RGB]{172,240,179} -0.10 & \\cellcolor[RGB]{167,247,183} -0.05\\\\\n",
       "\\hline\n",
       "$\\sigma$ & \\cellcolor[RGB]{172,240,179} -0.10 & \\cellcolor[RGB]{255,117,117} 1.00 & \\cellcolor[RGB]{180,229,173} 0.18\\\\\n",
       "\\hline\n",
       "N & \\cellcolor[RGB]{167,247,183} -0.05 & \\cellcolor[RGB]{180,229,173} 0.18 & \\cellcolor[RGB]{255,117,117} 1.00\\\\\n",
       "\\hline\n",
       "\\end{tabular}</textarea>\n",
       "            </pre>\n",
       "            "
      ]
     },
     "metadata": {},
     "output_type": "display_data"
    },
    {
     "data": {
      "image/png": "[encoded data removed]",
      "text/plain": [
       "<matplotlib.figure.Figure at 0x7f681e086390>"
      ]
     },
     "metadata": {},
     "output_type": "display_data"
    }
   ],
   "source": [
    "# Now let's look at the results\n",
    "minuit.print_fmin()\n",
    "minuit.print_matrix()\n",
    "chi2.draw(minuit);"
   ]
  },
  {
   "cell_type": "markdown",
   "metadata": {},
   "source": [
    "## Fast unbinned likelihood fit Cython\n",
    "\n",
    "Unbinned likelihood is computationally very very expensive if you have a lot of data.\n",
    "It's now a good time that we talk about how to speed things up with [Cython](http://cython.org)."
   ]
  },
  {
   "cell_type": "code",
   "execution_count": 95,
   "metadata": {
    "collapsed": false
   },
   "outputs": [
    {
     "data": {
      "image/png": "[encoded data removed]",
      "text/plain": [
       "<matplotlib.figure.Figure at 0x7f681e086410>"
      ]
     },
     "metadata": {},
     "output_type": "display_data"
    }
   ],
   "source": [
    "# We will use the same data as in the previous example\n",
    "np.random.seed(0)\n",
    "data = np.random.randn(10000) * 4 + 1\n",
    "# sigma = 4 and mean = 1\n",
    "plt.hist(data, bins=100, histtype='step');"
   ]
  },
  {
   "cell_type": "code",
   "execution_count": 96,
   "metadata": {
    "collapsed": false
   },
   "outputs": [
    {
     "name": "stdout",
     "output_type": "stream",
     "text": [
      "The Cython extension is already loaded. To reload it, use:\n",
      "  %reload_ext Cython\n"
     ]
    }
   ],
   "source": [
    "# We want to speed things up with Cython\n",
    "%load_ext Cython"
   ]
  },
  {
   "cell_type": "code",
   "execution_count": 97,
   "metadata": {
    "collapsed": false
   },
   "outputs": [],
   "source": [
    "%%cython\n",
    "# Same gaussian distribution but now written in Cython\n",
    "# The %%cython IPython does the following:\n",
    "# * Call Cython to generate C code for a Python C extension.\n",
    "# * Compile it into a Python C extension (a shared library)\n",
    "# * Load it into the current namespace\n",
    "# If you don't understand these things, don't worry, it basically means:\n",
    "# * Get full-metal speed easily\n",
    "cimport cython\n",
    "from libc.math cimport exp, M_PI, sqrt\n",
    "@cython.binding(True) # IMPORTANT: this tells Cython to dump the function signature\n",
    "def gauss_pdf_cython(double x, double mu, double sigma):\n",
    "    return 1 / sqrt(2 * M_PI) / sigma * exp(-(x - mu) ** 2 / 2. / sigma ** 2)"
   ]
  },
  {
   "cell_type": "code",
   "execution_count": 98,
   "metadata": {
    "collapsed": false
   },
   "outputs": [],
   "source": [
    "# Define the unbinned likelihood cost function \n",
    "unbinned_likelihood = probfit.UnbinnedLH(gauss_pdf_cython, data)"
   ]
  },
  {
   "cell_type": "code",
   "execution_count": 99,
   "metadata": {
    "collapsed": false
   },
   "outputs": [
    {
     "data": {
      "image/png": "[encoded data removed]",
      "text/plain": [
       "<matplotlib.figure.Figure at 0x7f68785b3f90>"
      ]
     },
     "metadata": {},
     "output_type": "display_data"
    },
    {
     "data": {
      "text/html": [
       "<hr>"
      ]
     },
     "metadata": {},
     "output_type": "display_data"
    },
    {
     "data": {
      "text/html": [
       "\n",
       "        <table>\n",
       "            <tr>\n",
       "                <td title=\"Minimum value of function\">FCN = 27927.113951</td>\n",
       "                <td title=\"Total number of call to FCN so far\">TOTAL NCALL = 61</td>\n",
       "                <td title=\"Number of call in last migrad\">NCALLS = 61</td>\n",
       "            </tr>\n",
       "            <tr>\n",
       "                <td title=\"Estimated distance to minimum\">EDM = 3.94434184481e-06</td>\n",
       "                <td title=\"Maximum EDM definition of convergence\">GOAL EDM = 5e-06</td>\n",
       "                <td title=\"Error def. Amount of increase in FCN to be defined as 1 standard deviation\">\n",
       "                UP = 0.5</td>\n",
       "            </tr>\n",
       "        </table>\n",
       "        \n",
       "        <table>\n",
       "            <tr>\n",
       "                <td align=\"center\" title=\"Validity of the migrad call\">Valid</td>\n",
       "                <td align=\"center\" title=\"Validity of parameters\">Valid Param</td>\n",
       "                <td align=\"center\" title=\"Is Covariance matrix accurate?\">Accurate Covar</td>\n",
       "                <td align=\"center\" title=\"Positive definiteness of covariance matrix\">PosDef</td>\n",
       "                <td align=\"center\" title=\"Was covariance matrix made posdef by adding diagonal element\">Made PosDef</td>\n",
       "            </tr>\n",
       "            <tr>\n",
       "                <td align=\"center\" style=\"background-color:#92CCA6\">True</td>\n",
       "                <td align=\"center\" style=\"background-color:#92CCA6\">True</td>\n",
       "                <td align=\"center\" style=\"background-color:#92CCA6\">True</td>\n",
       "                <td align=\"center\" style=\"background-color:#92CCA6\">True</td>\n",
       "                <td align=\"center\" style=\"background-color:#92CCA6\">False</td>\n",
       "            </tr>\n",
       "            <tr>\n",
       "                <td align=\"center\" title=\"Was last hesse call fail?\">Hesse Fail</td>\n",
       "                <td align=\"center\" title=\"Validity of covariance\">HasCov</td>\n",
       "                <td align=\"center\" title=\"Is EDM above goal EDM?\">Above EDM</td>\n",
       "                <td align=\"center\"></td>\n",
       "                <td align=\"center\" title=\"Did last migrad call reach max call limit?\">Reach calllim</td>\n",
       "            </tr>\n",
       "            <tr>\n",
       "                <td align=\"center\" style=\"background-color:#92CCA6\">False</td>\n",
       "                <td align=\"center\" style=\"background-color:#92CCA6\">True</td>\n",
       "                <td align=\"center\" style=\"background-color:#92CCA6\">False</td>\n",
       "                <td align=\"center\"></td>\n",
       "                <td align=\"center\" style=\"background-color:#92CCA6\">False</td>\n",
       "            </tr>\n",
       "        </table>\n",
       "        "
      ]
     },
     "metadata": {},
     "output_type": "display_data"
    },
    {
     "data": {
      "text/html": [
       "\n",
       "        <table>\n",
       "            <tr>\n",
       "                <td><a href=\"#\" onclick=\"$('#XExIZVPeFz').toggle()\">+</a></td>\n",
       "                <td title=\"Variable name\">Name</td>\n",
       "                <td title=\"Value of parameter\">Value</td>\n",
       "                <td title=\"Parabolic error\">Parab Error</td>\n",
       "                <td title=\"Minos lower error\">Minos Error-</td>\n",
       "                <td title=\"Minos upper error\">Minos Error+</td>\n",
       "                <td title=\"Lower limit of the parameter\">Limit-</td>\n",
       "                <td title=\"Upper limit of the parameter\">Limit+</td>\n",
       "                <td title=\"Is the parameter fixed in the fit\">FIXED</td>\n",
       "            </tr>\n",
       "        \n",
       "            <tr>\n",
       "                <td>1</td>\n",
       "                <td>mu</td>\n",
       "                <td>0.926222</td>\n",
       "                <td>0.039503</td>\n",
       "                <td>0</td>\n",
       "                <td>0</td>\n",
       "                <td></td>\n",
       "                <td></td>\n",
       "                <td></td>\n",
       "            </tr>\n",
       "            \n",
       "            <tr>\n",
       "                <td>2</td>\n",
       "                <td>sigma</td>\n",
       "                <td>3.9503</td>\n",
       "                <td>0.0279336</td>\n",
       "                <td>0</td>\n",
       "                <td>0</td>\n",
       "                <td></td>\n",
       "                <td></td>\n",
       "                <td></td>\n",
       "            </tr>\n",
       "            \n",
       "            </table>\n",
       "        \n",
       "            <pre id=\"XExIZVPeFz\" style=\"display:none;\">\n",
       "            <textarea rows=\"10\" cols=\"50\" onclick=\"this.select()\" readonly>\\begin{tabular}{|c|r|r|r|r|r|r|r|c|}\n",
       "\\hline\n",
       " & Name & Value & Para Error & Error+ & Error- & Limit+ & Limit- & FIXED\\\\\n",
       "\\hline\n",
       "1 & $\\mu$ & 9.262e-01 & 3.950e-02 &  &  &  &  & \\\\\n",
       "\\hline\n",
       "2 & $\\sigma$ & 3.950e+00 & 2.793e-02 &  &  &  &  & \\\\\n",
       "\\hline\n",
       "\\end{tabular}</textarea>\n",
       "            </pre>\n",
       "            "
      ]
     },
     "metadata": {},
     "output_type": "display_data"
    },
    {
     "data": {
      "text/html": [
       "<hr>"
      ]
     },
     "metadata": {},
     "output_type": "display_data"
    },
    {
     "data": {
      "text/html": [
       "\n",
       "            <table>\n",
       "                <tr>\n",
       "                    <td><a onclick=\"$('#GRmMglPrQf').toggle()\" href=\"#\">+</a></td>\n",
       "        \n",
       "            <td>\n",
       "            <div style=\"width:20px;position:relative; width: -moz-fit-content;\">\n",
       "            <div style=\"display:inline-block;-webkit-writing-mode:vertical-rl;-moz-writing-mode: vertical-rl;writing-mode: vertical-rl;\">\n",
       "            mu\n",
       "            </div>\n",
       "            </div>\n",
       "            </td>\n",
       "            \n",
       "            <td>\n",
       "            <div style=\"width:20px;position:relative; width: -moz-fit-content;\">\n",
       "            <div style=\"display:inline-block;-webkit-writing-mode:vertical-rl;-moz-writing-mode: vertical-rl;writing-mode: vertical-rl;\">\n",
       "            sigma\n",
       "            </div>\n",
       "            </div>\n",
       "            </td>\n",
       "            \n",
       "                </tr>\n",
       "                \n",
       "            <tr>\n",
       "                <td>mu</td>\n",
       "            \n",
       "                <td style=\"background-color:rgb(255,117,117)\">\n",
       "                1.00\n",
       "                </td>\n",
       "                \n",
       "                <td style=\"background-color:rgb(163,254,186)\">\n",
       "                0.00\n",
       "                </td>\n",
       "                \n",
       "            </tr>\n",
       "            \n",
       "            <tr>\n",
       "                <td>sigma</td>\n",
       "            \n",
       "                <td style=\"background-color:rgb(163,254,186)\">\n",
       "                0.00\n",
       "                </td>\n",
       "                \n",
       "                <td style=\"background-color:rgb(255,117,117)\">\n",
       "                1.00\n",
       "                </td>\n",
       "                \n",
       "            </tr>\n",
       "            </table>\n",
       "\n",
       "            <pre id=\"GRmMglPrQf\" style=\"display:none;\">\n",
       "            <textarea rows=\"13\" cols=\"50\" onclick=\"this.select()\" readonly>%\\usepackage[table]{xcolor} % include this for color\n",
       "%\\usepackage{rotating} % include this for rotate header\n",
       "%\\documentclass[xcolor=table]{beamer} % for beamer\n",
       "\\begin{tabular}{|c|c|c|}\n",
       "\\hline\n",
       "\\rotatebox{90}{} & \\rotatebox{90}{$\\mu$} & \\rotatebox{90}{$\\sigma$}\\\\\n",
       "\\hline\n",
       "$\\mu$ & \\cellcolor[RGB]{255,117,117} 1.00 & \\cellcolor[RGB]{163,254,186} 0.00\\\\\n",
       "\\hline\n",
       "$\\sigma$ & \\cellcolor[RGB]{163,254,186} 0.00 & \\cellcolor[RGB]{255,117,117} 1.00\\\\\n",
       "\\hline\n",
       "\\end{tabular}</textarea>\n",
       "            </pre>\n",
       "            "
      ]
     },
     "metadata": {},
     "output_type": "display_data"
    }
   ],
   "source": [
    "minuit = iminuit.Minuit(unbinned_likelihood, sigma=2, pedantic=False, print_level=0)\n",
    "# Remember: minuit.errordef is automatically set to 0.5\n",
    "# as required for likelihood fits (this was explained above)\n",
    "minuit.migrad() # yes: amazingly fast\n",
    "unbinned_likelihood.show(minuit)\n",
    "minuit.print_fmin()\n",
    "minuit.print_matrix() "
   ]
  },
  {
   "cell_type": "code",
   "execution_count": 100,
   "metadata": {
    "collapsed": false
   },
   "outputs": [
    {
     "data": {
      "image/png": "[encoded data removed]",
      "text/plain": [
       "<matplotlib.figure.Figure at 0x7f68785b3610>"
      ]
     },
     "metadata": {},
     "output_type": "display_data"
    }
   ],
   "source": [
    "# Remember how slow draw_mnprofile() was in the last example?\n",
    "# Now it's super fast (even though the unbinned\n",
    "# likelihood computation is more compute-intensive).\n",
    "minuit.draw_mnprofile('mu');"
   ]
  },
  {
   "cell_type": "markdown",
   "metadata": {},
   "source": [
    "But you really don't have to write your own gaussian, there are tons of builtin functions written in Cython for you."
   ]
  },
  {
   "cell_type": "code",
   "execution_count": 101,
   "metadata": {
    "collapsed": false
   },
   "outputs": [
    {
     "name": "stdout",
     "output_type": "stream",
     "text": [
      "['HistogramPdf', 'MinimalFuncCode', 'Polynomial', '_Linear', '__builtins__', '__doc__', '__file__', '__name__', '__package__', '__pyx_capi__', '__test__', 'argus', 'cauchy', 'cruijff', 'crystalball', 'describe', 'doublegaussian', 'gaussian', 'linear', 'novosibirsk', 'np', 'poly2', 'poly3', 'rtv_breitwigner', 'ugaussian']\n",
      "[u'x', u'mean', u'sigma']\n",
      "<type 'builtin_function_or_method'>\n"
     ]
    }
   ],
   "source": [
    "# Here's how you can list them\n",
    "import probfit.pdf\n",
    "print(dir(probfit.pdf))\n",
    "print(iminuit.describe(probfit.pdf.gaussian))\n",
    "print(type(probfit.pdf.gaussian))\n",
    "# But actually they are always all imported into the main probfit\n",
    "# namespace, so we'll keep using the simpler probfit.gaussian instead of\n",
    "# probfit.pdf.gaussian here."
   ]
  },
  {
   "cell_type": "code",
   "execution_count": 102,
   "metadata": {
    "collapsed": false
   },
   "outputs": [
    {
     "data": {
      "text/html": [
       "<hr>"
      ]
     },
     "metadata": {},
     "output_type": "display_data"
    },
    {
     "data": {
      "text/html": [
       "\n",
       "        <table>\n",
       "            <tr>\n",
       "                <td title=\"Minimum value of function\">FCN = 27927.113951</td>\n",
       "                <td title=\"Total number of call to FCN so far\">TOTAL NCALL = 61</td>\n",
       "                <td title=\"Number of call in last migrad\">NCALLS = 61</td>\n",
       "            </tr>\n",
       "            <tr>\n",
       "                <td title=\"Estimated distance to minimum\">EDM = 3.94434240024e-06</td>\n",
       "                <td title=\"Maximum EDM definition of convergence\">GOAL EDM = 5e-06</td>\n",
       "                <td title=\"Error def. Amount of increase in FCN to be defined as 1 standard deviation\">\n",
       "                UP = 0.5</td>\n",
       "            </tr>\n",
       "        </table>\n",
       "        \n",
       "        <table>\n",
       "            <tr>\n",
       "                <td align=\"center\" title=\"Validity of the migrad call\">Valid</td>\n",
       "                <td align=\"center\" title=\"Validity of parameters\">Valid Param</td>\n",
       "                <td align=\"center\" title=\"Is Covariance matrix accurate?\">Accurate Covar</td>\n",
       "                <td align=\"center\" title=\"Positive definiteness of covariance matrix\">PosDef</td>\n",
       "                <td align=\"center\" title=\"Was covariance matrix made posdef by adding diagonal element\">Made PosDef</td>\n",
       "            </tr>\n",
       "            <tr>\n",
       "                <td align=\"center\" style=\"background-color:#92CCA6\">True</td>\n",
       "                <td align=\"center\" style=\"background-color:#92CCA6\">True</td>\n",
       "                <td align=\"center\" style=\"background-color:#92CCA6\">True</td>\n",
       "                <td align=\"center\" style=\"background-color:#92CCA6\">True</td>\n",
       "                <td align=\"center\" style=\"background-color:#92CCA6\">False</td>\n",
       "            </tr>\n",
       "            <tr>\n",
       "                <td align=\"center\" title=\"Was last hesse call fail?\">Hesse Fail</td>\n",
       "                <td align=\"center\" title=\"Validity of covariance\">HasCov</td>\n",
       "                <td align=\"center\" title=\"Is EDM above goal EDM?\">Above EDM</td>\n",
       "                <td align=\"center\"></td>\n",
       "                <td align=\"center\" title=\"Did last migrad call reach max call limit?\">Reach calllim</td>\n",
       "            </tr>\n",
       "            <tr>\n",
       "                <td align=\"center\" style=\"background-color:#92CCA6\">False</td>\n",
       "                <td align=\"center\" style=\"background-color:#92CCA6\">True</td>\n",
       "                <td align=\"center\" style=\"background-color:#92CCA6\">False</td>\n",
       "                <td align=\"center\"></td>\n",
       "                <td align=\"center\" style=\"background-color:#92CCA6\">False</td>\n",
       "            </tr>\n",
       "        </table>\n",
       "        "
      ]
     },
     "metadata": {},
     "output_type": "display_data"
    },
    {
     "data": {
      "text/html": [
       "\n",
       "        <table>\n",
       "            <tr>\n",
       "                <td><a href=\"#\" onclick=\"$('#hKcDVBJbHF').toggle()\">+</a></td>\n",
       "                <td title=\"Variable name\">Name</td>\n",
       "                <td title=\"Value of parameter\">Value</td>\n",
       "                <td title=\"Parabolic error\">Parab Error</td>\n",
       "                <td title=\"Minos lower error\">Minos Error-</td>\n",
       "                <td title=\"Minos upper error\">Minos Error+</td>\n",
       "                <td title=\"Lower limit of the parameter\">Limit-</td>\n",
       "                <td title=\"Upper limit of the parameter\">Limit+</td>\n",
       "                <td title=\"Is the parameter fixed in the fit\">FIXED</td>\n",
       "            </tr>\n",
       "        \n",
       "            <tr>\n",
       "                <td>1</td>\n",
       "                <td>mean</td>\n",
       "                <td>0.926222</td>\n",
       "                <td>0.039503</td>\n",
       "                <td>0</td>\n",
       "                <td>0</td>\n",
       "                <td></td>\n",
       "                <td></td>\n",
       "                <td></td>\n",
       "            </tr>\n",
       "            \n",
       "            <tr>\n",
       "                <td>2</td>\n",
       "                <td>sigma</td>\n",
       "                <td>3.9503</td>\n",
       "                <td>0.0279336</td>\n",
       "                <td>0</td>\n",
       "                <td>0</td>\n",
       "                <td></td>\n",
       "                <td></td>\n",
       "                <td></td>\n",
       "            </tr>\n",
       "            \n",
       "            </table>\n",
       "        \n",
       "            <pre id=\"hKcDVBJbHF\" style=\"display:none;\">\n",
       "            <textarea rows=\"10\" cols=\"50\" onclick=\"this.select()\" readonly>\\begin{tabular}{|c|r|r|r|r|r|r|r|c|}\n",
       "\\hline\n",
       " & Name & Value & Para Error & Error+ & Error- & Limit+ & Limit- & FIXED\\\\\n",
       "\\hline\n",
       "1 & mean & 9.262e-01 & 3.950e-02 &  &  &  &  & \\\\\n",
       "\\hline\n",
       "2 & $\\sigma$ & 3.950e+00 & 2.793e-02 &  &  &  &  & \\\\\n",
       "\\hline\n",
       "\\end{tabular}</textarea>\n",
       "            </pre>\n",
       "            "
      ]
     },
     "metadata": {},
     "output_type": "display_data"
    },
    {
     "data": {
      "text/html": [
       "<hr>"
      ]
     },
     "metadata": {},
     "output_type": "display_data"
    },
    {
     "data": {
      "image/png": "[encoded data removed]",
      "text/plain": [
       "<matplotlib.figure.Figure at 0x7f681e8574d0>"
      ]
     },
     "metadata": {},
     "output_type": "display_data"
    }
   ],
   "source": [
    "unbinned_likelihood = probfit.UnbinnedLH(probfit.gaussian, data)\n",
    "minuit = iminuit.Minuit(unbinned_likelihood, sigma=2, pedantic=False)\n",
    "# Remember: minuit.errordef is automatically set to 0.5\n",
    "# as required for likelihood fits (this was explained above)\n",
    "minuit.migrad() # yes: amazingly fast\n",
    "unbinned_likelihood.draw(minuit, show_errbars='normal'); # control how fit is displayed too;"
   ]
  },
  {
   "cell_type": "code",
   "execution_count": 103,
   "metadata": {
    "collapsed": false
   },
   "outputs": [
    {
     "data": {
      "image/png": "[encoded data removed]",
      "text/plain": [
       "<matplotlib.figure.Figure at 0x7f681726efd0>"
      ]
     },
     "metadata": {},
     "output_type": "display_data"
    }
   ],
   "source": [
    "# Draw the difference between data and PDF\n",
    "plt.figure(figsize=(13,4))\n",
    "plt.subplot(121)\n",
    "unbinned_likelihood.draw_residual(minuit)\n",
    "plt.subplot(122)\n",
    "unbinned_likelihood.draw_residual(minuit, show_errbars=True, errbar_algo='sumw2', norm=True)"
   ]
  },
  {
   "cell_type": "markdown",
   "metadata": {},
   "source": [
    "##But... We can't normalize everything analytically and how to generate toy sample from PDF\n",
    "\n",
    "When fitting distribution to a PDF, one of the common problem that we run into is normalization.\n",
    "Not all function is analytically integrable on the range of our interest.\n",
    "\n",
    "Let's look at an example: the [Crystal Ball function](http://en.wikipedia.org/wiki/Crystal_Ball_function).\n",
    "It's simply a gaussian with a power law tail ... normally found in energy deposited in crystals ...\n",
    "impossible to normalize analytically and normalization will depend on shape parameters."
   ]
  },
  {
   "cell_type": "code",
   "execution_count": 104,
   "metadata": {
    "collapsed": false
   },
   "outputs": [
    {
     "name": "stdout",
     "output_type": "stream",
     "text": [
      "[u'x', u'alpha', u'n', u'mean', u'sigma']\n"
     ]
    },
    {
     "data": {
      "image/png": "[encoded data removed]",
      "text/plain": [
       "<matplotlib.figure.Figure at 0x7f681726ef10>"
      ]
     },
     "metadata": {},
     "output_type": "display_data"
    }
   ],
   "source": [
    "np.random.seed(0)\n",
    "bound = (-1, 2)\n",
    "data = probfit.gen_toy(probfit.crystalball, 10000, bound=bound, alpha=1., n=2., mean=1., sigma=0.3, quiet=False)\n",
    "# quiet=False tells gen_toy to plot out original function\n",
    "# toy histogram and poisson error from both orignal distribution and toy"
   ]
  },
  {
   "cell_type": "code",
   "execution_count": 105,
   "metadata": {
    "collapsed": false
   },
   "outputs": [
    {
     "name": "stdout",
     "output_type": "stream",
     "text": [
      "function: 1.0\n",
      "     pdf: 1.10945669814\n"
     ]
    }
   ],
   "source": [
    "# To fit this function as a distribution we need to normalize\n",
    "# so that is becomes a PDF ober the range we consider here.\n",
    "# We do this with the probfit.Normalized functor, which implements\n",
    "# the trapezoid numerical integration method with a simple cache mechanism\n",
    "normalized_crystalball = probfit.Normalized(probfit.crystalball, bound)\n",
    "# this can also bedone with decorator\n",
    "# @probfit.normalized(bound)\n",
    "# def my_function(x, blah):\n",
    "#    return something\n",
    "pars = 1.0, 1, 2, 1, 0.3\n",
    "print('function: {}'.format(probfit.crystalball(*pars)))\n",
    "print('     pdf: {}'.format(normalized_crystalball(*pars)))"
   ]
  },
  {
   "cell_type": "code",
   "execution_count": 106,
   "metadata": {
    "collapsed": false
   },
   "outputs": [
    {
     "name": "stdout",
     "output_type": "stream",
     "text": [
      "[u'x', u'alpha', u'n', u'mean', u'sigma']\n",
      "[u'x', u'alpha', u'n', u'mean', u'sigma']\n"
     ]
    }
   ],
   "source": [
    "# The normalized version has the same signature as the non-normalized version\n",
    "print(iminuit.describe(probfit.crystalball))\n",
    "print(iminuit.describe(normalized_crystalball))"
   ]
  },
  {
   "cell_type": "code",
   "execution_count": 107,
   "metadata": {
    "collapsed": false
   },
   "outputs": [
    {
     "name": "stderr",
     "output_type": "stream",
     "text": [
      "/root/miniconda/envs/rep_py2/lib/python2.7/site-packages/ipykernel/__main__.py:4: InitialParamWarning: Parameter alpha is floating but does not have initial step size. Assume 1.\n",
      "/root/miniconda/envs/rep_py2/lib/python2.7/site-packages/ipykernel/__main__.py:4: InitialParamWarning: Parameter n is floating but does not have initial step size. Assume 1.\n",
      "/root/miniconda/envs/rep_py2/lib/python2.7/site-packages/ipykernel/__main__.py:4: InitialParamWarning: Parameter mean is floating but does not have initial step size. Assume 1.\n",
      "/root/miniconda/envs/rep_py2/lib/python2.7/site-packages/ipykernel/__main__.py:4: InitialParamWarning: Parameter sigma is floating but does not have initial step size. Assume 1.\n",
      "/root/miniconda/envs/rep_py2/lib/python2.7/site-packages/ipykernel/__main__.py:7: SmallIntegralWarning: (0.9689428295957161, 0.44086027281289175, -7.852819454184058, 0.9263111214440007, 0.29811644525305303)\n"
     ]
    },
    {
     "data": {
      "text/html": [
       "<hr>"
      ]
     },
     "metadata": {},
     "output_type": "display_data"
    },
    {
     "data": {
      "text/html": [
       "\n",
       "        <table>\n",
       "            <tr>\n",
       "                <td title=\"Minimum value of function\">FCN = 6154.37579109</td>\n",
       "                <td title=\"Total number of call to FCN so far\">TOTAL NCALL = 178</td>\n",
       "                <td title=\"Number of call in last migrad\">NCALLS = 178</td>\n",
       "            </tr>\n",
       "            <tr>\n",
       "                <td title=\"Estimated distance to minimum\">EDM = 1.09346528365e-06</td>\n",
       "                <td title=\"Maximum EDM definition of convergence\">GOAL EDM = 5e-06</td>\n",
       "                <td title=\"Error def. Amount of increase in FCN to be defined as 1 standard deviation\">\n",
       "                UP = 0.5</td>\n",
       "            </tr>\n",
       "        </table>\n",
       "        \n",
       "        <table>\n",
       "            <tr>\n",
       "                <td align=\"center\" title=\"Validity of the migrad call\">Valid</td>\n",
       "                <td align=\"center\" title=\"Validity of parameters\">Valid Param</td>\n",
       "                <td align=\"center\" title=\"Is Covariance matrix accurate?\">Accurate Covar</td>\n",
       "                <td align=\"center\" title=\"Positive definiteness of covariance matrix\">PosDef</td>\n",
       "                <td align=\"center\" title=\"Was covariance matrix made posdef by adding diagonal element\">Made PosDef</td>\n",
       "            </tr>\n",
       "            <tr>\n",
       "                <td align=\"center\" style=\"background-color:#92CCA6\">True</td>\n",
       "                <td align=\"center\" style=\"background-color:#92CCA6\">True</td>\n",
       "                <td align=\"center\" style=\"background-color:#92CCA6\">True</td>\n",
       "                <td align=\"center\" style=\"background-color:#92CCA6\">True</td>\n",
       "                <td align=\"center\" style=\"background-color:#92CCA6\">False</td>\n",
       "            </tr>\n",
       "            <tr>\n",
       "                <td align=\"center\" title=\"Was last hesse call fail?\">Hesse Fail</td>\n",
       "                <td align=\"center\" title=\"Validity of covariance\">HasCov</td>\n",
       "                <td align=\"center\" title=\"Is EDM above goal EDM?\">Above EDM</td>\n",
       "                <td align=\"center\"></td>\n",
       "                <td align=\"center\" title=\"Did last migrad call reach max call limit?\">Reach calllim</td>\n",
       "            </tr>\n",
       "            <tr>\n",
       "                <td align=\"center\" style=\"background-color:#92CCA6\">False</td>\n",
       "                <td align=\"center\" style=\"background-color:#92CCA6\">True</td>\n",
       "                <td align=\"center\" style=\"background-color:#92CCA6\">False</td>\n",
       "                <td align=\"center\"></td>\n",
       "                <td align=\"center\" style=\"background-color:#92CCA6\">False</td>\n",
       "            </tr>\n",
       "        </table>\n",
       "        "
      ]
     },
     "metadata": {},
     "output_type": "display_data"
    },
    {
     "data": {
      "text/html": [
       "\n",
       "        <table>\n",
       "            <tr>\n",
       "                <td><a href=\"#\" onclick=\"$('#DutYbbXjgk').toggle()\">+</a></td>\n",
       "                <td title=\"Variable name\">Name</td>\n",
       "                <td title=\"Value of parameter\">Value</td>\n",
       "                <td title=\"Parabolic error\">Parab Error</td>\n",
       "                <td title=\"Minos lower error\">Minos Error-</td>\n",
       "                <td title=\"Minos upper error\">Minos Error+</td>\n",
       "                <td title=\"Lower limit of the parameter\">Limit-</td>\n",
       "                <td title=\"Upper limit of the parameter\">Limit+</td>\n",
       "                <td title=\"Is the parameter fixed in the fit\">FIXED</td>\n",
       "            </tr>\n",
       "        \n",
       "            <tr>\n",
       "                <td>1</td>\n",
       "                <td>alpha</td>\n",
       "                <td>1.01296</td>\n",
       "                <td>0.0532174</td>\n",
       "                <td>0</td>\n",
       "                <td>0</td>\n",
       "                <td></td>\n",
       "                <td></td>\n",
       "                <td></td>\n",
       "            </tr>\n",
       "            \n",
       "            <tr>\n",
       "                <td>2</td>\n",
       "                <td>n</td>\n",
       "                <td>1.81276</td>\n",
       "                <td>0.217714</td>\n",
       "                <td>0</td>\n",
       "                <td>0</td>\n",
       "                <td></td>\n",
       "                <td></td>\n",
       "                <td></td>\n",
       "            </tr>\n",
       "            \n",
       "            <tr>\n",
       "                <td>3</td>\n",
       "                <td>mean</td>\n",
       "                <td>0.998247</td>\n",
       "                <td>0.00558393</td>\n",
       "                <td>0</td>\n",
       "                <td>0</td>\n",
       "                <td></td>\n",
       "                <td></td>\n",
       "                <td></td>\n",
       "            </tr>\n",
       "            \n",
       "            <tr>\n",
       "                <td>4</td>\n",
       "                <td>sigma</td>\n",
       "                <td>0.299661</td>\n",
       "                <td>0.00419534</td>\n",
       "                <td>0</td>\n",
       "                <td>0</td>\n",
       "                <td></td>\n",
       "                <td></td>\n",
       "                <td></td>\n",
       "            </tr>\n",
       "            \n",
       "            </table>\n",
       "        \n",
       "            <pre id=\"DutYbbXjgk\" style=\"display:none;\">\n",
       "            <textarea rows=\"14\" cols=\"50\" onclick=\"this.select()\" readonly>\\begin{tabular}{|c|r|r|r|r|r|r|r|c|}\n",
       "\\hline\n",
       " & Name & Value & Para Error & Error+ & Error- & Limit+ & Limit- & FIXED\\\\\n",
       "\\hline\n",
       "1 & $\\alpha$ & 1.013e+00 & 5.322e-02 &  &  &  &  & \\\\\n",
       "\\hline\n",
       "2 & n & 1.813e+00 & 2.177e-01 &  &  &  &  & \\\\\n",
       "\\hline\n",
       "3 & mean & 9.982e-01 & 5.584e-03 &  &  &  &  & \\\\\n",
       "\\hline\n",
       "4 & $\\sigma$ & 2.997e-01 & 4.195e-03 &  &  &  &  & \\\\\n",
       "\\hline\n",
       "\\end{tabular}</textarea>\n",
       "            </pre>\n",
       "            "
      ]
     },
     "metadata": {},
     "output_type": "display_data"
    },
    {
     "data": {
      "text/html": [
       "<hr>"
      ]
     },
     "metadata": {},
     "output_type": "display_data"
    },
    {
     "data": {
      "image/png": "[encoded data removed]",
      "text/plain": [
       "<matplotlib.figure.Figure at 0x7f68785754d0>"
      ]
     },
     "metadata": {},
     "output_type": "display_data"
    }
   ],
   "source": [
    "# We can fit the normalized function in the usual way ...\n",
    "unbinned_likelihood = probfit.UnbinnedLH(normalized_crystalball, data)\n",
    "start_pars = dict(alpha=1, n=2.1, mean=1.2, sigma=0.3)\n",
    "minuit = iminuit.Minuit(unbinned_likelihood, **start_pars)\n",
    "# Remember: minuit.errordef is automatically set to 0.5\n",
    "# as required for likelihood fits (this was explained above)\n",
    "minuit.migrad() # yes: amazingly fast Normalize is written in Cython\n",
    "unbinned_likelihood.show(minuit);\n",
    "# The Crystal Ball function is notorious for its sensitivity on the 'n' parameter\n",
    "# probfit give you a heads up where it might have float overflow;"
   ]
  },
  {
   "cell_type": "markdown",
   "metadata": {},
   "source": [
    "## But what if I know the analytical integral formula for my distribution?\n",
    "\n",
    "`probfit` checks for a method called `integrate` with the signature `integrate(bound, nint, *arg)` to\n",
    "compute definite integrals for given `bound` and `nint` (pieces of integral this is normally ignored)\n",
    "and the rest will be passed as positional argument.\n",
    "\n",
    "For some `probfit` built-in distributions analytical formulae have been implemented."
   ]
  },
  {
   "cell_type": "code",
   "execution_count": 108,
   "metadata": {
    "collapsed": false
   },
   "outputs": [
    {
     "name": "stdout",
     "output_type": "stream",
     "text": [
      "2.5\n",
      "5.0\n"
     ]
    }
   ],
   "source": [
    "def line(x, m, c):\n",
    "    return m * x + c\n",
    "\n",
    "# compute integral of line from x=(0,1) using 10 intevals with m=1. and c=2.\n",
    "# all probfit internal use this\n",
    "# no integrate method available probfit use simpson3/8\n",
    "print(probfit.integrate1d(line, (0, 1), 10, (1., 2.)))\n",
    "\n",
    "# Let us illustrate the point by forcing it to have integral that's off by\n",
    "# factor of two\n",
    "def wrong_line_integrate(bound, nint, m, c):\n",
    "    a, b = bound\n",
    "    # I know this is wrong:\n",
    "    return 2 * (m * (b ** 2 / 2. - a ** 2 / 2.) + c * (b - a))\n",
    "\n",
    "line.integrate = wrong_line_integrate\n",
    "# line.integrate = lambda bound, nint, m, c: blah blah # this works too\n",
    "print(probfit.integrate1d(line, (0, 1), 10, (1., 2.)))"
   ]
  },
  {
   "cell_type": "markdown",
   "metadata": {},
   "source": [
    "## What if things go wrong?"
   ]
  },
  {
   "cell_type": "markdown",
   "metadata": {},
   "source": [
    "In this section we show you what happens when your distribution doesn't fit and how you can make it.\n",
    "\n",
    "We again use the Crystal Ball distribution as an example, which is notoriously sensitive to initial parameter values."
   ]
  },
  {
   "cell_type": "code",
   "execution_count": 109,
   "metadata": {
    "collapsed": false
   },
   "outputs": [
    {
     "name": "stderr",
     "output_type": "stream",
     "text": [
      "/root/miniconda/envs/rep_py2/lib/python2.7/site-packages/ipykernel/__main__.py:3: InitialParamWarning: Parameter alpha does not have initial value. Assume 0.\n",
      "  app.launch_new_instance()\n",
      "/root/miniconda/envs/rep_py2/lib/python2.7/site-packages/ipykernel/__main__.py:3: InitialParamWarning: Parameter alpha is floating but does not have initial step size. Assume 1.\n",
      "  app.launch_new_instance()\n",
      "/root/miniconda/envs/rep_py2/lib/python2.7/site-packages/ipykernel/__main__.py:3: InitialParamWarning: Parameter n does not have initial value. Assume 0.\n",
      "  app.launch_new_instance()\n",
      "/root/miniconda/envs/rep_py2/lib/python2.7/site-packages/ipykernel/__main__.py:3: InitialParamWarning: Parameter n is floating but does not have initial step size. Assume 1.\n",
      "  app.launch_new_instance()\n",
      "/root/miniconda/envs/rep_py2/lib/python2.7/site-packages/ipykernel/__main__.py:3: InitialParamWarning: Parameter mean does not have initial value. Assume 0.\n",
      "  app.launch_new_instance()\n",
      "/root/miniconda/envs/rep_py2/lib/python2.7/site-packages/ipykernel/__main__.py:3: InitialParamWarning: Parameter mean is floating but does not have initial step size. Assume 1.\n",
      "  app.launch_new_instance()\n",
      "/root/miniconda/envs/rep_py2/lib/python2.7/site-packages/ipykernel/__main__.py:3: InitialParamWarning: Parameter sigma does not have initial value. Assume 0.\n",
      "  app.launch_new_instance()\n",
      "/root/miniconda/envs/rep_py2/lib/python2.7/site-packages/ipykernel/__main__.py:3: InitialParamWarning: Parameter sigma is floating but does not have initial step size. Assume 1.\n",
      "  app.launch_new_instance()\n"
     ]
    },
    {
     "data": {
      "text/html": [
       "<hr>"
      ]
     },
     "metadata": {},
     "output_type": "display_data"
    },
    {
     "data": {
      "text/html": [
       "\n",
       "        <table>\n",
       "            <tr>\n",
       "                <td title=\"Minimum value of function\">FCN = 10986.1228867</td>\n",
       "                <td title=\"Total number of call to FCN so far\">TOTAL NCALL = 28</td>\n",
       "                <td title=\"Number of call in last migrad\">NCALLS = 28</td>\n",
       "            </tr>\n",
       "            <tr>\n",
       "                <td title=\"Estimated distance to minimum\">EDM = 0.0</td>\n",
       "                <td title=\"Maximum EDM definition of convergence\">GOAL EDM = 5e-06</td>\n",
       "                <td title=\"Error def. Amount of increase in FCN to be defined as 1 standard deviation\">\n",
       "                UP = 0.5</td>\n",
       "            </tr>\n",
       "        </table>\n",
       "        \n",
       "        <table>\n",
       "            <tr>\n",
       "                <td align=\"center\" title=\"Validity of the migrad call\">Valid</td>\n",
       "                <td align=\"center\" title=\"Validity of parameters\">Valid Param</td>\n",
       "                <td align=\"center\" title=\"Is Covariance matrix accurate?\">Accurate Covar</td>\n",
       "                <td align=\"center\" title=\"Positive definiteness of covariance matrix\">PosDef</td>\n",
       "                <td align=\"center\" title=\"Was covariance matrix made posdef by adding diagonal element\">Made PosDef</td>\n",
       "            </tr>\n",
       "            <tr>\n",
       "                <td align=\"center\" style=\"background-color:#FF7878\">False</td>\n",
       "                <td align=\"center\" style=\"background-color:#92CCA6\">True</td>\n",
       "                <td align=\"center\" style=\"background-color:#FF7878\">False</td>\n",
       "                <td align=\"center\" style=\"background-color:#FF7878\">False</td>\n",
       "                <td align=\"center\" style=\"background-color:#92CCA6\">False</td>\n",
       "            </tr>\n",
       "            <tr>\n",
       "                <td align=\"center\" title=\"Was last hesse call fail?\">Hesse Fail</td>\n",
       "                <td align=\"center\" title=\"Validity of covariance\">HasCov</td>\n",
       "                <td align=\"center\" title=\"Is EDM above goal EDM?\">Above EDM</td>\n",
       "                <td align=\"center\"></td>\n",
       "                <td align=\"center\" title=\"Did last migrad call reach max call limit?\">Reach calllim</td>\n",
       "            </tr>\n",
       "            <tr>\n",
       "                <td align=\"center\" style=\"background-color:#FF7878\">True</td>\n",
       "                <td align=\"center\" style=\"background-color:#92CCA6\">True</td>\n",
       "                <td align=\"center\" style=\"background-color:#92CCA6\">False</td>\n",
       "                <td align=\"center\"></td>\n",
       "                <td align=\"center\" style=\"background-color:#92CCA6\">False</td>\n",
       "            </tr>\n",
       "        </table>\n",
       "        "
      ]
     },
     "metadata": {},
     "output_type": "display_data"
    },
    {
     "data": {
      "text/html": [
       "\n",
       "        <table>\n",
       "            <tr>\n",
       "                <td><a href=\"#\" onclick=\"$('#PWbwfnlHsj').toggle()\">+</a></td>\n",
       "                <td title=\"Variable name\">Name</td>\n",
       "                <td title=\"Value of parameter\">Value</td>\n",
       "                <td title=\"Parabolic error\">Parab Error</td>\n",
       "                <td title=\"Minos lower error\">Minos Error-</td>\n",
       "                <td title=\"Minos upper error\">Minos Error+</td>\n",
       "                <td title=\"Lower limit of the parameter\">Limit-</td>\n",
       "                <td title=\"Upper limit of the parameter\">Limit+</td>\n",
       "                <td title=\"Is the parameter fixed in the fit\">FIXED</td>\n",
       "            </tr>\n",
       "        \n",
       "            <tr>\n",
       "                <td>1</td>\n",
       "                <td>alpha</td>\n",
       "                <td>0</td>\n",
       "                <td>1</td>\n",
       "                <td>0</td>\n",
       "                <td>0</td>\n",
       "                <td></td>\n",
       "                <td></td>\n",
       "                <td></td>\n",
       "            </tr>\n",
       "            \n",
       "            <tr>\n",
       "                <td>2</td>\n",
       "                <td>n</td>\n",
       "                <td>0</td>\n",
       "                <td>1</td>\n",
       "                <td>0</td>\n",
       "                <td>0</td>\n",
       "                <td></td>\n",
       "                <td></td>\n",
       "                <td></td>\n",
       "            </tr>\n",
       "            \n",
       "            <tr>\n",
       "                <td>3</td>\n",
       "                <td>mean</td>\n",
       "                <td>0</td>\n",
       "                <td>1</td>\n",
       "                <td>0</td>\n",
       "                <td>0</td>\n",
       "                <td></td>\n",
       "                <td></td>\n",
       "                <td></td>\n",
       "            </tr>\n",
       "            \n",
       "            <tr>\n",
       "                <td>4</td>\n",
       "                <td>sigma</td>\n",
       "                <td>0</td>\n",
       "                <td>1</td>\n",
       "                <td>0</td>\n",
       "                <td>0</td>\n",
       "                <td></td>\n",
       "                <td></td>\n",
       "                <td></td>\n",
       "            </tr>\n",
       "            \n",
       "            </table>\n",
       "        \n",
       "            <pre id=\"PWbwfnlHsj\" style=\"display:none;\">\n",
       "            <textarea rows=\"14\" cols=\"50\" onclick=\"this.select()\" readonly>\\begin{tabular}{|c|r|r|r|r|r|r|r|c|}\n",
       "\\hline\n",
       " & Name & Value & Para Error & Error+ & Error- & Limit+ & Limit- & FIXED\\\\\n",
       "\\hline\n",
       "1 & $\\alpha$ & 0.000e+00 & 1.000e+00 &  &  &  &  & \\\\\n",
       "\\hline\n",
       "2 & n & 0.000e+00 & 1.000e+00 &  &  &  &  & \\\\\n",
       "\\hline\n",
       "3 & mean & 0.000e+00 & 1.000e+00 &  &  &  &  & \\\\\n",
       "\\hline\n",
       "4 & $\\sigma$ & 0.000e+00 & 1.000e+00 &  &  &  &  & \\\\\n",
       "\\hline\n",
       "\\end{tabular}</textarea>\n",
       "            </pre>\n",
       "            "
      ]
     },
     "metadata": {},
     "output_type": "display_data"
    },
    {
     "data": {
      "text/html": [
       "<hr>"
      ]
     },
     "metadata": {},
     "output_type": "display_data"
    },
    {
     "data": {
      "text/plain": [
       "({'hesse_failed': True, 'has_reached_call_limit': False, 'has_accurate_covar': False, 'has_posdef_covar': False, 'up': 0.5, 'edm': 0.0, 'is_valid': False, 'is_above_max_edm': False, 'has_covariance': True, 'has_made_posdef_covar': False, 'has_valid_parameters': True, 'fval': 10986.122886679714, 'nfcn': 28},\n",
       " [{'is_const': False, 'name': 'alpha', 'has_limits': False, 'value': 0.0, 'number': 0, 'has_lower_limit': False, 'upper_limit': 0.0, 'lower_limit': 0.0, 'has_upper_limit': False, 'error': 1.0, 'is_fixed': False},\n",
       "  {'is_const': False, 'name': 'n', 'has_limits': False, 'value': 0.0, 'number': 1, 'has_lower_limit': False, 'upper_limit': 0.0, 'lower_limit': 0.0, 'has_upper_limit': False, 'error': 1.0, 'is_fixed': False},\n",
       "  {'is_const': False, 'name': 'mean', 'has_limits': False, 'value': 0.0, 'number': 2, 'has_lower_limit': False, 'upper_limit': 0.0, 'lower_limit': 0.0, 'has_upper_limit': False, 'error': 1.0, 'is_fixed': False},\n",
       "  {'is_const': False, 'name': 'sigma', 'has_limits': False, 'value': 0.0, 'number': 3, 'has_lower_limit': False, 'upper_limit': 0.0, 'lower_limit': 0.0, 'has_upper_limit': False, 'error': 1.0, 'is_fixed': False}])"
      ]
     },
     "execution_count": 109,
     "metadata": {},
     "output_type": "execute_result"
    }
   ],
   "source": [
    "unbinned_likelihood = probfit.UnbinnedLH(normalized_crystalball, data)\n",
    "# No initial values given -> all parameters have default initial value 0\n",
    "minuit = iminuit.Minuit(unbinned_likelihood)\n",
    "# Remember: minuit.errordef is automatically set to 0.5\n",
    "# as required for likelihood fits (this was explained above)\n",
    "minuit.migrad() # yes: amazingly fast but tons of output on the console\n",
    "# Remember there is a heads up;"
   ]
  },
  {
   "cell_type": "code",
   "execution_count": 110,
   "metadata": {
    "collapsed": false
   },
   "outputs": [
    {
     "data": {
      "image/png": "[encoded data removed]",
      "text/plain": [
       "<matplotlib.figure.Figure at 0x7f68658b1910>"
      ]
     },
     "metadata": {},
     "output_type": "display_data"
    }
   ],
   "source": [
    "# This shows that we failed.\n",
    "# The parameters are still at the default initial values\n",
    "unbinned_likelihood.show(minuit);"
   ]
  },
  {
   "cell_type": "code",
   "execution_count": 111,
   "metadata": {
    "collapsed": false
   },
   "outputs": [
    {
     "name": "stdout",
     "output_type": "stream",
     "text": [
      "False\n",
      "False\n"
     ]
    }
   ],
   "source": [
    "# These two status flags tell you if the best-fit parameter values\n",
    "# and the covariance matrix (the parameter errors) are OK.\n",
    "print(minuit.migrad_ok())\n",
    "print(minuit.matrix_accurate())"
   ]
  },
  {
   "cell_type": "markdown",
   "metadata": {},
   "source": [
    "To make MIGRAD converge we need start parameter values that are roughly correct. Remember that above the same fit converged when we used ::\n",
    "\n",
    "    start_pars = dict(alpha=1, n=2.1, mean=1.2, sigma=0.3)\n",
    "    minuit = iminuit.Minuit(unbinned_likelihood, **start_pars)\n",
    "    \n",
    "#### But how can we guess these initial values?\n",
    "\n",
    "This is a hard question that doesn't have one simple answer. Visualizing your data and model helps.\n"
   ]
  },
  {
   "cell_type": "code",
   "execution_count": 112,
   "metadata": {
    "collapsed": false
   },
   "outputs": [
    {
     "name": "stdout",
     "output_type": "stream",
     "text": [
      "{u'alpha': 1.0, u'mean': 1.2, u'sigma': 0.3, u'n': 2.1}\n"
     ]
    },
    {
     "data": {
      "image/png": "[encoded data removed]",
      "text/plain": [
       "<matplotlib.figure.Figure at 0x7f6865acbad0>"
      ]
     },
     "metadata": {},
     "output_type": "display_data"
    }
   ],
   "source": [
    "# Try one set of parameters\n",
    "best_try = probfit.try_uml(normalized_crystalball, data, alpha=1., n=2.1, mean=1.2, sigma=0.3)\n",
    "print(best_try)"
   ]
  },
  {
   "cell_type": "code",
   "execution_count": 113,
   "metadata": {
    "collapsed": false
   },
   "outputs": [
    {
     "name": "stdout",
     "output_type": "stream",
     "text": [
      "{u'alpha': 1.0, u'mean': 1.1, u'sigma': 0.3, u'n': 2.1}\n"
     ]
    },
    {
     "data": {
      "image/png": "[encoded data removed]",
      "text/plain": [
       "<matplotlib.figure.Figure at 0x7f6865921590>"
      ]
     },
     "metadata": {},
     "output_type": "display_data"
    }
   ],
   "source": [
    "# Or try multiple sets of parameters\n",
    "# (too many will just confuse you)\n",
    "best_try = probfit.try_uml(normalized_crystalball, data, alpha=1., n=2.1, mean=[1.2, 1.1], sigma=[0.3, 0.5])\n",
    "# try_uml computes the unbinned likelihood for each set of parameters and returns the best\n",
    "# one as a dictionary.\n",
    "# This is actually a poor-man's optimization algorithm in itself called grid search\n",
    "# which is popular to find good start values for other, faster optimization methods like MIGRAD.\n",
    "print(best_try)"
   ]
  },
  {
   "cell_type": "markdown",
   "metadata": {},
   "source": [
    "## Extended fit: two Gaussians with polynomial background"
   ]
  },
  {
   "cell_type": "markdown",
   "metadata": {},
   "source": [
    "Here we show how to create and fit a model that is the sum of several other models."
   ]
  },
  {
   "cell_type": "code",
   "execution_count": 114,
   "metadata": {
    "collapsed": false
   },
   "outputs": [
    {
     "data": {
      "image/png": "[encoded data removed]",
      "text/plain": [
       "<matplotlib.figure.Figure at 0x7f686594ab50>"
      ]
     },
     "metadata": {},
     "output_type": "display_data"
    }
   ],
   "source": [
    "# Generate some example data\n",
    "np.random.seed(0)\n",
    "data_peak1 = np.random.randn(3000) * 0.2 + 2\n",
    "data_peak2 = np.random.randn(5000) * 0.1 + 4\n",
    "data_range = (-2, 5)\n",
    "data_bg = probfit.gen_toy(lambda x : 4 + 4 * x + x ** 2, 20000, data_range)\n",
    "data_all = np.concatenate([data_peak1, data_peak2, data_bg])\n",
    "plt.hist((data_peak1, data_peak2, data_bg, data_all),\n",
    "         label=['Signal 1', 'Signal 2', 'Background', 'Total'],\n",
    "         bins=200, histtype='step', range=data_range)\n",
    "plt.legend(loc='upper left');"
   ]
  },
  {
   "cell_type": "code",
   "execution_count": 115,
   "metadata": {
    "collapsed": false
   },
   "outputs": [
    {
     "name": "stdout",
     "output_type": "stream",
     "text": [
      "normalized_poly: ['x', 'c_0', 'c_1', 'c_2', 'NBkg']\n",
      "gauss1:          ['x', 'mu1', 'sigma1', 'N1']\n",
      "gauss2:          ['x', 'mu2', 'sigma2', 'N2']\n",
      "pdf:             ['x', 'c_0', 'c_1', 'c_2', 'NBkg', 'mu1', 'sigma1', 'N1', 'mu2', 'sigma2', 'N2']\n"
     ]
    }
   ],
   "source": [
    "# Using a polynomial to fit a distribution is problematic, because the\n",
    "# polynomial can assume negative values, which results in NaN (not a number)\n",
    "# values in the likelihood function.\n",
    "# To avoid this problem we restrict the fit to the range (0, 5) where\n",
    "# the polynomial is clearly positive.\n",
    "fit_range = (0, 5)\n",
    "normalized_poly = probfit.Normalized(probfit.Polynomial(2), fit_range)\n",
    "normalized_poly = probfit.Extended(normalized_poly, extname='NBkg')\n",
    "\n",
    "gauss1 = probfit.Extended(probfit.rename(probfit.gaussian, ['x', 'mu1', 'sigma1']), extname='N1')\n",
    "gauss2 = probfit.Extended(probfit.rename(probfit.gaussian, ['x', 'mu2', 'sigma2']), extname='N2')\n",
    "\n",
    "# Define an extended PDF consisting of three components\n",
    "pdf = probfit.AddPdf(normalized_poly, gauss1, gauss2)\n",
    "\n",
    "print('normalized_poly: {}'.format(probfit.describe(normalized_poly)))\n",
    "print('gauss1:          {}'.format(probfit.describe(gauss1)))\n",
    "print('gauss2:          {}'.format(probfit.describe(gauss2)))\n",
    "print('pdf:             {}'.format(probfit.describe(pdf)))"
   ]
  },
  {
   "cell_type": "code",
   "execution_count": 116,
   "metadata": {
    "collapsed": false
   },
   "outputs": [
    {
     "data": {
      "image/png": "[encoded data removed]",
      "text/plain": [
       "<matplotlib.figure.Figure at 0x7f681734ea10>"
      ]
     },
     "metadata": {},
     "output_type": "display_data"
    }
   ],
   "source": [
    "# Define the cost function in the usual way ...\n",
    "binned_likelihood = probfit.BinnedLH(pdf, data_all, bins=200, extended=True, bound=fit_range)\n",
    "\n",
    "# This is a quite complex fit (11 free parameters!), so we need good starting values.\n",
    "# Actually we even need to set an initial parameter error\n",
    "# for 'mu1' and 'mu2' to make MIGRAD converge.\n",
    "# The initial parameter error is used as the initial step size in the minimization.\n",
    "pars = dict(mu1=1.9, error_mu1=0.1, sigma1=0.2, N1=3000,\n",
    "            mu2=4.1, error_mu2=0.1, sigma2=0.1, N2=5000,\n",
    "            c_0=4, c_1=4, c_2=1, NBkg=20000)\n",
    "minuit = iminuit.Minuit(binned_likelihood, pedantic=False, print_level=0, **pars)\n",
    "# You can see that the model already roughly matches the data\n",
    "binned_likelihood.draw(minuit, parts=True);"
   ]
  },
  {
   "cell_type": "code",
   "execution_count": 117,
   "metadata": {
    "collapsed": false
   },
   "outputs": [],
   "source": [
    "# This can take a while ... the likelihood is evaluated a few 100 times\n",
    "# (and each time the distributions are evaluated, including the\n",
    "# numerical computation of the normalizing integrals)\n",
    "minuit.migrad();"
   ]
  },
  {
   "cell_type": "code",
   "execution_count": 118,
   "metadata": {
    "collapsed": false
   },
   "outputs": [
    {
     "data": {
      "image/png": "[encoded data removed]",
      "text/plain": [
       "<matplotlib.figure.Figure at 0x7f681736c590>"
      ]
     },
     "metadata": {},
     "output_type": "display_data"
    },
    {
     "data": {
      "text/html": [
       "<hr>"
      ]
     },
     "metadata": {},
     "output_type": "display_data"
    },
    {
     "data": {
      "text/html": [
       "\n",
       "        <table>\n",
       "            <tr>\n",
       "                <td title=\"Minimum value of function\">FCN = 88.5482069321</td>\n",
       "                <td title=\"Total number of call to FCN so far\">TOTAL NCALL = 331</td>\n",
       "                <td title=\"Number of call in last migrad\">NCALLS = 331</td>\n",
       "            </tr>\n",
       "            <tr>\n",
       "                <td title=\"Estimated distance to minimum\">EDM = 2.50658883904e-06</td>\n",
       "                <td title=\"Maximum EDM definition of convergence\">GOAL EDM = 5e-06</td>\n",
       "                <td title=\"Error def. Amount of increase in FCN to be defined as 1 standard deviation\">\n",
       "                UP = 0.5</td>\n",
       "            </tr>\n",
       "        </table>\n",
       "        \n",
       "        <table>\n",
       "            <tr>\n",
       "                <td align=\"center\" title=\"Validity of the migrad call\">Valid</td>\n",
       "                <td align=\"center\" title=\"Validity of parameters\">Valid Param</td>\n",
       "                <td align=\"center\" title=\"Is Covariance matrix accurate?\">Accurate Covar</td>\n",
       "                <td align=\"center\" title=\"Positive definiteness of covariance matrix\">PosDef</td>\n",
       "                <td align=\"center\" title=\"Was covariance matrix made posdef by adding diagonal element\">Made PosDef</td>\n",
       "            </tr>\n",
       "            <tr>\n",
       "                <td align=\"center\" style=\"background-color:#92CCA6\">True</td>\n",
       "                <td align=\"center\" style=\"background-color:#92CCA6\">True</td>\n",
       "                <td align=\"center\" style=\"background-color:#FF7878\">False</td>\n",
       "                <td align=\"center\" style=\"background-color:#FF7878\">False</td>\n",
       "                <td align=\"center\" style=\"background-color:#FF7878\">True</td>\n",
       "            </tr>\n",
       "            <tr>\n",
       "                <td align=\"center\" title=\"Was last hesse call fail?\">Hesse Fail</td>\n",
       "                <td align=\"center\" title=\"Validity of covariance\">HasCov</td>\n",
       "                <td align=\"center\" title=\"Is EDM above goal EDM?\">Above EDM</td>\n",
       "                <td align=\"center\"></td>\n",
       "                <td align=\"center\" title=\"Did last migrad call reach max call limit?\">Reach calllim</td>\n",
       "            </tr>\n",
       "            <tr>\n",
       "                <td align=\"center\" style=\"background-color:#92CCA6\">False</td>\n",
       "                <td align=\"center\" style=\"background-color:#92CCA6\">True</td>\n",
       "                <td align=\"center\" style=\"background-color:#92CCA6\">False</td>\n",
       "                <td align=\"center\"></td>\n",
       "                <td align=\"center\" style=\"background-color:#92CCA6\">False</td>\n",
       "            </tr>\n",
       "        </table>\n",
       "        "
      ]
     },
     "metadata": {},
     "output_type": "display_data"
    },
    {
     "data": {
      "text/html": [
       "\n",
       "        <table>\n",
       "            <tr>\n",
       "                <td><a href=\"#\" onclick=\"$('#AcfZksMRVi').toggle()\">+</a></td>\n",
       "                <td title=\"Variable name\">Name</td>\n",
       "                <td title=\"Value of parameter\">Value</td>\n",
       "                <td title=\"Parabolic error\">Parab Error</td>\n",
       "                <td title=\"Minos lower error\">Minos Error-</td>\n",
       "                <td title=\"Minos upper error\">Minos Error+</td>\n",
       "                <td title=\"Lower limit of the parameter\">Limit-</td>\n",
       "                <td title=\"Upper limit of the parameter\">Limit+</td>\n",
       "                <td title=\"Is the parameter fixed in the fit\">FIXED</td>\n",
       "            </tr>\n",
       "        \n",
       "            <tr>\n",
       "                <td>1</td>\n",
       "                <td>c_0</td>\n",
       "                <td>4.1565</td>\n",
       "                <td>3.27518</td>\n",
       "                <td>0</td>\n",
       "                <td>0</td>\n",
       "                <td></td>\n",
       "                <td></td>\n",
       "                <td></td>\n",
       "            </tr>\n",
       "            \n",
       "            <tr>\n",
       "                <td>2</td>\n",
       "                <td>c_1</td>\n",
       "                <td>3.7613</td>\n",
       "                <td>3.02813</td>\n",
       "                <td>0</td>\n",
       "                <td>0</td>\n",
       "                <td></td>\n",
       "                <td></td>\n",
       "                <td></td>\n",
       "            </tr>\n",
       "            \n",
       "            <tr>\n",
       "                <td>3</td>\n",
       "                <td>c_2</td>\n",
       "                <td>0.972491</td>\n",
       "                <td>0.766978</td>\n",
       "                <td>0</td>\n",
       "                <td>0</td>\n",
       "                <td></td>\n",
       "                <td></td>\n",
       "                <td></td>\n",
       "            </tr>\n",
       "            \n",
       "            <tr>\n",
       "                <td>4</td>\n",
       "                <td>NBkg</td>\n",
       "                <td>19601.2</td>\n",
       "                <td>174.571</td>\n",
       "                <td>0</td>\n",
       "                <td>0</td>\n",
       "                <td></td>\n",
       "                <td></td>\n",
       "                <td></td>\n",
       "            </tr>\n",
       "            \n",
       "            <tr>\n",
       "                <td>5</td>\n",
       "                <td>mu1</td>\n",
       "                <td>1.99082</td>\n",
       "                <td>0.00581367</td>\n",
       "                <td>0</td>\n",
       "                <td>0</td>\n",
       "                <td></td>\n",
       "                <td></td>\n",
       "                <td></td>\n",
       "            </tr>\n",
       "            \n",
       "            <tr>\n",
       "                <td>6</td>\n",
       "                <td>sigma1</td>\n",
       "                <td>0.19211</td>\n",
       "                <td>0.00582561</td>\n",
       "                <td>0</td>\n",
       "                <td>0</td>\n",
       "                <td></td>\n",
       "                <td></td>\n",
       "                <td></td>\n",
       "            </tr>\n",
       "            \n",
       "            <tr>\n",
       "                <td>7</td>\n",
       "                <td>N1</td>\n",
       "                <td>2923.54</td>\n",
       "                <td>91.3543</td>\n",
       "                <td>0</td>\n",
       "                <td>0</td>\n",
       "                <td></td>\n",
       "                <td></td>\n",
       "                <td></td>\n",
       "            </tr>\n",
       "            \n",
       "            <tr>\n",
       "                <td>8</td>\n",
       "                <td>mu2</td>\n",
       "                <td>3.99415</td>\n",
       "                <td>0.00212376</td>\n",
       "                <td>0</td>\n",
       "                <td>0</td>\n",
       "                <td></td>\n",
       "                <td></td>\n",
       "                <td></td>\n",
       "            </tr>\n",
       "            \n",
       "            <tr>\n",
       "                <td>9</td>\n",
       "                <td>sigma2</td>\n",
       "                <td>0.10011</td>\n",
       "                <td>0.00199943</td>\n",
       "                <td>0</td>\n",
       "                <td>0</td>\n",
       "                <td></td>\n",
       "                <td></td>\n",
       "                <td></td>\n",
       "            </tr>\n",
       "            \n",
       "            <tr>\n",
       "                <td>10</td>\n",
       "                <td>N2</td>\n",
       "                <td>4969.16</td>\n",
       "                <td>97.9753</td>\n",
       "                <td>0</td>\n",
       "                <td>0</td>\n",
       "                <td></td>\n",
       "                <td></td>\n",
       "                <td></td>\n",
       "            </tr>\n",
       "            \n",
       "            </table>\n",
       "        \n",
       "            <pre id=\"AcfZksMRVi\" style=\"display:none;\">\n",
       "            <textarea rows=\"26\" cols=\"50\" onclick=\"this.select()\" readonly>\\begin{tabular}{|c|r|r|r|r|r|r|r|c|}\n",
       "\\hline\n",
       " & Name & Value & Para Error & Error+ & Error- & Limit+ & Limit- & FIXED\\\\\n",
       "\\hline\n",
       "1 & $c_{0}$ & 4.156e+00 & 3.275e+00 &  &  &  &  & \\\\\n",
       "\\hline\n",
       "2 & $c_{1}$ & 3.761e+00 & 3.028e+00 &  &  &  &  & \\\\\n",
       "\\hline\n",
       "3 & $c_{2}$ & 9.725e-01 & 7.670e-01 &  &  &  &  & \\\\\n",
       "\\hline\n",
       "4 & NBkg & 1.960e+04 & 1.746e+02 &  &  &  &  & \\\\\n",
       "\\hline\n",
       "5 & mu1 & 1.991e+00 & 5.814e-03 &  &  &  &  & \\\\\n",
       "\\hline\n",
       "6 & sigma1 & 1.921e-01 & 5.826e-03 &  &  &  &  & \\\\\n",
       "\\hline\n",
       "7 & N1 & 2.924e+03 & 9.135e+01 &  &  &  &  & \\\\\n",
       "\\hline\n",
       "8 & mu2 & 3.994e+00 & 2.124e-03 &  &  &  &  & \\\\\n",
       "\\hline\n",
       "9 & sigma2 & 1.001e-01 & 1.999e-03 &  &  &  &  & \\\\\n",
       "\\hline\n",
       "10 & N2 & 4.969e+03 & 9.798e+01 &  &  &  &  & \\\\\n",
       "\\hline\n",
       "\\end{tabular}</textarea>\n",
       "            </pre>\n",
       "            "
      ]
     },
     "metadata": {},
     "output_type": "display_data"
    },
    {
     "data": {
      "text/html": [
       "<hr>"
      ]
     },
     "metadata": {},
     "output_type": "display_data"
    },
    {
     "data": {
      "text/html": [
       "\n",
       "            <table>\n",
       "                <tr>\n",
       "                    <td><a onclick=\"$('#IYdJRrnFxj').toggle()\" href=\"#\">+</a></td>\n",
       "        \n",
       "            <td>\n",
       "            <div style=\"width:20px;position:relative; width: -moz-fit-content;\">\n",
       "            <div style=\"display:inline-block;-webkit-writing-mode:vertical-rl;-moz-writing-mode: vertical-rl;writing-mode: vertical-rl;\">\n",
       "            c_0\n",
       "            </div>\n",
       "            </div>\n",
       "            </td>\n",
       "            \n",
       "            <td>\n",
       "            <div style=\"width:20px;position:relative; width: -moz-fit-content;\">\n",
       "            <div style=\"display:inline-block;-webkit-writing-mode:vertical-rl;-moz-writing-mode: vertical-rl;writing-mode: vertical-rl;\">\n",
       "            c_1\n",
       "            </div>\n",
       "            </div>\n",
       "            </td>\n",
       "            \n",
       "            <td>\n",
       "            <div style=\"width:20px;position:relative; width: -moz-fit-content;\">\n",
       "            <div style=\"display:inline-block;-webkit-writing-mode:vertical-rl;-moz-writing-mode: vertical-rl;writing-mode: vertical-rl;\">\n",
       "            c_2\n",
       "            </div>\n",
       "            </div>\n",
       "            </td>\n",
       "            \n",
       "            <td>\n",
       "            <div style=\"width:20px;position:relative; width: -moz-fit-content;\">\n",
       "            <div style=\"display:inline-block;-webkit-writing-mode:vertical-rl;-moz-writing-mode: vertical-rl;writing-mode: vertical-rl;\">\n",
       "            NBkg\n",
       "            </div>\n",
       "            </div>\n",
       "            </td>\n",
       "            \n",
       "            <td>\n",
       "            <div style=\"width:20px;position:relative; width: -moz-fit-content;\">\n",
       "            <div style=\"display:inline-block;-webkit-writing-mode:vertical-rl;-moz-writing-mode: vertical-rl;writing-mode: vertical-rl;\">\n",
       "            mu1\n",
       "            </div>\n",
       "            </div>\n",
       "            </td>\n",
       "            \n",
       "            <td>\n",
       "            <div style=\"width:20px;position:relative; width: -moz-fit-content;\">\n",
       "            <div style=\"display:inline-block;-webkit-writing-mode:vertical-rl;-moz-writing-mode: vertical-rl;writing-mode: vertical-rl;\">\n",
       "            sigma1\n",
       "            </div>\n",
       "            </div>\n",
       "            </td>\n",
       "            \n",
       "            <td>\n",
       "            <div style=\"width:20px;position:relative; width: -moz-fit-content;\">\n",
       "            <div style=\"display:inline-block;-webkit-writing-mode:vertical-rl;-moz-writing-mode: vertical-rl;writing-mode: vertical-rl;\">\n",
       "            N1\n",
       "            </div>\n",
       "            </div>\n",
       "            </td>\n",
       "            \n",
       "            <td>\n",
       "            <div style=\"width:20px;position:relative; width: -moz-fit-content;\">\n",
       "            <div style=\"display:inline-block;-webkit-writing-mode:vertical-rl;-moz-writing-mode: vertical-rl;writing-mode: vertical-rl;\">\n",
       "            mu2\n",
       "            </div>\n",
       "            </div>\n",
       "            </td>\n",
       "            \n",
       "            <td>\n",
       "            <div style=\"width:20px;position:relative; width: -moz-fit-content;\">\n",
       "            <div style=\"display:inline-block;-webkit-writing-mode:vertical-rl;-moz-writing-mode: vertical-rl;writing-mode: vertical-rl;\">\n",
       "            sigma2\n",
       "            </div>\n",
       "            </div>\n",
       "            </td>\n",
       "            \n",
       "            <td>\n",
       "            <div style=\"width:20px;position:relative; width: -moz-fit-content;\">\n",
       "            <div style=\"display:inline-block;-webkit-writing-mode:vertical-rl;-moz-writing-mode: vertical-rl;writing-mode: vertical-rl;\">\n",
       "            N2\n",
       "            </div>\n",
       "            </div>\n",
       "            </td>\n",
       "            \n",
       "                </tr>\n",
       "                \n",
       "            <tr>\n",
       "                <td>c_0</td>\n",
       "            \n",
       "                <td style=\"background-color:rgb(255,117,117)\">\n",
       "                1.00\n",
       "                </td>\n",
       "                \n",
       "                <td style=\"background-color:rgb(253,120,118)\">\n",
       "                0.98\n",
       "                </td>\n",
       "                \n",
       "                <td style=\"background-color:rgb(255,117,117)\">\n",
       "                1.00\n",
       "                </td>\n",
       "                \n",
       "                <td style=\"background-color:rgb(163,254,186)\">\n",
       "                0.00\n",
       "                </td>\n",
       "                \n",
       "                <td style=\"background-color:rgb(163,254,186)\">\n",
       "                0.00\n",
       "                </td>\n",
       "                \n",
       "                <td style=\"background-color:rgb(164,253,185)\">\n",
       "                -0.01\n",
       "                </td>\n",
       "                \n",
       "                <td style=\"background-color:rgb(164,253,185)\">\n",
       "                -0.01\n",
       "                </td>\n",
       "                \n",
       "                <td style=\"background-color:rgb(163,254,186)\">\n",
       "                0.00\n",
       "                </td>\n",
       "                \n",
       "                <td style=\"background-color:rgb(163,253,186)\">\n",
       "                0.00\n",
       "                </td>\n",
       "                \n",
       "                <td style=\"background-color:rgb(163,253,186)\">\n",
       "                0.00\n",
       "                </td>\n",
       "                \n",
       "            </tr>\n",
       "            \n",
       "            <tr>\n",
       "                <td>c_1</td>\n",
       "            \n",
       "                <td style=\"background-color:rgb(253,120,118)\">\n",
       "                0.98\n",
       "                </td>\n",
       "                \n",
       "                <td style=\"background-color:rgb(255,117,117)\">\n",
       "                1.00\n",
       "                </td>\n",
       "                \n",
       "                <td style=\"background-color:rgb(252,121,119)\">\n",
       "                0.97\n",
       "                </td>\n",
       "                \n",
       "                <td style=\"background-color:rgb(167,248,183)\">\n",
       "                0.04\n",
       "                </td>\n",
       "                \n",
       "                <td style=\"background-color:rgb(164,253,186)\">\n",
       "                -0.01\n",
       "                </td>\n",
       "                \n",
       "                <td style=\"background-color:rgb(169,245,182)\">\n",
       "                -0.06\n",
       "                </td>\n",
       "                \n",
       "                <td style=\"background-color:rgb(171,242,180)\">\n",
       "                -0.09\n",
       "                </td>\n",
       "                \n",
       "                <td style=\"background-color:rgb(164,253,185)\">\n",
       "                0.01\n",
       "                </td>\n",
       "                \n",
       "                <td style=\"background-color:rgb(163,253,186)\">\n",
       "                0.00\n",
       "                </td>\n",
       "                \n",
       "                <td style=\"background-color:rgb(163,253,186)\">\n",
       "                0.01\n",
       "                </td>\n",
       "                \n",
       "            </tr>\n",
       "            \n",
       "            <tr>\n",
       "                <td>c_2</td>\n",
       "            \n",
       "                <td style=\"background-color:rgb(255,117,117)\">\n",
       "                1.00\n",
       "                </td>\n",
       "                \n",
       "                <td style=\"background-color:rgb(252,121,119)\">\n",
       "                0.97\n",
       "                </td>\n",
       "                \n",
       "                <td style=\"background-color:rgb(255,117,117)\">\n",
       "                1.00\n",
       "                </td>\n",
       "                \n",
       "                <td style=\"background-color:rgb(164,253,185)\">\n",
       "                -0.01\n",
       "                </td>\n",
       "                \n",
       "                <td style=\"background-color:rgb(163,254,186)\">\n",
       "                -0.00\n",
       "                </td>\n",
       "                \n",
       "                <td style=\"background-color:rgb(165,252,185)\">\n",
       "                0.02\n",
       "                </td>\n",
       "                \n",
       "                <td style=\"background-color:rgb(165,251,184)\">\n",
       "                0.02\n",
       "                </td>\n",
       "                \n",
       "                <td style=\"background-color:rgb(163,254,186)\">\n",
       "                -0.00\n",
       "                </td>\n",
       "                \n",
       "                <td style=\"background-color:rgb(163,253,186)\">\n",
       "                -0.01\n",
       "                </td>\n",
       "                \n",
       "                <td style=\"background-color:rgb(164,253,186)\">\n",
       "                -0.01\n",
       "                </td>\n",
       "                \n",
       "            </tr>\n",
       "            \n",
       "            <tr>\n",
       "                <td>NBkg</td>\n",
       "            \n",
       "                <td style=\"background-color:rgb(163,254,186)\">\n",
       "                0.00\n",
       "                </td>\n",
       "                \n",
       "                <td style=\"background-color:rgb(167,248,183)\">\n",
       "                0.04\n",
       "                </td>\n",
       "                \n",
       "                <td style=\"background-color:rgb(164,253,185)\">\n",
       "                -0.01\n",
       "                </td>\n",
       "                \n",
       "                <td style=\"background-color:rgb(255,117,117)\">\n",
       "                1.00\n",
       "                </td>\n",
       "                \n",
       "                <td style=\"background-color:rgb(167,248,183)\">\n",
       "                -0.05\n",
       "                </td>\n",
       "                \n",
       "                <td style=\"background-color:rgb(189,215,166)\">\n",
       "                -0.28\n",
       "                </td>\n",
       "                \n",
       "                <td style=\"background-color:rgb(197,204,161)\">\n",
       "                -0.37\n",
       "                </td>\n",
       "                \n",
       "                <td style=\"background-color:rgb(163,253,186)\">\n",
       "                -0.01\n",
       "                </td>\n",
       "                \n",
       "                <td style=\"background-color:rgb(185,222,170)\">\n",
       "                -0.23\n",
       "                </td>\n",
       "                \n",
       "                <td style=\"background-color:rgb(190,213,166)\">\n",
       "                -0.30\n",
       "                </td>\n",
       "                \n",
       "            </tr>\n",
       "            \n",
       "            <tr>\n",
       "                <td>mu1</td>\n",
       "            \n",
       "                <td style=\"background-color:rgb(163,254,186)\">\n",
       "                0.00\n",
       "                </td>\n",
       "                \n",
       "                <td style=\"background-color:rgb(164,253,186)\">\n",
       "                -0.01\n",
       "                </td>\n",
       "                \n",
       "                <td style=\"background-color:rgb(163,254,186)\">\n",
       "                -0.00\n",
       "                </td>\n",
       "                \n",
       "                <td style=\"background-color:rgb(167,248,183)\">\n",
       "                -0.05\n",
       "                </td>\n",
       "                \n",
       "                <td style=\"background-color:rgb(255,117,117)\">\n",
       "                1.00\n",
       "                </td>\n",
       "                \n",
       "                <td style=\"background-color:rgb(170,243,181)\">\n",
       "                0.08\n",
       "                </td>\n",
       "                \n",
       "                <td style=\"background-color:rgb(169,245,181)\">\n",
       "                0.07\n",
       "                </td>\n",
       "                \n",
       "                <td style=\"background-color:rgb(163,254,186)\">\n",
       "                0.00\n",
       "                </td>\n",
       "                \n",
       "                <td style=\"background-color:rgb(164,252,185)\">\n",
       "                0.02\n",
       "                </td>\n",
       "                \n",
       "                <td style=\"background-color:rgb(165,251,185)\">\n",
       "                0.02\n",
       "                </td>\n",
       "                \n",
       "            </tr>\n",
       "            \n",
       "            <tr>\n",
       "                <td>sigma1</td>\n",
       "            \n",
       "                <td style=\"background-color:rgb(164,253,185)\">\n",
       "                -0.01\n",
       "                </td>\n",
       "                \n",
       "                <td style=\"background-color:rgb(169,245,182)\">\n",
       "                -0.06\n",
       "                </td>\n",
       "                \n",
       "                <td style=\"background-color:rgb(165,252,185)\">\n",
       "                0.02\n",
       "                </td>\n",
       "                \n",
       "                <td style=\"background-color:rgb(189,215,166)\">\n",
       "                -0.28\n",
       "                </td>\n",
       "                \n",
       "                <td style=\"background-color:rgb(170,243,181)\">\n",
       "                0.08\n",
       "                </td>\n",
       "                \n",
       "                <td style=\"background-color:rgb(255,117,117)\">\n",
       "                1.00\n",
       "                </td>\n",
       "                \n",
       "                <td style=\"background-color:rgb(209,185,151)\">\n",
       "                0.50\n",
       "                </td>\n",
       "                \n",
       "                <td style=\"background-color:rgb(164,252,185)\">\n",
       "                -0.02\n",
       "                </td>\n",
       "                \n",
       "                <td style=\"background-color:rgb(166,250,184)\">\n",
       "                0.03\n",
       "                </td>\n",
       "                \n",
       "                <td style=\"background-color:rgb(166,249,183)\">\n",
       "                0.04\n",
       "                </td>\n",
       "                \n",
       "            </tr>\n",
       "            \n",
       "            <tr>\n",
       "                <td>N1</td>\n",
       "            \n",
       "                <td style=\"background-color:rgb(164,253,185)\">\n",
       "                -0.01\n",
       "                </td>\n",
       "                \n",
       "                <td style=\"background-color:rgb(171,242,180)\">\n",
       "                -0.09\n",
       "                </td>\n",
       "                \n",
       "                <td style=\"background-color:rgb(165,251,184)\">\n",
       "                0.02\n",
       "                </td>\n",
       "                \n",
       "                <td style=\"background-color:rgb(197,204,161)\">\n",
       "                -0.37\n",
       "                </td>\n",
       "                \n",
       "                <td style=\"background-color:rgb(169,245,181)\">\n",
       "                0.07\n",
       "                </td>\n",
       "                \n",
       "                <td style=\"background-color:rgb(209,185,151)\">\n",
       "                0.50\n",
       "                </td>\n",
       "                \n",
       "                <td style=\"background-color:rgb(255,117,117)\">\n",
       "                1.00\n",
       "                </td>\n",
       "                \n",
       "                <td style=\"background-color:rgb(165,251,185)\">\n",
       "                -0.02\n",
       "                </td>\n",
       "                \n",
       "                <td style=\"background-color:rgb(166,249,183)\">\n",
       "                0.04\n",
       "                </td>\n",
       "                \n",
       "                <td style=\"background-color:rgb(167,247,183)\">\n",
       "                0.05\n",
       "                </td>\n",
       "                \n",
       "            </tr>\n",
       "            \n",
       "            <tr>\n",
       "                <td>mu2</td>\n",
       "            \n",
       "                <td style=\"background-color:rgb(163,254,186)\">\n",
       "                0.00\n",
       "                </td>\n",
       "                \n",
       "                <td style=\"background-color:rgb(164,253,185)\">\n",
       "                0.01\n",
       "                </td>\n",
       "                \n",
       "                <td style=\"background-color:rgb(163,254,186)\">\n",
       "                -0.00\n",
       "                </td>\n",
       "                \n",
       "                <td style=\"background-color:rgb(163,253,186)\">\n",
       "                -0.01\n",
       "                </td>\n",
       "                \n",
       "                <td style=\"background-color:rgb(163,254,186)\">\n",
       "                0.00\n",
       "                </td>\n",
       "                \n",
       "                <td style=\"background-color:rgb(164,252,185)\">\n",
       "                -0.02\n",
       "                </td>\n",
       "                \n",
       "                <td style=\"background-color:rgb(165,251,185)\">\n",
       "                -0.02\n",
       "                </td>\n",
       "                \n",
       "                <td style=\"background-color:rgb(255,117,117)\">\n",
       "                1.00\n",
       "                </td>\n",
       "                \n",
       "                <td style=\"background-color:rgb(166,249,184)\">\n",
       "                0.03\n",
       "                </td>\n",
       "                \n",
       "                <td style=\"background-color:rgb(166,250,184)\">\n",
       "                0.03\n",
       "                </td>\n",
       "                \n",
       "            </tr>\n",
       "            \n",
       "            <tr>\n",
       "                <td>sigma2</td>\n",
       "            \n",
       "                <td style=\"background-color:rgb(163,253,186)\">\n",
       "                0.00\n",
       "                </td>\n",
       "                \n",
       "                <td style=\"background-color:rgb(163,253,186)\">\n",
       "                0.00\n",
       "                </td>\n",
       "                \n",
       "                <td style=\"background-color:rgb(163,253,186)\">\n",
       "                -0.01\n",
       "                </td>\n",
       "                \n",
       "                <td style=\"background-color:rgb(185,222,170)\">\n",
       "                -0.23\n",
       "                </td>\n",
       "                \n",
       "                <td style=\"background-color:rgb(164,252,185)\">\n",
       "                0.02\n",
       "                </td>\n",
       "                \n",
       "                <td style=\"background-color:rgb(166,250,184)\">\n",
       "                0.03\n",
       "                </td>\n",
       "                \n",
       "                <td style=\"background-color:rgb(166,249,183)\">\n",
       "                0.04\n",
       "                </td>\n",
       "                \n",
       "                <td style=\"background-color:rgb(166,249,184)\">\n",
       "                0.03\n",
       "                </td>\n",
       "                \n",
       "                <td style=\"background-color:rgb(255,117,117)\">\n",
       "                1.00\n",
       "                </td>\n",
       "                \n",
       "                <td style=\"background-color:rgb(198,202,160)\">\n",
       "                0.38\n",
       "                </td>\n",
       "                \n",
       "            </tr>\n",
       "            \n",
       "            <tr>\n",
       "                <td>N2</td>\n",
       "            \n",
       "                <td style=\"background-color:rgb(163,253,186)\">\n",
       "                0.00\n",
       "                </td>\n",
       "                \n",
       "                <td style=\"background-color:rgb(163,253,186)\">\n",
       "                0.01\n",
       "                </td>\n",
       "                \n",
       "                <td style=\"background-color:rgb(164,253,186)\">\n",
       "                -0.01\n",
       "                </td>\n",
       "                \n",
       "                <td style=\"background-color:rgb(190,213,166)\">\n",
       "                -0.30\n",
       "                </td>\n",
       "                \n",
       "                <td style=\"background-color:rgb(165,251,185)\">\n",
       "                0.02\n",
       "                </td>\n",
       "                \n",
       "                <td style=\"background-color:rgb(166,249,183)\">\n",
       "                0.04\n",
       "                </td>\n",
       "                \n",
       "                <td style=\"background-color:rgb(167,247,183)\">\n",
       "                0.05\n",
       "                </td>\n",
       "                \n",
       "                <td style=\"background-color:rgb(166,250,184)\">\n",
       "                0.03\n",
       "                </td>\n",
       "                \n",
       "                <td style=\"background-color:rgb(198,202,160)\">\n",
       "                0.38\n",
       "                </td>\n",
       "                \n",
       "                <td style=\"background-color:rgb(255,117,117)\">\n",
       "                1.00\n",
       "                </td>\n",
       "                \n",
       "            </tr>\n",
       "            </table>\n",
       "\n",
       "            <pre id=\"IYdJRrnFxj\" style=\"display:none;\">\n",
       "            <textarea rows=\"29\" cols=\"50\" onclick=\"this.select()\" readonly>%\\usepackage[table]{xcolor} % include this for color\n",
       "%\\usepackage{rotating} % include this for rotate header\n",
       "%\\documentclass[xcolor=table]{beamer} % for beamer\n",
       "\\begin{tabular}{|c|c|c|c|c|c|c|c|c|c|c|}\n",
       "\\hline\n",
       "\\rotatebox{90}{} & \\rotatebox{90}{$c_{0}$} & \\rotatebox{90}{$c_{1}$} & \\rotatebox{90}{$c_{2}$} & \\rotatebox{90}{NBkg} & \\rotatebox{90}{mu1} & \\rotatebox{90}{sigma1} & \\rotatebox{90}{N1} & \\rotatebox{90}{mu2} & \\rotatebox{90}{sigma2} & \\rotatebox{90}{N2}\\\\\n",
       "\\hline\n",
       "$c_{0}$ & \\cellcolor[RGB]{255,117,117} 1.00 & \\cellcolor[RGB]{253,120,118} 0.98 & \\cellcolor[RGB]{255,117,117} 1.00 & \\cellcolor[RGB]{163,254,186} 0.00 & \\cellcolor[RGB]{163,254,186} 0.00 & \\cellcolor[RGB]{164,253,185} -0.01 & \\cellcolor[RGB]{164,253,185} -0.01 & \\cellcolor[RGB]{163,254,186} 0.00 & \\cellcolor[RGB]{163,253,186} 0.00 & \\cellcolor[RGB]{163,253,186} 0.00\\\\\n",
       "\\hline\n",
       "$c_{1}$ & \\cellcolor[RGB]{253,120,118} 0.98 & \\cellcolor[RGB]{255,117,117} 1.00 & \\cellcolor[RGB]{252,121,119} 0.97 & \\cellcolor[RGB]{167,248,183} 0.04 & \\cellcolor[RGB]{164,253,186} -0.01 & \\cellcolor[RGB]{169,245,182} -0.06 & \\cellcolor[RGB]{171,242,180} -0.09 & \\cellcolor[RGB]{164,253,185} 0.01 & \\cellcolor[RGB]{163,253,186} 0.00 & \\cellcolor[RGB]{163,253,186} 0.01\\\\\n",
       "\\hline\n",
       "$c_{2}$ & \\cellcolor[RGB]{255,117,117} 1.00 & \\cellcolor[RGB]{252,121,119} 0.97 & \\cellcolor[RGB]{255,117,117} 1.00 & \\cellcolor[RGB]{164,253,185} -0.01 & \\cellcolor[RGB]{163,254,186} -0.00 & \\cellcolor[RGB]{165,252,185} 0.02 & \\cellcolor[RGB]{165,251,184} 0.02 & \\cellcolor[RGB]{163,254,186} -0.00 & \\cellcolor[RGB]{163,253,186} -0.01 & \\cellcolor[RGB]{164,253,186} -0.01\\\\\n",
       "\\hline\n",
       "NBkg & \\cellcolor[RGB]{163,254,186} 0.00 & \\cellcolor[RGB]{167,248,183} 0.04 & \\cellcolor[RGB]{164,253,185} -0.01 & \\cellcolor[RGB]{255,117,117} 1.00 & \\cellcolor[RGB]{167,248,183} -0.05 & \\cellcolor[RGB]{189,215,166} -0.28 & \\cellcolor[RGB]{197,204,161} -0.37 & \\cellcolor[RGB]{163,253,186} -0.01 & \\cellcolor[RGB]{185,222,170} -0.23 & \\cellcolor[RGB]{190,213,166} -0.30\\\\\n",
       "\\hline\n",
       "mu1 & \\cellcolor[RGB]{163,254,186} 0.00 & \\cellcolor[RGB]{164,253,186} -0.01 & \\cellcolor[RGB]{163,254,186} -0.00 & \\cellcolor[RGB]{167,248,183} -0.05 & \\cellcolor[RGB]{255,117,117} 1.00 & \\cellcolor[RGB]{170,243,181} 0.08 & \\cellcolor[RGB]{169,245,181} 0.07 & \\cellcolor[RGB]{163,254,186} 0.00 & \\cellcolor[RGB]{164,252,185} 0.02 & \\cellcolor[RGB]{165,251,185} 0.02\\\\\n",
       "\\hline\n",
       "sigma1 & \\cellcolor[RGB]{164,253,185} -0.01 & \\cellcolor[RGB]{169,245,182} -0.06 & \\cellcolor[RGB]{165,252,185} 0.02 & \\cellcolor[RGB]{189,215,166} -0.28 & \\cellcolor[RGB]{170,243,181} 0.08 & \\cellcolor[RGB]{255,117,117} 1.00 & \\cellcolor[RGB]{209,185,151} 0.50 & \\cellcolor[RGB]{164,252,185} -0.02 & \\cellcolor[RGB]{166,250,184} 0.03 & \\cellcolor[RGB]{166,249,183} 0.04\\\\\n",
       "\\hline\n",
       "N1 & \\cellcolor[RGB]{164,253,185} -0.01 & \\cellcolor[RGB]{171,242,180} -0.09 & \\cellcolor[RGB]{165,251,184} 0.02 & \\cellcolor[RGB]{197,204,161} -0.37 & \\cellcolor[RGB]{169,245,181} 0.07 & \\cellcolor[RGB]{209,185,151} 0.50 & \\cellcolor[RGB]{255,117,117} 1.00 & \\cellcolor[RGB]{165,251,185} -0.02 & \\cellcolor[RGB]{166,249,183} 0.04 & \\cellcolor[RGB]{167,247,183} 0.05\\\\\n",
       "\\hline\n",
       "mu2 & \\cellcolor[RGB]{163,254,186} 0.00 & \\cellcolor[RGB]{164,253,185} 0.01 & \\cellcolor[RGB]{163,254,186} -0.00 & \\cellcolor[RGB]{163,253,186} -0.01 & \\cellcolor[RGB]{163,254,186} 0.00 & \\cellcolor[RGB]{164,252,185} -0.02 & \\cellcolor[RGB]{165,251,185} -0.02 & \\cellcolor[RGB]{255,117,117} 1.00 & \\cellcolor[RGB]{166,249,184} 0.03 & \\cellcolor[RGB]{166,250,184} 0.03\\\\\n",
       "\\hline\n",
       "sigma2 & \\cellcolor[RGB]{163,253,186} 0.00 & \\cellcolor[RGB]{163,253,186} 0.00 & \\cellcolor[RGB]{163,253,186} -0.01 & \\cellcolor[RGB]{185,222,170} -0.23 & \\cellcolor[RGB]{164,252,185} 0.02 & \\cellcolor[RGB]{166,250,184} 0.03 & \\cellcolor[RGB]{166,249,183} 0.04 & \\cellcolor[RGB]{166,249,184} 0.03 & \\cellcolor[RGB]{255,117,117} 1.00 & \\cellcolor[RGB]{198,202,160} 0.38\\\\\n",
       "\\hline\n",
       "N2 & \\cellcolor[RGB]{163,253,186} 0.00 & \\cellcolor[RGB]{163,253,186} 0.01 & \\cellcolor[RGB]{164,253,186} -0.01 & \\cellcolor[RGB]{190,213,166} -0.30 & \\cellcolor[RGB]{165,251,185} 0.02 & \\cellcolor[RGB]{166,249,183} 0.04 & \\cellcolor[RGB]{167,247,183} 0.05 & \\cellcolor[RGB]{166,250,184} 0.03 & \\cellcolor[RGB]{198,202,160} 0.38 & \\cellcolor[RGB]{255,117,117} 1.00\\\\\n",
       "\\hline\n",
       "\\end{tabular}</textarea>\n",
       "            </pre>\n",
       "            "
      ]
     },
     "metadata": {},
     "output_type": "display_data"
    }
   ],
   "source": [
    "binned_likelihood.show(minuit, parts=True);\n",
    "minuit.print_fmin()\n",
    "minuit.print_matrix()"
   ]
  },
  {
   "cell_type": "markdown",
   "metadata": {},
   "source": [
    "Note the red upper left corner in the correlation matrix above?\n",
    "\n",
    "It shows that the three polynomial parameters `c_0`, `c_1` and `c_2` are highly correlated?\n",
    "The reason is that we put a constraint on the polynomial to be normalized over the fit range:\n",
    "\n",
    "    fit_range = (0, 5)\n",
    "    normalized_poly = probfit.Normalized(probfit.Polynomial(2), fit_range)\n",
    "    normalized_poly = probfit.Extended(normalized_poly, extname='NBkg')\n",
    "\n",
    "To resolve this problem you could simply use a non-normalized and non-extended polynomial to model the background. We won't do this here, though ..."
   ]
  },
  {
   "cell_type": "markdown",
   "metadata": {},
   "source": [
    "## Custom Drawing\n",
    "\n",
    "The `draw()` and `show()` method we provide is intended to just give you a quick look at your fit.\n",
    "\n",
    "To make a custom drawing you can use the return value of `draw()` and `show()`."
   ]
  },
  {
   "cell_type": "code",
   "execution_count": 119,
   "metadata": {
    "collapsed": false
   },
   "outputs": [
    {
     "data": {
      "image/png": "[encoded data removed]",
      "text/plain": [
       "<matplotlib.figure.Figure at 0x7f681736c550>"
      ]
     },
     "metadata": {},
     "output_type": "display_data"
    }
   ],
   "source": [
    "# You should copy & paste the return tuple from the `draw` docstring ...\n",
    "((data_edges, datay), (errorp, errorm), (total_pdf_x, total_pdf_y), parts) = binned_likelihood.draw(minuit, parts=True);\n",
    "# ... now we have everything to make our own plot"
   ]
  },
  {
   "cell_type": "code",
   "execution_count": 120,
   "metadata": {
    "collapsed": false
   },
   "outputs": [
    {
     "data": {
      "image/png": "[encoded data removed]",
      "text/plain": [
       "<matplotlib.figure.Figure at 0x7f6865861590>"
      ]
     },
     "metadata": {},
     "output_type": "display_data"
    }
   ],
   "source": [
    "# Now make the plot as pretty as you like, e.g. with matplotlib.\n",
    "plt.figure(figsize=(8, 5))\n",
    "plt.errorbar(probfit.mid(data_edges), datay, errorp, fmt='.', capsize=0, color='Gray', label='Data')\n",
    "plt.plot(total_pdf_x, total_pdf_y, color='blue', lw=2, label='Total Model')\n",
    "colors = ['orange', 'purple', 'DarkGreen']\n",
    "labels = ['Background', 'Signal 1', 'Signal 2']\n",
    "for color, label, part in zip(colors, labels, parts):\n",
    "    x, y = part\n",
    "    plt.plot(x, y, ls='--', color=color, label=label)\n",
    "plt.grid(True)\n",
    "plt.legend(loc='upper left');"
   ]
  },
  {
   "cell_type": "markdown",
   "metadata": {},
   "source": [
    "## Simultaneous fit to several data sets\n",
    "\n",
    "Sometimes, what we want to fit is the sum of likelihood /chi^2 of two PDFs for two different datasets that share some parameters.\n",
    "\n",
    "In this example, we will fit two Gaussian distributions where we know that the widths are the same\n",
    "but the peaks are at different places."
   ]
  },
  {
   "cell_type": "code",
   "execution_count": 121,
   "metadata": {
    "collapsed": false
   },
   "outputs": [
    {
     "data": {
      "image/png": "[encoded data removed]",
      "text/plain": [
       "<matplotlib.figure.Figure at 0x7f686586e3d0>"
      ]
     },
     "metadata": {},
     "output_type": "display_data"
    }
   ],
   "source": [
    "# Generate some example data\n",
    "np.random.seed(0)\n",
    "data1 = np.random.randn(10000) + 3 # mean =  3, sigma = 1\n",
    "data2 = np.random.randn(10000) - 2 # mean = -2, sigma = 1\n",
    "plt.figure(figsize=(12,4))\n",
    "plt.subplot(121)\n",
    "plt.hist(data1, bins=100, range=(-7, 7), histtype='step', label='data1')\n",
    "plt.legend()\n",
    "plt.subplot(122)\n",
    "plt.hist(data2, bins=100, range=(-7, 7), histtype='step', label='data2')\n",
    "plt.legend();"
   ]
  },
  {
   "cell_type": "code",
   "execution_count": 122,
   "metadata": {
    "collapsed": false
   },
   "outputs": [
    {
     "name": "stdout",
     "output_type": "stream",
     "text": [
      "['mean2', 'sigma']\n",
      "[u'mean', u'sigma']\n",
      "['mean2', 'sigma', u'mean']\n"
     ]
    }
   ],
   "source": [
    "# There is nothing special about built-in cost function\n",
    "# except some utility function like draw and show\n",
    "likelihood1 = probfit.UnbinnedLH(probfit.rename(probfit.gaussian, ('x', 'mean2', 'sigma')), data1)\n",
    "likelihood2 = probfit.UnbinnedLH(probfit.gaussian, data2)\n",
    "simultaneous_likelihood = probfit.SimultaneousFit(likelihood1, likelihood2)\n",
    "print(probfit.describe(likelihood1))\n",
    "print(probfit.describe(likelihood2))\n",
    "# Note that the simultaneous likelihood has only 3 parameters, because the\n",
    "# 'sigma' parameter is tied (i.e. linked to always be the same).\n",
    "print(probfit.describe(simultaneous_likelihood))"
   ]
  },
  {
   "cell_type": "code",
   "execution_count": 123,
   "metadata": {
    "collapsed": false
   },
   "outputs": [],
   "source": [
    "# Ah, the beauty of Minuit ... it doesn't care what your cost funtion is ...\n",
    "# you can use it to fit (i.e. compute optimal parameters and parameter errors) anything.\n",
    "minuit = iminuit.Minuit(simultaneous_likelihood, sigma=0.5, pedantic=False, print_level=0)\n",
    "# Well, there's one thing we have to tell Minuit so that it can compute parameter errors,\n",
    "# and that is the value of `errordef`, a.k.a. `up` (explained above).\n",
    "# This is a likelihood fit, so we need `errordef = 0.5` and not the default `errordef = 1`:\n",
    "minuit.errordef = 0.5"
   ]
  },
  {
   "cell_type": "code",
   "execution_count": 124,
   "metadata": {
    "collapsed": false
   },
   "outputs": [
    {
     "data": {
      "text/html": [
       "<hr>"
      ]
     },
     "metadata": {},
     "output_type": "display_data"
    },
    {
     "data": {
      "text/html": [
       "\n",
       "        <table>\n",
       "            <tr>\n",
       "                <td title=\"Minimum value of function\">FCN = 28184.0142939</td>\n",
       "                <td title=\"Total number of call to FCN so far\">TOTAL NCALL = 88</td>\n",
       "                <td title=\"Number of call in last migrad\">NCALLS = 88</td>\n",
       "            </tr>\n",
       "            <tr>\n",
       "                <td title=\"Estimated distance to minimum\">EDM = 6.2598832354e-06</td>\n",
       "                <td title=\"Maximum EDM definition of convergence\">GOAL EDM = 5e-06</td>\n",
       "                <td title=\"Error def. Amount of increase in FCN to be defined as 1 standard deviation\">\n",
       "                UP = 0.5</td>\n",
       "            </tr>\n",
       "        </table>\n",
       "        \n",
       "        <table>\n",
       "            <tr>\n",
       "                <td align=\"center\" title=\"Validity of the migrad call\">Valid</td>\n",
       "                <td align=\"center\" title=\"Validity of parameters\">Valid Param</td>\n",
       "                <td align=\"center\" title=\"Is Covariance matrix accurate?\">Accurate Covar</td>\n",
       "                <td align=\"center\" title=\"Positive definiteness of covariance matrix\">PosDef</td>\n",
       "                <td align=\"center\" title=\"Was covariance matrix made posdef by adding diagonal element\">Made PosDef</td>\n",
       "            </tr>\n",
       "            <tr>\n",
       "                <td align=\"center\" style=\"background-color:#92CCA6\">True</td>\n",
       "                <td align=\"center\" style=\"background-color:#92CCA6\">True</td>\n",
       "                <td align=\"center\" style=\"background-color:#92CCA6\">True</td>\n",
       "                <td align=\"center\" style=\"background-color:#92CCA6\">True</td>\n",
       "                <td align=\"center\" style=\"background-color:#92CCA6\">False</td>\n",
       "            </tr>\n",
       "            <tr>\n",
       "                <td align=\"center\" title=\"Was last hesse call fail?\">Hesse Fail</td>\n",
       "                <td align=\"center\" title=\"Validity of covariance\">HasCov</td>\n",
       "                <td align=\"center\" title=\"Is EDM above goal EDM?\">Above EDM</td>\n",
       "                <td align=\"center\"></td>\n",
       "                <td align=\"center\" title=\"Did last migrad call reach max call limit?\">Reach calllim</td>\n",
       "            </tr>\n",
       "            <tr>\n",
       "                <td align=\"center\" style=\"background-color:#92CCA6\">False</td>\n",
       "                <td align=\"center\" style=\"background-color:#92CCA6\">True</td>\n",
       "                <td align=\"center\" style=\"background-color:#92CCA6\">False</td>\n",
       "                <td align=\"center\"></td>\n",
       "                <td align=\"center\" style=\"background-color:#92CCA6\">False</td>\n",
       "            </tr>\n",
       "        </table>\n",
       "        "
      ]
     },
     "metadata": {},
     "output_type": "display_data"
    },
    {
     "data": {
      "text/html": [
       "\n",
       "        <table>\n",
       "            <tr>\n",
       "                <td><a href=\"#\" onclick=\"$('#yvDAqsRnDa').toggle()\">+</a></td>\n",
       "                <td title=\"Variable name\">Name</td>\n",
       "                <td title=\"Value of parameter\">Value</td>\n",
       "                <td title=\"Parabolic error\">Parab Error</td>\n",
       "                <td title=\"Minos lower error\">Minos Error-</td>\n",
       "                <td title=\"Minos upper error\">Minos Error+</td>\n",
       "                <td title=\"Lower limit of the parameter\">Limit-</td>\n",
       "                <td title=\"Upper limit of the parameter\">Limit+</td>\n",
       "                <td title=\"Is the parameter fixed in the fit\">FIXED</td>\n",
       "            </tr>\n",
       "        \n",
       "            <tr>\n",
       "                <td>1</td>\n",
       "                <td>mean2</td>\n",
       "                <td>2.98154</td>\n",
       "                <td>0.00990303</td>\n",
       "                <td>0</td>\n",
       "                <td>0</td>\n",
       "                <td></td>\n",
       "                <td></td>\n",
       "                <td></td>\n",
       "            </tr>\n",
       "            \n",
       "            <tr>\n",
       "                <td>2</td>\n",
       "                <td>sigma</td>\n",
       "                <td>0.990302</td>\n",
       "                <td>0.00495146</td>\n",
       "                <td>0</td>\n",
       "                <td>0</td>\n",
       "                <td></td>\n",
       "                <td></td>\n",
       "                <td></td>\n",
       "            </tr>\n",
       "            \n",
       "            <tr>\n",
       "                <td>3</td>\n",
       "                <td>mean</td>\n",
       "                <td>-1.98899</td>\n",
       "                <td>0.00990303</td>\n",
       "                <td>0</td>\n",
       "                <td>0</td>\n",
       "                <td></td>\n",
       "                <td></td>\n",
       "                <td></td>\n",
       "            </tr>\n",
       "            \n",
       "            </table>\n",
       "        \n",
       "            <pre id=\"yvDAqsRnDa\" style=\"display:none;\">\n",
       "            <textarea rows=\"12\" cols=\"50\" onclick=\"this.select()\" readonly>\\begin{tabular}{|c|r|r|r|r|r|r|r|c|}\n",
       "\\hline\n",
       " & Name & Value & Para Error & Error+ & Error- & Limit+ & Limit- & FIXED\\\\\n",
       "\\hline\n",
       "1 & mean2 & 2.982e+00 & 9.903e-03 &  &  &  &  & \\\\\n",
       "\\hline\n",
       "2 & $\\sigma$ & 9.903e-01 & 4.951e-03 &  &  &  &  & \\\\\n",
       "\\hline\n",
       "3 & mean & -1.989e+00 & 9.903e-03 &  &  &  &  & \\\\\n",
       "\\hline\n",
       "\\end{tabular}</textarea>\n",
       "            </pre>\n",
       "            "
      ]
     },
     "metadata": {},
     "output_type": "display_data"
    },
    {
     "data": {
      "text/html": [
       "<hr>"
      ]
     },
     "metadata": {},
     "output_type": "display_data"
    },
    {
     "data": {
      "text/html": [
       "\n",
       "            <table>\n",
       "                <tr>\n",
       "                    <td><a onclick=\"$('#MrcomXsosX').toggle()\" href=\"#\">+</a></td>\n",
       "        \n",
       "            <td>\n",
       "            <div style=\"width:20px;position:relative; width: -moz-fit-content;\">\n",
       "            <div style=\"display:inline-block;-webkit-writing-mode:vertical-rl;-moz-writing-mode: vertical-rl;writing-mode: vertical-rl;\">\n",
       "            mean2\n",
       "            </div>\n",
       "            </div>\n",
       "            </td>\n",
       "            \n",
       "            <td>\n",
       "            <div style=\"width:20px;position:relative; width: -moz-fit-content;\">\n",
       "            <div style=\"display:inline-block;-webkit-writing-mode:vertical-rl;-moz-writing-mode: vertical-rl;writing-mode: vertical-rl;\">\n",
       "            sigma\n",
       "            </div>\n",
       "            </div>\n",
       "            </td>\n",
       "            \n",
       "            <td>\n",
       "            <div style=\"width:20px;position:relative; width: -moz-fit-content;\">\n",
       "            <div style=\"display:inline-block;-webkit-writing-mode:vertical-rl;-moz-writing-mode: vertical-rl;writing-mode: vertical-rl;\">\n",
       "            mean\n",
       "            </div>\n",
       "            </div>\n",
       "            </td>\n",
       "            \n",
       "                </tr>\n",
       "                \n",
       "            <tr>\n",
       "                <td>mean2</td>\n",
       "            \n",
       "                <td style=\"background-color:rgb(255,117,117)\">\n",
       "                1.00\n",
       "                </td>\n",
       "                \n",
       "                <td style=\"background-color:rgb(163,254,186)\">\n",
       "                0.00\n",
       "                </td>\n",
       "                \n",
       "                <td style=\"background-color:rgb(163,254,186)\">\n",
       "                0.00\n",
       "                </td>\n",
       "                \n",
       "            </tr>\n",
       "            \n",
       "            <tr>\n",
       "                <td>sigma</td>\n",
       "            \n",
       "                <td style=\"background-color:rgb(163,254,186)\">\n",
       "                0.00\n",
       "                </td>\n",
       "                \n",
       "                <td style=\"background-color:rgb(255,117,117)\">\n",
       "                1.00\n",
       "                </td>\n",
       "                \n",
       "                <td style=\"background-color:rgb(163,254,186)\">\n",
       "                0.00\n",
       "                </td>\n",
       "                \n",
       "            </tr>\n",
       "            \n",
       "            <tr>\n",
       "                <td>mean</td>\n",
       "            \n",
       "                <td style=\"background-color:rgb(163,254,186)\">\n",
       "                0.00\n",
       "                </td>\n",
       "                \n",
       "                <td style=\"background-color:rgb(163,254,186)\">\n",
       "                0.00\n",
       "                </td>\n",
       "                \n",
       "                <td style=\"background-color:rgb(255,117,117)\">\n",
       "                1.00\n",
       "                </td>\n",
       "                \n",
       "            </tr>\n",
       "            </table>\n",
       "\n",
       "            <pre id=\"MrcomXsosX\" style=\"display:none;\">\n",
       "            <textarea rows=\"15\" cols=\"50\" onclick=\"this.select()\" readonly>%\\usepackage[table]{xcolor} % include this for color\n",
       "%\\usepackage{rotating} % include this for rotate header\n",
       "%\\documentclass[xcolor=table]{beamer} % for beamer\n",
       "\\begin{tabular}{|c|c|c|c|}\n",
       "\\hline\n",
       "\\rotatebox{90}{} & \\rotatebox{90}{mean2} & \\rotatebox{90}{$\\sigma$} & \\rotatebox{90}{mean}\\\\\n",
       "\\hline\n",
       "mean2 & \\cellcolor[RGB]{255,117,117} 1.00 & \\cellcolor[RGB]{163,254,186} 0.00 & \\cellcolor[RGB]{163,254,186} 0.00\\\\\n",
       "\\hline\n",
       "$\\sigma$ & \\cellcolor[RGB]{163,254,186} 0.00 & \\cellcolor[RGB]{255,117,117} 1.00 & \\cellcolor[RGB]{163,254,186} 0.00\\\\\n",
       "\\hline\n",
       "mean & \\cellcolor[RGB]{163,254,186} 0.00 & \\cellcolor[RGB]{163,254,186} 0.00 & \\cellcolor[RGB]{255,117,117} 1.00\\\\\n",
       "\\hline\n",
       "\\end{tabular}</textarea>\n",
       "            </pre>\n",
       "            "
      ]
     },
     "metadata": {},
     "output_type": "display_data"
    }
   ],
   "source": [
    "# Run the fit and print the results\n",
    "minuit.migrad();\n",
    "minuit.print_fmin()\n",
    "minuit.print_matrix()"
   ]
  },
  {
   "cell_type": "code",
   "execution_count": 125,
   "metadata": {
    "collapsed": false
   },
   "outputs": [
    {
     "data": {
      "image/png": "[encoded data removed]",
      "text/plain": [
       "<matplotlib.figure.Figure at 0x7f68785d4b50>"
      ]
     },
     "metadata": {},
     "output_type": "display_data"
    }
   ],
   "source": [
    "simultaneous_likelihood.draw(minuit);"
   ]
  },
  {
   "cell_type": "markdown",
   "metadata": {},
   "source": [
    "## Blinding parameters\n",
    "\n",
    "Often, an analyst would like to avoid looking at the result of the fitted parameter(s) before he/she finalized the analysis in order to avoid biases due to the prejudice of the analyst. Probfit provids a transformation function that hides the true value(s) of the parameter(s). The transformation function requires a string to set the seed of the random number generator, and a scale to smear the parameter(s) using a Gaussian."
   ]
  },
  {
   "cell_type": "code",
   "execution_count": 126,
   "metadata": {
    "collapsed": false
   },
   "outputs": [],
   "source": [
    "from probfit import UnbinnedLH, BlindFunc, rename, AddPdfNorm\n",
    "from probfit import gaussian\n",
    "from iminuit import Minuit, describe\n",
    "from probfit import gen_toy"
   ]
  },
  {
   "cell_type": "code",
   "execution_count": 127,
   "metadata": {
    "collapsed": false
   },
   "outputs": [
    {
     "data": {
      "text/plain": [
       "['x', 'm0', 's0', 'm1', 's1', 'f_0']"
      ]
     },
     "execution_count": 127,
     "metadata": {},
     "output_type": "execute_result"
    }
   ],
   "source": [
    "g0= rename(gaussian, ['x', 'm0', 's0'])\n",
    "g1= rename(gaussian, ['x', 'm1', 's1'])\n",
    "pdf= AddPdfNorm(g0,g1)\n",
    "\n",
    "describe(pdf)"
   ]
  },
  {
   "cell_type": "code",
   "execution_count": 128,
   "metadata": {
    "collapsed": false
   },
   "outputs": [
    {
     "name": "stdout",
     "output_type": "stream",
     "text": [
      "['x', 'm0', 's0', 'm1', 's1', 'f_0']\n"
     ]
    },
    {
     "data": {
      "image/png": "[encoded data removed]",
      "text/plain": [
       "<matplotlib.figure.Figure at 0x7f687851ee50>"
      ]
     },
     "metadata": {},
     "output_type": "display_data"
    }
   ],
   "source": [
    "import random\n",
    "random.seed(0)\n",
    "toydata = gen_toy(pdf, 1000,(-10,10), m0=-2, m1=2, s0=1, s1=1, f_0=0.3, quiet=False)"
   ]
  },
  {
   "cell_type": "code",
   "execution_count": 129,
   "metadata": {
    "collapsed": false
   },
   "outputs": [],
   "source": [
    "inipars= dict(m0=0, m1=0, s0=1, s1=1, f_0=0.5, error_m0=0.1, error_m1=0.1, error_s0=0.1, error_s1=0.1, error_f_0=0.1)"
   ]
  },
  {
   "cell_type": "code",
   "execution_count": 130,
   "metadata": {
    "collapsed": false
   },
   "outputs": [
    {
     "data": {
      "text/html": [
       "<hr>"
      ]
     },
     "metadata": {},
     "output_type": "display_data"
    },
    {
     "data": {
      "text/html": [
       "\n",
       "        <table>\n",
       "            <tr>\n",
       "                <td title=\"Minimum value of function\">FCN = 1925.44109076</td>\n",
       "                <td title=\"Total number of call to FCN so far\">TOTAL NCALL = 193</td>\n",
       "                <td title=\"Number of call in last migrad\">NCALLS = 193</td>\n",
       "            </tr>\n",
       "            <tr>\n",
       "                <td title=\"Estimated distance to minimum\">EDM = 1.20475372247e-05</td>\n",
       "                <td title=\"Maximum EDM definition of convergence\">GOAL EDM = 5e-06</td>\n",
       "                <td title=\"Error def. Amount of increase in FCN to be defined as 1 standard deviation\">\n",
       "                UP = 0.5</td>\n",
       "            </tr>\n",
       "        </table>\n",
       "        \n",
       "        <table>\n",
       "            <tr>\n",
       "                <td align=\"center\" title=\"Validity of the migrad call\">Valid</td>\n",
       "                <td align=\"center\" title=\"Validity of parameters\">Valid Param</td>\n",
       "                <td align=\"center\" title=\"Is Covariance matrix accurate?\">Accurate Covar</td>\n",
       "                <td align=\"center\" title=\"Positive definiteness of covariance matrix\">PosDef</td>\n",
       "                <td align=\"center\" title=\"Was covariance matrix made posdef by adding diagonal element\">Made PosDef</td>\n",
       "            </tr>\n",
       "            <tr>\n",
       "                <td align=\"center\" style=\"background-color:#92CCA6\">True</td>\n",
       "                <td align=\"center\" style=\"background-color:#92CCA6\">True</td>\n",
       "                <td align=\"center\" style=\"background-color:#92CCA6\">True</td>\n",
       "                <td align=\"center\" style=\"background-color:#92CCA6\">True</td>\n",
       "                <td align=\"center\" style=\"background-color:#92CCA6\">False</td>\n",
       "            </tr>\n",
       "            <tr>\n",
       "                <td align=\"center\" title=\"Was last hesse call fail?\">Hesse Fail</td>\n",
       "                <td align=\"center\" title=\"Validity of covariance\">HasCov</td>\n",
       "                <td align=\"center\" title=\"Is EDM above goal EDM?\">Above EDM</td>\n",
       "                <td align=\"center\"></td>\n",
       "                <td align=\"center\" title=\"Did last migrad call reach max call limit?\">Reach calllim</td>\n",
       "            </tr>\n",
       "            <tr>\n",
       "                <td align=\"center\" style=\"background-color:#92CCA6\">False</td>\n",
       "                <td align=\"center\" style=\"background-color:#92CCA6\">True</td>\n",
       "                <td align=\"center\" style=\"background-color:#92CCA6\">False</td>\n",
       "                <td align=\"center\"></td>\n",
       "                <td align=\"center\" style=\"background-color:#92CCA6\">False</td>\n",
       "            </tr>\n",
       "        </table>\n",
       "        "
      ]
     },
     "metadata": {},
     "output_type": "display_data"
    },
    {
     "data": {
      "text/html": [
       "\n",
       "        <table>\n",
       "            <tr>\n",
       "                <td><a href=\"#\" onclick=\"$('#RNvnAvOpyE').toggle()\">+</a></td>\n",
       "                <td title=\"Variable name\">Name</td>\n",
       "                <td title=\"Value of parameter\">Value</td>\n",
       "                <td title=\"Parabolic error\">Parab Error</td>\n",
       "                <td title=\"Minos lower error\">Minos Error-</td>\n",
       "                <td title=\"Minos upper error\">Minos Error+</td>\n",
       "                <td title=\"Lower limit of the parameter\">Limit-</td>\n",
       "                <td title=\"Upper limit of the parameter\">Limit+</td>\n",
       "                <td title=\"Is the parameter fixed in the fit\">FIXED</td>\n",
       "            </tr>\n",
       "        \n",
       "            <tr>\n",
       "                <td>1</td>\n",
       "                <td>m0</td>\n",
       "                <td>1.97468</td>\n",
       "                <td>0.0388865</td>\n",
       "                <td>0</td>\n",
       "                <td>0</td>\n",
       "                <td></td>\n",
       "                <td></td>\n",
       "                <td></td>\n",
       "            </tr>\n",
       "            \n",
       "            <tr>\n",
       "                <td>2</td>\n",
       "                <td>s0</td>\n",
       "                <td>0.976922</td>\n",
       "                <td>0.0298306</td>\n",
       "                <td>0</td>\n",
       "                <td>0</td>\n",
       "                <td></td>\n",
       "                <td></td>\n",
       "                <td></td>\n",
       "            </tr>\n",
       "            \n",
       "            <tr>\n",
       "                <td>3</td>\n",
       "                <td>m1</td>\n",
       "                <td>-2.1619</td>\n",
       "                <td>0.0692919</td>\n",
       "                <td>0</td>\n",
       "                <td>0</td>\n",
       "                <td></td>\n",
       "                <td></td>\n",
       "                <td></td>\n",
       "            </tr>\n",
       "            \n",
       "            <tr>\n",
       "                <td>4</td>\n",
       "                <td>s1</td>\n",
       "                <td>0.945974</td>\n",
       "                <td>0.0535416</td>\n",
       "                <td>0</td>\n",
       "                <td>0</td>\n",
       "                <td></td>\n",
       "                <td></td>\n",
       "                <td></td>\n",
       "            </tr>\n",
       "            \n",
       "            <tr>\n",
       "                <td>5</td>\n",
       "                <td>f_0</td>\n",
       "                <td>0.740277</td>\n",
       "                <td>0.0147095</td>\n",
       "                <td>0</td>\n",
       "                <td>0</td>\n",
       "                <td></td>\n",
       "                <td></td>\n",
       "                <td></td>\n",
       "            </tr>\n",
       "            \n",
       "            </table>\n",
       "        \n",
       "            <pre id=\"RNvnAvOpyE\" style=\"display:none;\">\n",
       "            <textarea rows=\"16\" cols=\"50\" onclick=\"this.select()\" readonly>\\begin{tabular}{|c|r|r|r|r|r|r|r|c|}\n",
       "\\hline\n",
       " & Name & Value & Para Error & Error+ & Error- & Limit+ & Limit- & FIXED\\\\\n",
       "\\hline\n",
       "1 & m0 & 1.975e+00 & 3.889e-02 &  &  &  &  & \\\\\n",
       "\\hline\n",
       "2 & s0 & 9.769e-01 & 2.983e-02 &  &  &  &  & \\\\\n",
       "\\hline\n",
       "3 & m1 & -2.162e+00 & 6.929e-02 &  &  &  &  & \\\\\n",
       "\\hline\n",
       "4 & s1 & 9.460e-01 & 5.354e-02 &  &  &  &  & \\\\\n",
       "\\hline\n",
       "5 & $f_{0}$ & 7.403e-01 & 1.471e-02 &  &  &  &  & \\\\\n",
       "\\hline\n",
       "\\end{tabular}</textarea>\n",
       "            </pre>\n",
       "            "
      ]
     },
     "metadata": {},
     "output_type": "display_data"
    },
    {
     "data": {
      "text/html": [
       "<hr>"
      ]
     },
     "metadata": {},
     "output_type": "display_data"
    },
    {
     "name": "stdout",
     "output_type": "stream",
     "text": [
      "{'f_0': 0.7402773346995878, 's1': 0.9459743634057162, 's0': 0.9769218599704339, 'm1': -2.1618999251568485, 'm0': 1.974678638292248}\n"
     ]
    },
    {
     "data": {
      "image/png": "[encoded data removed]",
      "text/plain": [
       "<matplotlib.figure.Figure at 0x7f68173b3210>"
      ]
     },
     "metadata": {},
     "output_type": "display_data"
    }
   ],
   "source": [
    "# Normal fit\n",
    "uh1= UnbinnedLH(pdf, toydata)\n",
    "m1= Minuit(uh1, print_level=1, **inipars)\n",
    "m1.migrad();\n",
    "uh1.draw();\n",
    "print m1.values"
   ]
  },
  {
   "cell_type": "code",
   "execution_count": 131,
   "metadata": {
    "collapsed": false
   },
   "outputs": [
    {
     "data": {
      "text/html": [
       "<hr>"
      ]
     },
     "metadata": {},
     "output_type": "display_data"
    },
    {
     "data": {
      "text/html": [
       "\n",
       "        <table>\n",
       "            <tr>\n",
       "                <td title=\"Minimum value of function\">FCN = 1925.44109332</td>\n",
       "                <td title=\"Total number of call to FCN so far\">TOTAL NCALL = 192</td>\n",
       "                <td title=\"Number of call in last migrad\">NCALLS = 192</td>\n",
       "            </tr>\n",
       "            <tr>\n",
       "                <td title=\"Estimated distance to minimum\">EDM = 1.46269144888e-05</td>\n",
       "                <td title=\"Maximum EDM definition of convergence\">GOAL EDM = 5e-06</td>\n",
       "                <td title=\"Error def. Amount of increase in FCN to be defined as 1 standard deviation\">\n",
       "                UP = 0.5</td>\n",
       "            </tr>\n",
       "        </table>\n",
       "        \n",
       "        <table>\n",
       "            <tr>\n",
       "                <td align=\"center\" title=\"Validity of the migrad call\">Valid</td>\n",
       "                <td align=\"center\" title=\"Validity of parameters\">Valid Param</td>\n",
       "                <td align=\"center\" title=\"Is Covariance matrix accurate?\">Accurate Covar</td>\n",
       "                <td align=\"center\" title=\"Positive definiteness of covariance matrix\">PosDef</td>\n",
       "                <td align=\"center\" title=\"Was covariance matrix made posdef by adding diagonal element\">Made PosDef</td>\n",
       "            </tr>\n",
       "            <tr>\n",
       "                <td align=\"center\" style=\"background-color:#92CCA6\">True</td>\n",
       "                <td align=\"center\" style=\"background-color:#92CCA6\">True</td>\n",
       "                <td align=\"center\" style=\"background-color:#92CCA6\">True</td>\n",
       "                <td align=\"center\" style=\"background-color:#92CCA6\">True</td>\n",
       "                <td align=\"center\" style=\"background-color:#92CCA6\">False</td>\n",
       "            </tr>\n",
       "            <tr>\n",
       "                <td align=\"center\" title=\"Was last hesse call fail?\">Hesse Fail</td>\n",
       "                <td align=\"center\" title=\"Validity of covariance\">HasCov</td>\n",
       "                <td align=\"center\" title=\"Is EDM above goal EDM?\">Above EDM</td>\n",
       "                <td align=\"center\"></td>\n",
       "                <td align=\"center\" title=\"Did last migrad call reach max call limit?\">Reach calllim</td>\n",
       "            </tr>\n",
       "            <tr>\n",
       "                <td align=\"center\" style=\"background-color:#92CCA6\">False</td>\n",
       "                <td align=\"center\" style=\"background-color:#92CCA6\">True</td>\n",
       "                <td align=\"center\" style=\"background-color:#92CCA6\">False</td>\n",
       "                <td align=\"center\"></td>\n",
       "                <td align=\"center\" style=\"background-color:#92CCA6\">False</td>\n",
       "            </tr>\n",
       "        </table>\n",
       "        "
      ]
     },
     "metadata": {},
     "output_type": "display_data"
    },
    {
     "data": {
      "text/html": [
       "\n",
       "        <table>\n",
       "            <tr>\n",
       "                <td><a href=\"#\" onclick=\"$('#VAoNGnVZQU').toggle()\">+</a></td>\n",
       "                <td title=\"Variable name\">Name</td>\n",
       "                <td title=\"Value of parameter\">Value</td>\n",
       "                <td title=\"Parabolic error\">Parab Error</td>\n",
       "                <td title=\"Minos lower error\">Minos Error-</td>\n",
       "                <td title=\"Minos upper error\">Minos Error+</td>\n",
       "                <td title=\"Lower limit of the parameter\">Limit-</td>\n",
       "                <td title=\"Upper limit of the parameter\">Limit+</td>\n",
       "                <td title=\"Is the parameter fixed in the fit\">FIXED</td>\n",
       "            </tr>\n",
       "        \n",
       "            <tr>\n",
       "                <td>1</td>\n",
       "                <td>m0</td>\n",
       "                <td>1.97466</td>\n",
       "                <td>0.0388888</td>\n",
       "                <td>0</td>\n",
       "                <td>0</td>\n",
       "                <td></td>\n",
       "                <td></td>\n",
       "                <td></td>\n",
       "            </tr>\n",
       "            \n",
       "            <tr>\n",
       "                <td>2</td>\n",
       "                <td>s0</td>\n",
       "                <td>0.976966</td>\n",
       "                <td>0.0298345</td>\n",
       "                <td>0</td>\n",
       "                <td>0</td>\n",
       "                <td></td>\n",
       "                <td></td>\n",
       "                <td></td>\n",
       "            </tr>\n",
       "            \n",
       "            <tr>\n",
       "                <td>3</td>\n",
       "                <td>m1</td>\n",
       "                <td>-2.18973</td>\n",
       "                <td>0.0692999</td>\n",
       "                <td>0</td>\n",
       "                <td>0</td>\n",
       "                <td></td>\n",
       "                <td></td>\n",
       "                <td></td>\n",
       "            </tr>\n",
       "            \n",
       "            <tr>\n",
       "                <td>4</td>\n",
       "                <td>s1</td>\n",
       "                <td>0.945833</td>\n",
       "                <td>0.0535263</td>\n",
       "                <td>0</td>\n",
       "                <td>0</td>\n",
       "                <td></td>\n",
       "                <td></td>\n",
       "                <td></td>\n",
       "            </tr>\n",
       "            \n",
       "            <tr>\n",
       "                <td>5</td>\n",
       "                <td>f_0</td>\n",
       "                <td>0.74028</td>\n",
       "                <td>0.0147096</td>\n",
       "                <td>0</td>\n",
       "                <td>0</td>\n",
       "                <td></td>\n",
       "                <td></td>\n",
       "                <td></td>\n",
       "            </tr>\n",
       "            \n",
       "            </table>\n",
       "        \n",
       "            <pre id=\"VAoNGnVZQU\" style=\"display:none;\">\n",
       "            <textarea rows=\"16\" cols=\"50\" onclick=\"this.select()\" readonly>\\begin{tabular}{|c|r|r|r|r|r|r|r|c|}\n",
       "\\hline\n",
       " & Name & Value & Para Error & Error+ & Error- & Limit+ & Limit- & FIXED\\\\\n",
       "\\hline\n",
       "1 & m0 & 1.975e+00 & 3.889e-02 &  &  &  &  & \\\\\n",
       "\\hline\n",
       "2 & s0 & 9.770e-01 & 2.983e-02 &  &  &  &  & \\\\\n",
       "\\hline\n",
       "3 & m1 & -2.190e+00 & 6.930e-02 &  &  &  &  & \\\\\n",
       "\\hline\n",
       "4 & s1 & 9.458e-01 & 5.353e-02 &  &  &  &  & \\\\\n",
       "\\hline\n",
       "5 & $f_{0}$ & 7.403e-01 & 1.471e-02 &  &  &  &  & \\\\\n",
       "\\hline\n",
       "\\end{tabular}</textarea>\n",
       "            </pre>\n",
       "            "
      ]
     },
     "metadata": {},
     "output_type": "display_data"
    },
    {
     "data": {
      "text/html": [
       "<hr>"
      ]
     },
     "metadata": {},
     "output_type": "display_data"
    },
    {
     "name": "stdout",
     "output_type": "stream",
     "text": [
      "{'f_0': 0.7402795164411778, 's1': 0.9458325026423022, 's0': 0.976965980845707, 'm1': -2.189733211861824, 'm0': 1.9746571809313913}\n"
     ]
    },
    {
     "data": {
      "image/png": "[encoded data removed]",
      "text/plain": [
       "<matplotlib.figure.Figure at 0x7f686f0eb990>"
      ]
     },
     "metadata": {},
     "output_type": "display_data"
    }
   ],
   "source": [
    "# Blind one parameter\n",
    "uh2= UnbinnedLH( BlindFunc(pdf, toblind='m1', seedstring='some_random_stuff', width=0.5, signflip=False), toydata)\n",
    "m2= Minuit(uh2, print_level=1, **inipars)\n",
    "m2.migrad();\n",
    "uh2.draw();\n",
    "print m2.values"
   ]
  },
  {
   "cell_type": "code",
   "execution_count": 132,
   "metadata": {
    "collapsed": false
   },
   "outputs": [
    {
     "name": "stdout",
     "output_type": "stream",
     "text": [
      "{'f_0': 0.7402773346995878, 's1': 0.9459743634057162, 's0': 0.9769218599704339, 'm1': -2.1618999251568485, 'm0': 1.974678638292248}\n",
      "{'f_0': 0.7402795164411778, 's1': 0.9458325026423022, 's0': 0.976965980845707, 'm1': -2.189733211861824, 'm0': 1.9746571809313913}\n",
      "\n",
      "{'f_0': 0.01470948988328952, 's1': 0.05354160590258055, 's0': 0.029830612946265395, 'm1': 0.06929186993967475, 'm0': 0.03888650450017257}\n",
      "{'f_0': 0.014709558114162389, 's1': 0.053526346398147455, 's0': 0.029834484776138325, 'm1': 0.06929994962772118, 'm0': 0.03888884625869945}\n"
     ]
    }
   ],
   "source": [
    "print m1.values\n",
    "print m2.values\n",
    "print\n",
    "print m1.errors\n",
    "print m2.errors"
   ]
  },
  {
   "cell_type": "code",
   "execution_count": 133,
   "metadata": {
    "collapsed": false
   },
   "outputs": [
    {
     "name": "stdout",
     "output_type": "stream",
     "text": [
      "-2.14573608568e-05\n"
     ]
    }
   ],
   "source": [
    "print m2.values['m0']-m1.values['m0']"
   ]
  },
  {
   "cell_type": "code",
   "execution_count": 134,
   "metadata": {
    "collapsed": false
   },
   "outputs": [],
   "source": [
    "# Now it's your turn ...\n",
    "# try and apply probfit / iminuit and to your modeling / fitting task! "
   ]
  }
 ],
 "metadata": {
  "kernelspec": {
   "display_name": "Python 2",
   "language": "python",
   "name": "python2"
  },
  "language_info": {
   "codemirror_mode": {
    "name": "ipython",
    "version": 2
   },
   "file_extension": ".py",
   "mimetype": "text/x-python",
   "name": "python",
   "nbconvert_exporter": "python",
   "pygments_lexer": "ipython2",
   "version": "2.7.12"
  }
 },
 "nbformat": 4,
 "nbformat_minor": 0
}
