{
 "cells": [
  {
   "cell_type": "markdown",
   "metadata": {},
   "source": [
    "# probfit Basic Tutorial"
   ]
  },
  {
   "cell_type": "markdown",
   "metadata": {},
   "source": [
    "[probfit](http://iminuit.github.io/probfit/) is a modeling / fitting package to be used together with [iminuit](http://iminuit.github.com/iminuit/).\n",
    "\n",
    "This tutorial is a fast-paced introduction to the probfit features:\n",
    "\n",
    "* built-in common models: polynomial, gaussian, ...\n",
    "* build-in common fit statistics: chi^2, binned and unbinned likelihood\n",
    "* tools to get your fits to converge and check the results: try_uml, draw, draw_residuals, ...\n",
    "* tools to help you implement your own models and fit statistics: Normalize, Extended, integrate_1d, ...\n",
    "\n",
    "Please start this notebook with the ``ipython --pylab=inline`` option to get inline plots."
   ]
  },
  {
   "cell_type": "code",
   "execution_count": null,
   "metadata": {
    "collapsed": false
   },
   "outputs": [],
   "source": [
    "!pip install iminuit probfit cython"
   ]
  },
  {
   "cell_type": "code",
   "execution_count": null,
   "metadata": {
    "collapsed": false
   },
   "outputs": [],
   "source": [
    "# We assume you have executed this cell in all the following examples\n",
    "import numpy as np\n",
    "import matplotlib.pyplot as plt\n",
    "import iminuit\n",
    "import probfit\n",
    "%matplotlib inline"
   ]
  },
  {
   "cell_type": "markdown",
   "metadata": {},
   "source": [
    "In your own code you can explicitly import what you need to save\n",
    "typing in interactive sessions, e.g.\n",
    "\n",
    "    from iminuit import Minuit, describe\n",
    "    from probfit import gaussian, BinnedLH\n",
    "\n",
    "We don't do this here, we only import `iminuit` and `probfit` into our\n",
    "namespace so that it is clear to you which functions and classes come\n",
    "from which package while reading the code below."
   ]
  },
  {
   "cell_type": "markdown",
   "metadata": {},
   "source": [
    "## Chi^2 straight line fit\n",
    "\n",
    "We can't really call this a fitting package without being able to fit a straight line, right?"
   ]
  },
  {
   "cell_type": "code",
   "execution_count": null,
   "metadata": {
    "collapsed": false
   },
   "outputs": [],
   "source": [
    "# Let's make a straight line with gaussian(mu=0, sigma=1) noise\n",
    "np.random.seed(0)\n",
    "x = np.linspace(0, 10, 20) \n",
    "y = 3 * x + 15 + np.random.randn(len(x))\n",
    "err = np.ones(len(x))\n",
    "plt.errorbar(x, y, err, fmt='.');"
   ]
  },
  {
   "cell_type": "code",
   "execution_count": null,
   "metadata": {
    "collapsed": false
   },
   "outputs": [],
   "source": [
    "# Let's define our line.\n",
    "# First argument has to be the independent variable,\n",
    "# arguments after that are shape parameters.\n",
    "def line(x, m, c): # define it to be parabolic or whatever you like\n",
    "    return m * x + c"
   ]
  },
  {
   "cell_type": "code",
   "execution_count": null,
   "metadata": {
    "collapsed": false
   },
   "outputs": [],
   "source": [
    "iminuit.describe(line)"
   ]
  },
  {
   "cell_type": "code",
   "execution_count": null,
   "metadata": {
    "collapsed": false
   },
   "outputs": [],
   "source": [
    "# Define a chi^2 cost function\n",
    "chi2 = probfit.Chi2Regression(line, x, y, err)"
   ]
  },
  {
   "cell_type": "code",
   "execution_count": null,
   "metadata": {
    "collapsed": false
   },
   "outputs": [],
   "source": [
    "# Chi2Regression is just a callable object; nothing special about it\n",
    "iminuit.describe(chi2)"
   ]
  },
  {
   "cell_type": "code",
   "execution_count": null,
   "metadata": {
    "collapsed": false
   },
   "outputs": [],
   "source": [
    "# minimize it\n",
    "# yes, it gives you a heads up that you didn't give it initial value\n",
    "# we can ignore it for now\n",
    "minuit = iminuit.Minuit(chi2) # see iminuit tutorial on how to give initial value/range/error\n",
    "minuit.migrad(); # MIGRAD is a very stable robust minimization method\n",
    "# you can look at your terminal to see what it is doing;"
   ]
  },
  {
   "cell_type": "code",
   "execution_count": null,
   "metadata": {
    "collapsed": false
   },
   "outputs": [],
   "source": [
    "# The output above is a pretty-printed summary of the fit results from\n",
    "# minuit.print_fmin()\n",
    "# which was automatically called by iminuit.Minuit.migrad() after running MIGRAD.\n",
    "\n",
    "# Let's see our results as Python dictionaries ...\n",
    "print(minuit.values)\n",
    "print(minuit.errors)"
   ]
  },
  {
   "cell_type": "markdown",
   "metadata": {},
   "source": [
    "#### Parabolic error\n",
    "is calculated using the second derivative at the minimum\n",
    "This is good in most cases where the uncertainty is symmetric not much correlation\n",
    "exists. Migrad usually got this accurately but if you want ot be sure\n",
    "call `minuit.hesse()` after calling `minuit.migrad()`.\n",
    "\n",
    "#### Minos Error\n",
    "is obtained by scanning the chi^2 or likelihood profile and find the point\n",
    "where chi^2 is increased by `minuit.errordef`. Note that in the Minuit documentation\n",
    "and output `errordef` is often called `up` ... it's the same thing.\n",
    "\n",
    "#### What `errordef` should I use?\n",
    "\n",
    "As explained in the Minuit documentation you should use:\n",
    "\n",
    "* `errordef = 1` for chi^2 fits\n",
    "* `errordef = 0.5` for likelihood fits\n",
    "\n",
    "`errordef=1` is the default, so you only have to set it to `errordef=0.5`\n",
    "if you are defining a likelihood cost function (if you don't your HESSE and MINOS errors will be incorrect).\n",
    "`probfit` helps you by defining a `default_errordef()` attribute on the\n",
    "cost function classes, which is automatically detected by the `Minuit` constructor\n",
    "and can be used to set `Minuit.errordef` correctly, so that users can't forget.\n",
    "Classes used in this tutorial:\n",
    "\n",
    "* `probfit.Chi2Regression.get_errordef()` and `probfit.BinnedChi2.get_errordef()` return 1.\n",
    "* `probfit.BinnedLH.get_errordef()` and `probfit.UnbinnedLH.get_errordef()` return 0.5."
   ]
  },
  {
   "cell_type": "code",
   "execution_count": null,
   "metadata": {
    "collapsed": false
   },
   "outputs": [],
   "source": [
    "# Let's visualize our line\n",
    "chi2.draw(minuit)\n",
    "# looks good;"
   ]
  },
  {
   "cell_type": "code",
   "execution_count": null,
   "metadata": {
    "collapsed": false
   },
   "outputs": [],
   "source": [
    "# Sometimes we want the error matrix (a.k.a. covariance matrix)\n",
    "print('error matrix:')\n",
    "print(minuit.matrix())\n",
    "# or the correlation matrix\n",
    "print('correlation matrix:')\n",
    "print(minuit.matrix(correlation=True))\n",
    "# or a pretty html representation\n",
    "# Note that `print_matrix()` shows the correlation matrix, not the error matrix\n",
    "minuit.print_matrix()"
   ]
  },
  {
   "cell_type": "markdown",
   "metadata": {},
   "source": [
    "## Binned Poisson likelihood fit of a Gaussian distribution\n",
    "In high energy physics, we usually want to fit a distribution to a histogram. Let's look at simple Gaussian distribution."
   ]
  },
  {
   "cell_type": "code",
   "execution_count": null,
   "metadata": {
    "collapsed": false
   },
   "outputs": [],
   "source": [
    "# First let's make some example data\n",
    "np.random.seed(0)\n",
    "data = np.random.randn(10000) * 4 + 1\n",
    "# sigma = 4 and mean = 1\n",
    "plt.hist(data, bins=100, histtype='step');"
   ]
  },
  {
   "cell_type": "code",
   "execution_count": null,
   "metadata": {
    "collapsed": false
   },
   "outputs": [],
   "source": [
    "# Define your PDF / model\n",
    "def gauss_pdf(x, mu, sigma):\n",
    "    \"\"\"Normalized Gaussian\"\"\"\n",
    "    return 1 / np.sqrt(2 * np.pi) / sigma * np.exp(-(x - mu) ** 2 / 2. / sigma ** 2)"
   ]
  },
  {
   "cell_type": "code",
   "execution_count": null,
   "metadata": {
    "collapsed": false
   },
   "outputs": [],
   "source": [
    "# Build your cost function\n",
    "# Here we use binned likelihood\n",
    "binned_likelihood = probfit.BinnedLH(gauss_pdf, data)"
   ]
  },
  {
   "cell_type": "code",
   "execution_count": null,
   "metadata": {
    "collapsed": false
   },
   "outputs": [],
   "source": [
    "# Create the minuit\n",
    "# and give an initial value for the sigma parameter\n",
    "minuit = iminuit.Minuit(binned_likelihood, sigma=3)\n",
    "# Remember: minuit.errordef is automatically set to 0.5\n",
    "# as required for likelihood fits (this was explained above)\n",
    "binned_likelihood.draw(minuit);"
   ]
  },
  {
   "cell_type": "code",
   "execution_count": null,
   "metadata": {
    "collapsed": false
   },
   "outputs": [],
   "source": [
    "minuit.migrad()\n",
    "# Like in all binned fit with long zero tail. It will have to do something about the zero bin\n",
    "# probfit.BinnedLH does handle them gracefully but will give you a warning;"
   ]
  },
  {
   "cell_type": "code",
   "execution_count": null,
   "metadata": {
    "collapsed": false
   },
   "outputs": [],
   "source": [
    "# Visually check if the fit succeeded by plotting the model over the data\n",
    "binned_likelihood.draw(minuit); # uncertainty is given by symmetric Poisson;"
   ]
  },
  {
   "cell_type": "code",
   "execution_count": null,
   "metadata": {
    "collapsed": false
   },
   "outputs": [],
   "source": [
    "# Let's see the result\n",
    "print('Value: {}'.format(minuit.values))\n",
    "print('Error: {}'.format(minuit.errors))"
   ]
  },
  {
   "cell_type": "code",
   "execution_count": null,
   "metadata": {
    "collapsed": false
   },
   "outputs": [],
   "source": [
    "# That printout can get out of hand quickly\n",
    "minuit.print_fmin()\n",
    "# Also print the correlation matrix\n",
    "minuit.print_matrix()"
   ]
  },
  {
   "cell_type": "code",
   "execution_count": null,
   "metadata": {
    "collapsed": false
   },
   "outputs": [],
   "source": [
    "# Looking at a likelihood profile is a good method\n",
    "# to check that the reported errors make sense\n",
    "minuit.draw_mnprofile('mu');"
   ]
  },
  {
   "cell_type": "code",
   "execution_count": null,
   "metadata": {
    "collapsed": false
   },
   "outputs": [],
   "source": [
    "# Plot a 2d contour error\n",
    "# You can notice that it takes some time to draw\n",
    "# We will this is because our PDF is defined in Python\n",
    "# We will show how to speed this up later\n",
    "minuit.draw_mncontour('mu', 'sigma');"
   ]
  },
  {
   "cell_type": "markdown",
   "metadata": {},
   "source": [
    "## Chi^2 fit of a Gaussian distribution\n",
    "\n",
    "Let's explore another popular cost function chi^2.\n",
    "Chi^2 is bad when you have bin with 0.\n",
    "ROOT just ignore.\n",
    "ROOFIT does something I don't remember.\n",
    "But it's best to avoid using chi^2 when you have bin with 0 count."
   ]
  },
  {
   "cell_type": "code",
   "execution_count": null,
   "metadata": {
    "collapsed": false
   },
   "outputs": [],
   "source": [
    "# We will use the same data as in the previous example\n",
    "np.random.seed(0)\n",
    "data = np.random.randn(10000) * 4 + 1\n",
    "# sigma = 4 and mean = 1\n",
    "plt.hist(data, bins=100, histtype='step');"
   ]
  },
  {
   "cell_type": "code",
   "execution_count": null,
   "metadata": {
    "collapsed": false
   },
   "outputs": [],
   "source": [
    "# We will use the same PDF as in the previous example\n",
    "def gauss_pdf(x, mu, sigma):\n",
    "    \"\"\"Normalized Gaussian\"\"\"\n",
    "    return 1 / np.sqrt(2 * np.pi) / sigma * np.exp(-(x - mu) **2 / 2. / sigma ** 2)"
   ]
  },
  {
   "cell_type": "code",
   "execution_count": null,
   "metadata": {
    "collapsed": false
   },
   "outputs": [],
   "source": [
    "# Binned chi^2 fit only makes sense (for now) for extended PDFs\n",
    "# probfit.Extended adds a norm parameter with name 'N'\n",
    "extended_gauss_pdf = probfit.Extended(gauss_pdf)"
   ]
  },
  {
   "cell_type": "code",
   "execution_count": null,
   "metadata": {
    "collapsed": false
   },
   "outputs": [],
   "source": [
    "# Describe the function signature\n",
    "iminuit.describe(extended_gauss_pdf)"
   ]
  },
  {
   "cell_type": "code",
   "execution_count": null,
   "metadata": {
    "collapsed": false
   },
   "outputs": [],
   "source": [
    "# Chi^2 distribution fit is really bad for distribution with long tail\n",
    "# since when bin count=0... poisson error=0 and blows up chi^2\n",
    "# so give it some range\n",
    "chi2 = probfit.BinnedChi2(extended_gauss_pdf, data, bound=(-7,10))\n",
    "# This time we use the pedantic=False option to tell Minuit\n",
    "# that we don't want warnings about parameters without initial\n",
    "# value or step size.\n",
    "# And print_level=0 means that no output is generated\n",
    "minuit = iminuit.Minuit(chi2, sigma=1, pedantic=False, print_level=0)\n",
    "minuit.migrad();"
   ]
  },
  {
   "cell_type": "code",
   "execution_count": null,
   "metadata": {
    "collapsed": false
   },
   "outputs": [],
   "source": [
    "# Now let's look at the results\n",
    "minuit.print_fmin()\n",
    "minuit.print_matrix()\n",
    "chi2.draw(minuit);"
   ]
  },
  {
   "cell_type": "markdown",
   "metadata": {},
   "source": [
    "## Fast unbinned likelihood fit Cython\n",
    "\n",
    "Unbinned likelihood is computationally very very expensive if you have a lot of data.\n",
    "It's now a good time that we talk about how to speed things up with [Cython](http://cython.org)."
   ]
  },
  {
   "cell_type": "code",
   "execution_count": null,
   "metadata": {
    "collapsed": false
   },
   "outputs": [],
   "source": [
    "# We will use the same data as in the previous example\n",
    "np.random.seed(0)\n",
    "data = np.random.randn(10000) * 4 + 1\n",
    "# sigma = 4 and mean = 1\n",
    "plt.hist(data, bins=100, histtype='step');"
   ]
  },
  {
   "cell_type": "code",
   "execution_count": null,
   "metadata": {
    "collapsed": false
   },
   "outputs": [],
   "source": [
    "# We want to speed things up with Cython\n",
    "%load_ext Cython"
   ]
  },
  {
   "cell_type": "code",
   "execution_count": null,
   "metadata": {
    "collapsed": false
   },
   "outputs": [],
   "source": [
    "%%cython\n",
    "# Same gaussian distribution but now written in Cython\n",
    "# The %%cython IPython does the following:\n",
    "# * Call Cython to generate C code for a Python C extension.\n",
    "# * Compile it into a Python C extension (a shared library)\n",
    "# * Load it into the current namespace\n",
    "# If you don't understand these things, don't worry, it basically means:\n",
    "# * Get full-metal speed easily\n",
    "cimport cython\n",
    "from libc.math cimport exp, M_PI, sqrt\n",
    "@cython.binding(True) # IMPORTANT: this tells Cython to dump the function signature\n",
    "def gauss_pdf_cython(double x, double mu, double sigma):\n",
    "    return 1 / sqrt(2 * M_PI) / sigma * exp(-(x - mu) ** 2 / 2. / sigma ** 2)"
   ]
  },
  {
   "cell_type": "code",
   "execution_count": null,
   "metadata": {
    "collapsed": false
   },
   "outputs": [],
   "source": [
    "# Define the unbinned likelihood cost function \n",
    "unbinned_likelihood = probfit.UnbinnedLH(gauss_pdf_cython, data)"
   ]
  },
  {
   "cell_type": "code",
   "execution_count": null,
   "metadata": {
    "collapsed": false
   },
   "outputs": [],
   "source": [
    "minuit = iminuit.Minuit(unbinned_likelihood, sigma=2, pedantic=False, print_level=0)\n",
    "# Remember: minuit.errordef is automatically set to 0.5\n",
    "# as required for likelihood fits (this was explained above)\n",
    "minuit.migrad() # yes: amazingly fast\n",
    "unbinned_likelihood.show(minuit)\n",
    "minuit.print_fmin()\n",
    "minuit.print_matrix() "
   ]
  },
  {
   "cell_type": "code",
   "execution_count": null,
   "metadata": {
    "collapsed": false
   },
   "outputs": [],
   "source": [
    "# Remember how slow draw_mnprofile() was in the last example?\n",
    "# Now it's super fast (even though the unbinned\n",
    "# likelihood computation is more compute-intensive).\n",
    "minuit.draw_mnprofile('mu');"
   ]
  },
  {
   "cell_type": "markdown",
   "metadata": {},
   "source": [
    "But you really don't have to write your own gaussian, there are tons of builtin functions written in Cython for you."
   ]
  },
  {
   "cell_type": "code",
   "execution_count": null,
   "metadata": {
    "collapsed": false
   },
   "outputs": [],
   "source": [
    "# Here's how you can list them\n",
    "import probfit.pdf\n",
    "print(dir(probfit.pdf))\n",
    "print(iminuit.describe(probfit.pdf.gaussian))\n",
    "print(type(probfit.pdf.gaussian))\n",
    "# But actually they are always all imported into the main probfit\n",
    "# namespace, so we'll keep using the simpler probfit.gaussian instead of\n",
    "# probfit.pdf.gaussian here."
   ]
  },
  {
   "cell_type": "code",
   "execution_count": null,
   "metadata": {
    "collapsed": false
   },
   "outputs": [],
   "source": [
    "unbinned_likelihood = probfit.UnbinnedLH(probfit.gaussian, data)\n",
    "minuit = iminuit.Minuit(unbinned_likelihood, sigma=2, pedantic=False)\n",
    "# Remember: minuit.errordef is automatically set to 0.5\n",
    "# as required for likelihood fits (this was explained above)\n",
    "minuit.migrad() # yes: amazingly fast\n",
    "unbinned_likelihood.draw(minuit, show_errbars='normal'); # control how fit is displayed too;"
   ]
  },
  {
   "cell_type": "code",
   "execution_count": null,
   "metadata": {
    "collapsed": false
   },
   "outputs": [],
   "source": [
    "# Draw the difference between data and PDF\n",
    "plt.figure(figsize=(13,4))\n",
    "plt.subplot(121)\n",
    "unbinned_likelihood.draw_residual(minuit)\n",
    "plt.subplot(122)\n",
    "unbinned_likelihood.draw_residual(minuit, show_errbars=True, errbar_algo='sumw2', norm=True)"
   ]
  },
  {
   "cell_type": "markdown",
   "metadata": {},
   "source": [
    "##But... We can't normalize everything analytically and how to generate toy sample from PDF\n",
    "\n",
    "When fitting distribution to a PDF, one of the common problem that we run into is normalization.\n",
    "Not all function is analytically integrable on the range of our interest.\n",
    "\n",
    "Let's look at an example: the [Crystal Ball function](http://en.wikipedia.org/wiki/Crystal_Ball_function).\n",
    "It's simply a gaussian with a power law tail ... normally found in energy deposited in crystals ...\n",
    "impossible to normalize analytically and normalization will depend on shape parameters."
   ]
  },
  {
   "cell_type": "code",
   "execution_count": null,
   "metadata": {
    "collapsed": false
   },
   "outputs": [],
   "source": [
    "np.random.seed(0)\n",
    "bound = (-1, 2)\n",
    "data = probfit.gen_toy(probfit.crystalball, 10000, bound=bound, alpha=1., n=2., mean=1., sigma=0.3, quiet=False)\n",
    "# quiet=False tells gen_toy to plot out original function\n",
    "# toy histogram and poisson error from both orignal distribution and toy"
   ]
  },
  {
   "cell_type": "code",
   "execution_count": null,
   "metadata": {
    "collapsed": false
   },
   "outputs": [],
   "source": [
    "# To fit this function as a distribution we need to normalize\n",
    "# so that is becomes a PDF ober the range we consider here.\n",
    "# We do this with the probfit.Normalized functor, which implements\n",
    "# the trapezoid numerical integration method with a simple cache mechanism\n",
    "normalized_crystalball = probfit.Normalized(probfit.crystalball, bound)\n",
    "# this can also bedone with decorator\n",
    "# @probfit.normalized(bound)\n",
    "# def my_function(x, blah):\n",
    "#    return something\n",
    "pars = 1.0, 1, 2, 1, 0.3\n",
    "print('function: {}'.format(probfit.crystalball(*pars)))\n",
    "print('     pdf: {}'.format(normalized_crystalball(*pars)))"
   ]
  },
  {
   "cell_type": "code",
   "execution_count": null,
   "metadata": {
    "collapsed": false
   },
   "outputs": [],
   "source": [
    "# The normalized version has the same signature as the non-normalized version\n",
    "print(iminuit.describe(probfit.crystalball))\n",
    "print(iminuit.describe(normalized_crystalball))"
   ]
  },
  {
   "cell_type": "code",
   "execution_count": null,
   "metadata": {
    "collapsed": false
   },
   "outputs": [],
   "source": [
    "# We can fit the normalized function in the usual way ...\n",
    "unbinned_likelihood = probfit.UnbinnedLH(normalized_crystalball, data)\n",
    "start_pars = dict(alpha=1, n=2.1, mean=1.2, sigma=0.3)\n",
    "minuit = iminuit.Minuit(unbinned_likelihood, **start_pars)\n",
    "# Remember: minuit.errordef is automatically set to 0.5\n",
    "# as required for likelihood fits (this was explained above)\n",
    "minuit.migrad() # yes: amazingly fast Normalize is written in Cython\n",
    "unbinned_likelihood.show(minuit);\n",
    "# The Crystal Ball function is notorious for its sensitivity on the 'n' parameter\n",
    "# probfit give you a heads up where it might have float overflow;"
   ]
  },
  {
   "cell_type": "markdown",
   "metadata": {},
   "source": [
    "## But what if I know the analytical integral formula for my distribution?\n",
    "\n",
    "`probfit` checks for a method called `integrate` with the signature `integrate(bound, nint, *arg)` to\n",
    "compute definite integrals for given `bound` and `nint` (pieces of integral this is normally ignored)\n",
    "and the rest will be passed as positional argument.\n",
    "\n",
    "For some `probfit` built-in distributions analytical formulae have been implemented."
   ]
  },
  {
   "cell_type": "code",
   "execution_count": null,
   "metadata": {
    "collapsed": false
   },
   "outputs": [],
   "source": [
    "def line(x, m, c):\n",
    "    return m * x + c\n",
    "\n",
    "# compute integral of line from x=(0,1) using 10 intevals with m=1. and c=2.\n",
    "# all probfit internal use this\n",
    "# no integrate method available probfit use simpson3/8\n",
    "print(probfit.integrate1d(line, (0, 1), 10, (1., 2.)))\n",
    "\n",
    "# Let us illustrate the point by forcing it to have integral that's off by\n",
    "# factor of two\n",
    "def wrong_line_integrate(bound, nint, m, c):\n",
    "    a, b = bound\n",
    "    # I know this is wrong:\n",
    "    return 2 * (m * (b ** 2 / 2. - a ** 2 / 2.) + c * (b - a))\n",
    "\n",
    "line.integrate = wrong_line_integrate\n",
    "# line.integrate = lambda bound, nint, m, c: blah blah # this works too\n",
    "print(probfit.integrate1d(line, (0, 1), 10, (1., 2.)))"
   ]
  },
  {
   "cell_type": "markdown",
   "metadata": {},
   "source": [
    "## What if things go wrong?"
   ]
  },
  {
   "cell_type": "markdown",
   "metadata": {},
   "source": [
    "In this section we show you what happens when your distribution doesn't fit and how you can make it.\n",
    "\n",
    "We again use the Crystal Ball distribution as an example, which is notoriously sensitive to initial parameter values."
   ]
  },
  {
   "cell_type": "code",
   "execution_count": null,
   "metadata": {
    "collapsed": false
   },
   "outputs": [],
   "source": [
    "unbinned_likelihood = probfit.UnbinnedLH(normalized_crystalball, data)\n",
    "# No initial values given -> all parameters have default initial value 0\n",
    "minuit = iminuit.Minuit(unbinned_likelihood)\n",
    "# Remember: minuit.errordef is automatically set to 0.5\n",
    "# as required for likelihood fits (this was explained above)\n",
    "minuit.migrad() # yes: amazingly fast but tons of output on the console\n",
    "# Remember there is a heads up;"
   ]
  },
  {
   "cell_type": "code",
   "execution_count": null,
   "metadata": {
    "collapsed": false
   },
   "outputs": [],
   "source": [
    "# This shows that we failed.\n",
    "# The parameters are still at the default initial values\n",
    "unbinned_likelihood.show(minuit);"
   ]
  },
  {
   "cell_type": "code",
   "execution_count": null,
   "metadata": {
    "collapsed": false
   },
   "outputs": [],
   "source": [
    "# These two status flags tell you if the best-fit parameter values\n",
    "# and the covariance matrix (the parameter errors) are OK.\n",
    "print(minuit.migrad_ok())\n",
    "print(minuit.matrix_accurate())"
   ]
  },
  {
   "cell_type": "markdown",
   "metadata": {},
   "source": [
    "To make MIGRAD converge we need start parameter values that are roughly correct. Remember that above the same fit converged when we used ::\n",
    "\n",
    "    start_pars = dict(alpha=1, n=2.1, mean=1.2, sigma=0.3)\n",
    "    minuit = iminuit.Minuit(unbinned_likelihood, **start_pars)\n",
    "    \n",
    "#### But how can we guess these initial values?\n",
    "\n",
    "This is a hard question that doesn't have one simple answer. Visualizing your data and model helps.\n"
   ]
  },
  {
   "cell_type": "code",
   "execution_count": null,
   "metadata": {
    "collapsed": false
   },
   "outputs": [],
   "source": [
    "# Try one set of parameters\n",
    "best_try = probfit.try_uml(normalized_crystalball, data, alpha=1., n=2.1, mean=1.2, sigma=0.3)\n",
    "print(best_try)"
   ]
  },
  {
   "cell_type": "code",
   "execution_count": null,
   "metadata": {
    "collapsed": false
   },
   "outputs": [],
   "source": [
    "# Or try multiple sets of parameters\n",
    "# (too many will just confuse you)\n",
    "best_try = probfit.try_uml(normalized_crystalball, data, alpha=1., n=2.1, mean=[1.2, 1.1], sigma=[0.3, 0.5])\n",
    "# try_uml computes the unbinned likelihood for each set of parameters and returns the best\n",
    "# one as a dictionary.\n",
    "# This is actually a poor-man's optimization algorithm in itself called grid search\n",
    "# which is popular to find good start values for other, faster optimization methods like MIGRAD.\n",
    "print(best_try)"
   ]
  },
  {
   "cell_type": "markdown",
   "metadata": {},
   "source": [
    "## Extended fit: two Gaussians with polynomial background"
   ]
  },
  {
   "cell_type": "markdown",
   "metadata": {},
   "source": [
    "Here we show how to create and fit a model that is the sum of several other models."
   ]
  },
  {
   "cell_type": "code",
   "execution_count": null,
   "metadata": {
    "collapsed": false
   },
   "outputs": [],
   "source": [
    "# Generate some example data\n",
    "np.random.seed(0)\n",
    "data_peak1 = np.random.randn(3000) * 0.2 + 2\n",
    "data_peak2 = np.random.randn(5000) * 0.1 + 4\n",
    "data_range = (-2, 5)\n",
    "data_bg = probfit.gen_toy(lambda x : 4 + 4 * x + x ** 2, 20000, data_range)\n",
    "data_all = np.concatenate([data_peak1, data_peak2, data_bg])\n",
    "plt.hist((data_peak1, data_peak2, data_bg, data_all),\n",
    "         label=['Signal 1', 'Signal 2', 'Background', 'Total'],\n",
    "         bins=200, histtype='step', range=data_range)\n",
    "plt.legend(loc='upper left');"
   ]
  },
  {
   "cell_type": "code",
   "execution_count": null,
   "metadata": {
    "collapsed": false
   },
   "outputs": [],
   "source": [
    "# Using a polynomial to fit a distribution is problematic, because the\n",
    "# polynomial can assume negative values, which results in NaN (not a number)\n",
    "# values in the likelihood function.\n",
    "# To avoid this problem we restrict the fit to the range (0, 5) where\n",
    "# the polynomial is clearly positive.\n",
    "fit_range = (0, 5)\n",
    "normalized_poly = probfit.Normalized(probfit.Polynomial(2), fit_range)\n",
    "normalized_poly = probfit.Extended(normalized_poly, extname='NBkg')\n",
    "\n",
    "gauss1 = probfit.Extended(probfit.rename(probfit.gaussian, ['x', 'mu1', 'sigma1']), extname='N1')\n",
    "gauss2 = probfit.Extended(probfit.rename(probfit.gaussian, ['x', 'mu2', 'sigma2']), extname='N2')\n",
    "\n",
    "# Define an extended PDF consisting of three components\n",
    "pdf = probfit.AddPdf(normalized_poly, gauss1, gauss2)\n",
    "\n",
    "print('normalized_poly: {}'.format(probfit.describe(normalized_poly)))\n",
    "print('gauss1:          {}'.format(probfit.describe(gauss1)))\n",
    "print('gauss2:          {}'.format(probfit.describe(gauss2)))\n",
    "print('pdf:             {}'.format(probfit.describe(pdf)))"
   ]
  },
  {
   "cell_type": "code",
   "execution_count": null,
   "metadata": {
    "collapsed": false
   },
   "outputs": [],
   "source": [
    "# Define the cost function in the usual way ...\n",
    "binned_likelihood = probfit.BinnedLH(pdf, data_all, bins=200, extended=True, bound=fit_range)\n",
    "\n",
    "# This is a quite complex fit (11 free parameters!), so we need good starting values.\n",
    "# Actually we even need to set an initial parameter error\n",
    "# for 'mu1' and 'mu2' to make MIGRAD converge.\n",
    "# The initial parameter error is used as the initial step size in the minimization.\n",
    "pars = dict(mu1=1.9, error_mu1=0.1, sigma1=0.2, N1=3000,\n",
    "            mu2=4.1, error_mu2=0.1, sigma2=0.1, N2=5000,\n",
    "            c_0=4, c_1=4, c_2=1, NBkg=20000)\n",
    "minuit = iminuit.Minuit(binned_likelihood, pedantic=False, print_level=0, **pars)\n",
    "# You can see that the model already roughly matches the data\n",
    "binned_likelihood.draw(minuit, parts=True);"
   ]
  },
  {
   "cell_type": "code",
   "execution_count": null,
   "metadata": {
    "collapsed": false
   },
   "outputs": [],
   "source": [
    "# This can take a while ... the likelihood is evaluated a few 100 times\n",
    "# (and each time the distributions are evaluated, including the\n",
    "# numerical computation of the normalizing integrals)\n",
    "minuit.migrad();"
   ]
  },
  {
   "cell_type": "code",
   "execution_count": null,
   "metadata": {
    "collapsed": false
   },
   "outputs": [],
   "source": [
    "binned_likelihood.show(minuit, parts=True);\n",
    "minuit.print_fmin()\n",
    "minuit.print_matrix()"
   ]
  },
  {
   "cell_type": "markdown",
   "metadata": {},
   "source": [
    "Note the red upper left corner in the correlation matrix above?\n",
    "\n",
    "It shows that the three polynomial parameters `c_0`, `c_1` and `c_2` are highly correlated?\n",
    "The reason is that we put a constraint on the polynomial to be normalized over the fit range:\n",
    "\n",
    "    fit_range = (0, 5)\n",
    "    normalized_poly = probfit.Normalized(probfit.Polynomial(2), fit_range)\n",
    "    normalized_poly = probfit.Extended(normalized_poly, extname='NBkg')\n",
    "\n",
    "To resolve this problem you could simply use a non-normalized and non-extended polynomial to model the background. We won't do this here, though ..."
   ]
  },
  {
   "cell_type": "markdown",
   "metadata": {},
   "source": [
    "## Custom Drawing\n",
    "\n",
    "The `draw()` and `show()` method we provide is intended to just give you a quick look at your fit.\n",
    "\n",
    "To make a custom drawing you can use the return value of `draw()` and `show()`."
   ]
  },
  {
   "cell_type": "code",
   "execution_count": null,
   "metadata": {
    "collapsed": false
   },
   "outputs": [],
   "source": [
    "# You should copy & paste the return tuple from the `draw` docstring ...\n",
    "((data_edges, datay), (errorp, errorm), (total_pdf_x, total_pdf_y), parts) = binned_likelihood.draw(minuit, parts=True);\n",
    "# ... now we have everything to make our own plot"
   ]
  },
  {
   "cell_type": "code",
   "execution_count": null,
   "metadata": {
    "collapsed": false
   },
   "outputs": [],
   "source": [
    "# Now make the plot as pretty as you like, e.g. with matplotlib.\n",
    "plt.figure(figsize=(8, 5))\n",
    "plt.errorbar(probfit.mid(data_edges), datay, errorp, fmt='.', capsize=0, color='Gray', label='Data')\n",
    "plt.plot(total_pdf_x, total_pdf_y, color='blue', lw=2, label='Total Model')\n",
    "colors = ['orange', 'purple', 'DarkGreen']\n",
    "labels = ['Background', 'Signal 1', 'Signal 2']\n",
    "for color, label, part in zip(colors, labels, parts):\n",
    "    x, y = part\n",
    "    plt.plot(x, y, ls='--', color=color, label=label)\n",
    "plt.grid(True)\n",
    "plt.legend(loc='upper left');"
   ]
  },
  {
   "cell_type": "markdown",
   "metadata": {},
   "source": [
    "## Simultaneous fit to several data sets\n",
    "\n",
    "Sometimes, what we want to fit is the sum of likelihood /chi^2 of two PDFs for two different datasets that share some parameters.\n",
    "\n",
    "In this example, we will fit two Gaussian distributions where we know that the widths are the same\n",
    "but the peaks are at different places."
   ]
  },
  {
   "cell_type": "code",
   "execution_count": null,
   "metadata": {
    "collapsed": false
   },
   "outputs": [],
   "source": [
    "# Generate some example data\n",
    "np.random.seed(0)\n",
    "data1 = np.random.randn(10000) + 3 # mean =  3, sigma = 1\n",
    "data2 = np.random.randn(10000) - 2 # mean = -2, sigma = 1\n",
    "plt.figure(figsize=(12,4))\n",
    "plt.subplot(121)\n",
    "plt.hist(data1, bins=100, range=(-7, 7), histtype='step', label='data1')\n",
    "plt.legend()\n",
    "plt.subplot(122)\n",
    "plt.hist(data2, bins=100, range=(-7, 7), histtype='step', label='data2')\n",
    "plt.legend();"
   ]
  },
  {
   "cell_type": "code",
   "execution_count": null,
   "metadata": {
    "collapsed": false
   },
   "outputs": [],
   "source": [
    "# There is nothing special about built-in cost function\n",
    "# except some utility function like draw and show\n",
    "likelihood1 = probfit.UnbinnedLH(probfit.rename(probfit.gaussian, ('x', 'mean2', 'sigma')), data1)\n",
    "likelihood2 = probfit.UnbinnedLH(probfit.gaussian, data2)\n",
    "simultaneous_likelihood = probfit.SimultaneousFit(likelihood1, likelihood2)\n",
    "print(probfit.describe(likelihood1))\n",
    "print(probfit.describe(likelihood2))\n",
    "# Note that the simultaneous likelihood has only 3 parameters, because the\n",
    "# 'sigma' parameter is tied (i.e. linked to always be the same).\n",
    "print(probfit.describe(simultaneous_likelihood))"
   ]
  },
  {
   "cell_type": "code",
   "execution_count": null,
   "metadata": {
    "collapsed": false
   },
   "outputs": [],
   "source": [
    "# Ah, the beauty of Minuit ... it doesn't care what your cost funtion is ...\n",
    "# you can use it to fit (i.e. compute optimal parameters and parameter errors) anything.\n",
    "minuit = iminuit.Minuit(simultaneous_likelihood, sigma=0.5, pedantic=False, print_level=0)\n",
    "# Well, there's one thing we have to tell Minuit so that it can compute parameter errors,\n",
    "# and that is the value of `errordef`, a.k.a. `up` (explained above).\n",
    "# This is a likelihood fit, so we need `errordef = 0.5` and not the default `errordef = 1`:\n",
    "minuit.errordef = 0.5"
   ]
  },
  {
   "cell_type": "code",
   "execution_count": null,
   "metadata": {
    "collapsed": false
   },
   "outputs": [],
   "source": [
    "# Run the fit and print the results\n",
    "minuit.migrad();\n",
    "minuit.print_fmin()\n",
    "minuit.print_matrix()"
   ]
  },
  {
   "cell_type": "code",
   "execution_count": null,
   "metadata": {
    "collapsed": false
   },
   "outputs": [],
   "source": [
    "simultaneous_likelihood.draw(minuit);"
   ]
  },
  {
   "cell_type": "markdown",
   "metadata": {},
   "source": [
    "## Blinding parameters\n",
    "\n",
    "Often, an analyst would like to avoid looking at the result of the fitted parameter(s) before he/she finalized the analysis in order to avoid biases due to the prejudice of the analyst. Probfit provids a transformation function that hides the true value(s) of the parameter(s). The transformation function requires a string to set the seed of the random number generator, and a scale to smear the parameter(s) using a Gaussian."
   ]
  },
  {
   "cell_type": "code",
   "execution_count": null,
   "metadata": {
    "collapsed": false
   },
   "outputs": [],
   "source": [
    "from probfit import UnbinnedLH, BlindFunc, rename, AddPdfNorm\n",
    "from probfit import gaussian\n",
    "from iminuit import Minuit, describe\n",
    "from probfit import gen_toy"
   ]
  },
  {
   "cell_type": "code",
   "execution_count": null,
   "metadata": {
    "collapsed": false
   },
   "outputs": [],
   "source": [
    "g0= rename(gaussian, ['x', 'm0', 's0'])\n",
    "g1= rename(gaussian, ['x', 'm1', 's1'])\n",
    "pdf= AddPdfNorm(g0,g1)\n",
    "\n",
    "describe(pdf)"
   ]
  },
  {
   "cell_type": "code",
   "execution_count": null,
   "metadata": {
    "collapsed": false
   },
   "outputs": [],
   "source": [
    "import random\n",
    "random.seed(0)\n",
    "toydata = gen_toy(pdf, 1000,(-10,10), m0=-2, m1=2, s0=1, s1=1, f_0=0.3, quiet=False)"
   ]
  },
  {
   "cell_type": "code",
   "execution_count": null,
   "metadata": {
    "collapsed": false
   },
   "outputs": [],
   "source": [
    "inipars= dict(m0=0, m1=0, s0=1, s1=1, f_0=0.5, error_m0=0.1, error_m1=0.1, error_s0=0.1, error_s1=0.1, error_f_0=0.1)"
   ]
  },
  {
   "cell_type": "code",
   "execution_count": null,
   "metadata": {
    "collapsed": false
   },
   "outputs": [],
   "source": [
    "# Normal fit\n",
    "uh1= UnbinnedLH(pdf, toydata)\n",
    "m1= Minuit(uh1, print_level=1, **inipars)\n",
    "m1.migrad();\n",
    "uh1.draw();\n",
    "print m1.values"
   ]
  },
  {
   "cell_type": "code",
   "execution_count": null,
   "metadata": {
    "collapsed": false
   },
   "outputs": [],
   "source": [
    "# Blind one parameter\n",
    "uh2= UnbinnedLH( BlindFunc(pdf, toblind='m1', seedstring='some_random_stuff', width=0.5, signflip=False), toydata)\n",
    "m2= Minuit(uh2, print_level=1, **inipars)\n",
    "m2.migrad();\n",
    "uh2.draw();\n",
    "print m2.values"
   ]
  },
  {
   "cell_type": "code",
   "execution_count": null,
   "metadata": {
    "collapsed": false
   },
   "outputs": [],
   "source": [
    "print m1.values\n",
    "print m2.values\n",
    "print\n",
    "print m1.errors\n",
    "print m2.errors"
   ]
  },
  {
   "cell_type": "code",
   "execution_count": null,
   "metadata": {
    "collapsed": false
   },
   "outputs": [],
   "source": [
    "print m2.values['m0']-m1.values['m0']"
   ]
  },
  {
   "cell_type": "code",
   "execution_count": null,
   "metadata": {
    "collapsed": false
   },
   "outputs": [],
   "source": [
    "# Now it's your turn ...\n",
    "# try and apply probfit / iminuit and to your modeling / fitting task! "
   ]
  }
 ],
 "metadata": {
  "kernelspec": {
   "display_name": "Python 2",
   "language": "python",
   "name": "python2"
  },
  "language_info": {
   "codemirror_mode": {
    "name": "ipython",
    "version": 2
   },
   "file_extension": ".py",
   "mimetype": "text/x-python",
   "name": "python",
   "nbconvert_exporter": "python",
   "pygments_lexer": "ipython2",
   "version": "2.7.12"
  }
 },
 "nbformat": 4,
 "nbformat_minor": 0
}
