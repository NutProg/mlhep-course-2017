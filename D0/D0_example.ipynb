{
 "cells": [
  {
   "cell_type": "markdown",
   "metadata": {},
   "source": [
    "## Study of  $D^0 \\to K^- \\pi^+ $ decay\n",
    "\n",
    "- Mass\n",
    "- Lifetime\n",
    "\n",
    "\n",
    "<img src=\"http://lhcb-public.web.cern.ch/lhcb-public/en/LHCb-outreach/masterclasses/en/VertexD.png\" width=60%>\n",
    "\n",
    "http://lhcb-public.web.cern.ch/lhcb-public/en/LHCb-outreach/masterclasses/en/D0Lifetime.html"
   ]
  },
  {
   "cell_type": "code",
   "execution_count": 1,
   "metadata": {
    "collapsed": false
   },
   "outputs": [
    {
     "name": "stdout",
     "output_type": "stream",
     "text": [
      "Requirement already satisfied (use --upgrade to upgrade): iminuit in /Users/anaderi/miniconda/envs/opera/lib/python2.7/site-packages/iminuit-1.2-py2.7-macosx-10.5-x86_64.egg\n",
      "Requirement already satisfied (use --upgrade to upgrade): probfit in /Users/anaderi/miniconda/envs/opera/lib/python2.7/site-packages\n",
      "Requirement already satisfied (use --upgrade to upgrade): seaborn in /Users/anaderi/miniconda/envs/opera/lib/python2.7/site-packages\n",
      "Requirement already satisfied (use --upgrade to upgrade): cython in /Users/anaderi/miniconda/envs/opera/lib/python2.7/site-packages\n"
     ]
    }
   ],
   "source": [
    "%%bash\n",
    "pip install iminuit probfit seaborn cython"
   ]
  },
  {
   "cell_type": "code",
   "execution_count": 2,
   "metadata": {
    "collapsed": true
   },
   "outputs": [],
   "source": [
    "import pandas as pd\n",
    "import matplotlib.pylab as plt\n",
    "%matplotlib inline\n",
    "import numpy as np\n",
    "import seaborn\n",
    "import iminuit, probfit\n",
    "from __future__ import print_function"
   ]
  },
  {
   "cell_type": "code",
   "execution_count": 3,
   "metadata": {
    "collapsed": false
   },
   "outputs": [],
   "source": [
    "%%bash\n",
    "if [ ! -f MasterclassData_2012.npz ] ; then\n",
    "  wget -O MasterclassData_2012.npz https://dl.dropboxusercontent.com/u/1534448/YSDA_MLHEP-2016/MasterClassData_2012.npz\n",
    "fi"
   ]
  },
  {
   "cell_type": "code",
   "execution_count": 4,
   "metadata": {
    "collapsed": false
   },
   "outputs": [],
   "source": [
    "datafile_2012 = 'MasterclassData_2012.npz'\n",
    "#df = root_numpy.root2array(datafile_2012, treename='DecayTree')\n",
    "fh = np.load(datafile_2012)"
   ]
  },
  {
   "cell_type": "code",
   "execution_count": 5,
   "metadata": {
    "collapsed": true
   },
   "outputs": [],
   "source": [
    "df = fh['df']"
   ]
  },
  {
   "cell_type": "code",
   "execution_count": 6,
   "metadata": {
    "collapsed": false
   },
   "outputs": [
    {
     "data": {
      "text/plain": [
       "dtype([('D0_MM', '<f8'), ('D0_PT', '<f8'), ('D0_TAU', '<f8'), ('D0_MINIPCHI2', '<f8'), ('D0_DIRA_OWNPV', '<f8'), ('nPV', '<i4'), ('D0_MINIP', '<f8'), ('piminus_PT', '<f8'), ('piminus_ProbNNpi', '<f8'), ('piminus_ProbNNk', '<f8'), ('Kplus_PT', '<f8'), ('Kplus_ProbNNpi', '<f8'), ('Kplus_ProbNNk', '<f8')])"
      ]
     },
     "execution_count": 6,
     "metadata": {},
     "output_type": "execute_result"
    }
   ],
   "source": [
    "df.dtype"
   ]
  },
  {
   "cell_type": "code",
   "execution_count": 7,
   "metadata": {
    "collapsed": false
   },
   "outputs": [
    {
     "data": {
      "text/plain": [
       "(54352,)"
      ]
     },
     "execution_count": 7,
     "metadata": {},
     "output_type": "execute_result"
    }
   ],
   "source": [
    "df.shape"
   ]
  },
  {
   "cell_type": "code",
   "execution_count": 8,
   "metadata": {
    "collapsed": false
   },
   "outputs": [
    {
     "data": {
      "image/png": "[encoded data removed]",
      "text/plain": [
       "<matplotlib.figure.Figure at 0x1107ad990>"
      ]
     },
     "metadata": {},
     "output_type": "display_data"
    }
   ],
   "source": [
    "plt.hist(df['D0_MM'][df['D0_MINIP'] < 10], bins=100, histtype='stepfilled', alpha=0.3);"
   ]
  },
  {
   "cell_type": "markdown",
   "metadata": {},
   "source": [
    "### D0 mass measurements\n",
    "\n",
    "* Fitting the D0 mass\n",
    "    - First plot the D0 mass distribution\n",
    "    - Now fit to it. In this fit, leave the signal and mass ranges to their default values.\n",
    "    - Define the signal mass region as +-3 sigma around the mean value\n",
    "    - What is the signal significance"
   ]
  },
  {
   "cell_type": "code",
   "execution_count": 9,
   "metadata": {
    "collapsed": true
   },
   "outputs": [],
   "source": [
    "from iminuit import Minuit\n",
    "from probfit import UnbinnedLH, gaussian, linear"
   ]
  },
  {
   "cell_type": "code",
   "execution_count": 10,
   "metadata": {
    "collapsed": false
   },
   "outputs": [
    {
     "name": "stdout",
     "output_type": "stream",
     "text": [
      "normalized_poly: ['x', 'c_0', 'c_1', 'NBkg']\n",
      "gauss1:          ['x', 'mu1', 'sigma1', 'N1']\n",
      "pdf:             ['x', 'c_0', 'c_1', 'NBkg', 'mu1', 'sigma1', 'N1']\n"
     ]
    }
   ],
   "source": [
    "fit_range = (1830, 1900)\n",
    "normalized_poly = probfit.Normalized(probfit.Polynomial(1), fit_range)\n",
    "normalized_poly = probfit.Extended(normalized_poly, extname='NBkg')\n",
    "\n",
    "gauss1 = probfit.Extended(probfit.rename(probfit.gaussian, ['x', 'mu1', 'sigma1']), \n",
    "                          extname='N1')\n",
    "\n",
    "# Define an extended PDF consisting of three components\n",
    "pdf = probfit.AddPdf(normalized_poly, gauss1)\n",
    "\n",
    "print('normalized_poly: {}'.format(probfit.describe(normalized_poly)))\n",
    "print('gauss1:          {}'.format(probfit.describe(gauss1)))\n",
    "print('pdf:             {}'.format(probfit.describe(pdf)))"
   ]
  },
  {
   "cell_type": "code",
   "execution_count": 11,
   "metadata": {
    "collapsed": false
   },
   "outputs": [
    {
     "data": {
      "image/png": "[encoded data removed]",
      "text/plain": [
       "<matplotlib.figure.Figure at 0x1111b6910>"
      ]
     },
     "metadata": {},
     "output_type": "display_data"
    }
   ],
   "source": [
    "binned_likelihood = probfit.BinnedLH(pdf, df['D0_MM'], bins=200, extended=True, bound=fit_range)\n",
    "\n",
    "# This is a quite complex fit (11 free parameters!), so we need good starting values.\n",
    "# Actually we even need to set an initial parameter error\n",
    "# for 'mu1' and 'mu2' to make MIGRAD converge.\n",
    "# The initial parameter error is used as the initial step size in the minimization.\n",
    "pars = dict(mu1=1865, sigma1=10, N1=35000,\n",
    "            c_0=0.1, c_1=0.01, NBkg=20000)\n",
    "minuit = iminuit.Minuit(binned_likelihood, pedantic=False, print_level=0, **pars)\n",
    "# You can see that the model already roughly matches the data\n",
    "binned_likelihood.draw(minuit, parts=True);"
   ]
  },
  {
   "cell_type": "code",
   "execution_count": 12,
   "metadata": {
    "collapsed": false
   },
   "outputs": [
    {
     "name": "stderr",
     "output_type": "stream",
     "text": [
      "/Users/anaderi/miniconda/envs/opera/lib/python2.7/site-packages/ipykernel/__main__.py:1: SmallIntegralWarning: (0.1, -0.0168119242616879)\n",
      "  if __name__ == '__main__':\n"
     ]
    }
   ],
   "source": [
    "minuit.migrad();\n",
    "#minuit.minos();"
   ]
  },
  {
   "cell_type": "code",
   "execution_count": 13,
   "metadata": {
    "collapsed": false,
    "scrolled": false
   },
   "outputs": [
    {
     "data": {
      "image/png": "[encoded data removed]",
      "text/plain": [
       "<matplotlib.figure.Figure at 0x10471de50>"
      ]
     },
     "metadata": {},
     "output_type": "display_data"
    },
    {
     "data": {
      "text/html": [
       "<hr>"
      ]
     },
     "metadata": {},
     "output_type": "display_data"
    },
    {
     "data": {
      "text/html": [
       "\n",
       "        <table>\n",
       "            <tr>\n",
       "                <td title=\"Minimum value of function\">FCN = 102.528758036</td>\n",
       "                <td title=\"Total number of call to FCN so far\">TOTAL NCALL = 253</td>\n",
       "                <td title=\"Number of call in last migrad\">NCALLS = 253</td>\n",
       "            </tr>\n",
       "            <tr>\n",
       "                <td title=\"Estimated distance to minimum\">EDM = 5.41771115041e-05</td>\n",
       "                <td title=\"Maximum EDM definition of convergence\">GOAL EDM = 5e-06</td>\n",
       "                <td title=\"Error def. Amount of increase in FCN to be defined as 1 standard deviation\">\n",
       "                UP = 0.5</td>\n",
       "            </tr>\n",
       "        </table>\n",
       "        \n",
       "        <table>\n",
       "            <tr>\n",
       "                <td align=\"center\" title=\"Validity of the migrad call\">Valid</td>\n",
       "                <td align=\"center\" title=\"Validity of parameters\">Valid Param</td>\n",
       "                <td align=\"center\" title=\"Is Covariance matrix accurate?\">Accurate Covar</td>\n",
       "                <td align=\"center\" title=\"Positive definiteness of covariance matrix\">PosDef</td>\n",
       "                <td align=\"center\" title=\"Was covariance matrix made posdef by adding diagonal element\">Made PosDef</td>\n",
       "            </tr>\n",
       "            <tr>\n",
       "                <td align=\"center\" style=\"background-color:#92CCA6\">True</td>\n",
       "                <td align=\"center\" style=\"background-color:#92CCA6\">True</td>\n",
       "                <td align=\"center\" style=\"background-color:#92CCA6\">True</td>\n",
       "                <td align=\"center\" style=\"background-color:#92CCA6\">True</td>\n",
       "                <td align=\"center\" style=\"background-color:#92CCA6\">False</td>\n",
       "            </tr>\n",
       "            <tr>\n",
       "                <td align=\"center\" title=\"Was last hesse call fail?\">Hesse Fail</td>\n",
       "                <td align=\"center\" title=\"Validity of covariance\">HasCov</td>\n",
       "                <td align=\"center\" title=\"Is EDM above goal EDM?\">Above EDM</td>\n",
       "                <td align=\"center\"></td>\n",
       "                <td align=\"center\" title=\"Did last migrad call reach max call limit?\">Reach calllim</td>\n",
       "            </tr>\n",
       "            <tr>\n",
       "                <td align=\"center\" style=\"background-color:#92CCA6\">False</td>\n",
       "                <td align=\"center\" style=\"background-color:#92CCA6\">True</td>\n",
       "                <td align=\"center\" style=\"background-color:#92CCA6\">False</td>\n",
       "                <td align=\"center\"></td>\n",
       "                <td align=\"center\" style=\"background-color:#92CCA6\">False</td>\n",
       "            </tr>\n",
       "        </table>\n",
       "        "
      ]
     },
     "metadata": {},
     "output_type": "display_data"
    },
    {
     "data": {
      "text/html": [
       "\n",
       "        <table>\n",
       "            <tr>\n",
       "                <td><a href=\"#\" onclick=\"$('#YDFTUnjcQY').toggle()\">+</a></td>\n",
       "                <td title=\"Variable name\">Name</td>\n",
       "                <td title=\"Value of parameter\">Value</td>\n",
       "                <td title=\"Parabolic error\">Parab Error</td>\n",
       "                <td title=\"Minos lower error\">Minos Error-</td>\n",
       "                <td title=\"Minos upper error\">Minos Error+</td>\n",
       "                <td title=\"Lower limit of the parameter\">Limit-</td>\n",
       "                <td title=\"Upper limit of the parameter\">Limit+</td>\n",
       "                <td title=\"Is the parameter fixed in the fit\">FIXED</td>\n",
       "            </tr>\n",
       "        \n",
       "            <tr>\n",
       "                <td>1</td>\n",
       "                <td>c_0</td>\n",
       "                <td>1215.94</td>\n",
       "                <td>610.387</td>\n",
       "                <td>0</td>\n",
       "                <td>0</td>\n",
       "                <td></td>\n",
       "                <td></td>\n",
       "                <td></td>\n",
       "            </tr>\n",
       "            \n",
       "            <tr>\n",
       "                <td>2</td>\n",
       "                <td>c_1</td>\n",
       "                <td>-0.475408</td>\n",
       "                <td>0.238528</td>\n",
       "                <td>0</td>\n",
       "                <td>0</td>\n",
       "                <td></td>\n",
       "                <td></td>\n",
       "                <td></td>\n",
       "            </tr>\n",
       "            \n",
       "            <tr>\n",
       "                <td>3</td>\n",
       "                <td>NBkg</td>\n",
       "                <td>21612.4</td>\n",
       "                <td>238.453</td>\n",
       "                <td>0</td>\n",
       "                <td>0</td>\n",
       "                <td></td>\n",
       "                <td></td>\n",
       "                <td></td>\n",
       "            </tr>\n",
       "            \n",
       "            <tr>\n",
       "                <td>4</td>\n",
       "                <td>mu1</td>\n",
       "                <td>1866.65</td>\n",
       "                <td>0.0711126</td>\n",
       "                <td>0</td>\n",
       "                <td>0</td>\n",
       "                <td></td>\n",
       "                <td></td>\n",
       "                <td></td>\n",
       "            </tr>\n",
       "            \n",
       "            <tr>\n",
       "                <td>5</td>\n",
       "                <td>sigma1</td>\n",
       "                <td>7.50915</td>\n",
       "                <td>0.0737035</td>\n",
       "                <td>0</td>\n",
       "                <td>0</td>\n",
       "                <td></td>\n",
       "                <td></td>\n",
       "                <td></td>\n",
       "            </tr>\n",
       "            \n",
       "            <tr>\n",
       "                <td>6</td>\n",
       "                <td>N1</td>\n",
       "                <td>24223.6</td>\n",
       "                <td>243.881</td>\n",
       "                <td>0</td>\n",
       "                <td>0</td>\n",
       "                <td></td>\n",
       "                <td></td>\n",
       "                <td></td>\n",
       "            </tr>\n",
       "            \n",
       "            </table>\n",
       "        \n",
       "            <pre id=\"YDFTUnjcQY\" style=\"display:none;\">\n",
       "            <textarea rows=\"18\" cols=\"50\" onclick=\"this.select()\" readonly>\\begin{tabular}{|c|r|r|r|r|r|r|r|c|}\n",
       "\\hline\n",
       " & Name & Value & Para Error & Error+ & Error- & Limit+ & Limit- & FIXED\\\\\n",
       "\\hline\n",
       "1 & $c_{0}$ & 1.216e+03 & 6.104e+02 &  &  &  &  & \\\\\n",
       "\\hline\n",
       "2 & $c_{1}$ & -4.754e-01 & 2.385e-01 &  &  &  &  & \\\\\n",
       "\\hline\n",
       "3 & NBkg & 2.161e+04 & 2.385e+02 &  &  &  &  & \\\\\n",
       "\\hline\n",
       "4 & mu1 & 1.867e+03 & 7.111e-02 &  &  &  &  & \\\\\n",
       "\\hline\n",
       "5 & sigma1 & 7.509e+00 & 7.370e-02 &  &  &  &  & \\\\\n",
       "\\hline\n",
       "6 & N1 & 2.422e+04 & 2.439e+02 &  &  &  &  & \\\\\n",
       "\\hline\n",
       "\\end{tabular}</textarea>\n",
       "            </pre>\n",
       "            "
      ]
     },
     "metadata": {},
     "output_type": "display_data"
    },
    {
     "data": {
      "text/html": [
       "<hr>"
      ]
     },
     "metadata": {},
     "output_type": "display_data"
    },
    {
     "data": {
      "text/html": [
       "\n",
       "            <table>\n",
       "                <tr>\n",
       "                    <td><a onclick=\"$('#YIRVZRnVFX').toggle()\" href=\"#\">+</a></td>\n",
       "        \n",
       "            <td>\n",
       "            <div style=\"width:20px;position:relative; width: -moz-fit-content;\">\n",
       "            <div style=\"display:inline-block;-webkit-writing-mode:vertical-rl;-moz-writing-mode: vertical-rl;writing-mode: vertical-rl;\">\n",
       "            c_0\n",
       "            </div>\n",
       "            </div>\n",
       "            </td>\n",
       "            \n",
       "            <td>\n",
       "            <div style=\"width:20px;position:relative; width: -moz-fit-content;\">\n",
       "            <div style=\"display:inline-block;-webkit-writing-mode:vertical-rl;-moz-writing-mode: vertical-rl;writing-mode: vertical-rl;\">\n",
       "            c_1\n",
       "            </div>\n",
       "            </div>\n",
       "            </td>\n",
       "            \n",
       "            <td>\n",
       "            <div style=\"width:20px;position:relative; width: -moz-fit-content;\">\n",
       "            <div style=\"display:inline-block;-webkit-writing-mode:vertical-rl;-moz-writing-mode: vertical-rl;writing-mode: vertical-rl;\">\n",
       "            NBkg\n",
       "            </div>\n",
       "            </div>\n",
       "            </td>\n",
       "            \n",
       "            <td>\n",
       "            <div style=\"width:20px;position:relative; width: -moz-fit-content;\">\n",
       "            <div style=\"display:inline-block;-webkit-writing-mode:vertical-rl;-moz-writing-mode: vertical-rl;writing-mode: vertical-rl;\">\n",
       "            mu1\n",
       "            </div>\n",
       "            </div>\n",
       "            </td>\n",
       "            \n",
       "            <td>\n",
       "            <div style=\"width:20px;position:relative; width: -moz-fit-content;\">\n",
       "            <div style=\"display:inline-block;-webkit-writing-mode:vertical-rl;-moz-writing-mode: vertical-rl;writing-mode: vertical-rl;\">\n",
       "            sigma1\n",
       "            </div>\n",
       "            </div>\n",
       "            </td>\n",
       "            \n",
       "            <td>\n",
       "            <div style=\"width:20px;position:relative; width: -moz-fit-content;\">\n",
       "            <div style=\"display:inline-block;-webkit-writing-mode:vertical-rl;-moz-writing-mode: vertical-rl;writing-mode: vertical-rl;\">\n",
       "            N1\n",
       "            </div>\n",
       "            </div>\n",
       "            </td>\n",
       "            \n",
       "                </tr>\n",
       "                \n",
       "            <tr>\n",
       "                <td>c_0</td>\n",
       "            \n",
       "                <td style=\"background-color:rgb(255,117,117)\">\n",
       "                1.00\n",
       "                </td>\n",
       "                \n",
       "                <td style=\"background-color:rgb(254,118,118)\">\n",
       "                -0.99\n",
       "                </td>\n",
       "                \n",
       "                <td style=\"background-color:rgb(164,253,186)\">\n",
       "                0.01\n",
       "                </td>\n",
       "                \n",
       "                <td style=\"background-color:rgb(165,251,185)\">\n",
       "                -0.02\n",
       "                </td>\n",
       "                \n",
       "                <td style=\"background-color:rgb(163,253,186)\">\n",
       "                -0.00\n",
       "                </td>\n",
       "                \n",
       "                <td style=\"background-color:rgb(164,253,186)\">\n",
       "                -0.01\n",
       "                </td>\n",
       "                \n",
       "            </tr>\n",
       "            \n",
       "            <tr>\n",
       "                <td>c_1</td>\n",
       "            \n",
       "                <td style=\"background-color:rgb(254,118,118)\">\n",
       "                -0.99\n",
       "                </td>\n",
       "                \n",
       "                <td style=\"background-color:rgb(255,117,117)\">\n",
       "                1.00\n",
       "                </td>\n",
       "                \n",
       "                <td style=\"background-color:rgb(164,253,186)\">\n",
       "                0.01\n",
       "                </td>\n",
       "                \n",
       "                <td style=\"background-color:rgb(165,251,185)\">\n",
       "                -0.02\n",
       "                </td>\n",
       "                \n",
       "                <td style=\"background-color:rgb(163,253,186)\">\n",
       "                -0.00\n",
       "                </td>\n",
       "                \n",
       "                <td style=\"background-color:rgb(164,253,186)\">\n",
       "                -0.01\n",
       "                </td>\n",
       "                \n",
       "            </tr>\n",
       "            \n",
       "            <tr>\n",
       "                <td>NBkg</td>\n",
       "            \n",
       "                <td style=\"background-color:rgb(164,253,186)\">\n",
       "                0.01\n",
       "                </td>\n",
       "                \n",
       "                <td style=\"background-color:rgb(164,253,186)\">\n",
       "                0.01\n",
       "                </td>\n",
       "                \n",
       "                <td style=\"background-color:rgb(255,117,117)\">\n",
       "                1.00\n",
       "                </td>\n",
       "                \n",
       "                <td style=\"background-color:rgb(163,253,186)\">\n",
       "                0.00\n",
       "                </td>\n",
       "                \n",
       "                <td style=\"background-color:rgb(213,180,149)\">\n",
       "                -0.54\n",
       "                </td>\n",
       "                \n",
       "                <td style=\"background-color:rgb(219,171,144)\">\n",
       "                -0.61\n",
       "                </td>\n",
       "                \n",
       "            </tr>\n",
       "            \n",
       "            <tr>\n",
       "                <td>mu1</td>\n",
       "            \n",
       "                <td style=\"background-color:rgb(165,251,185)\">\n",
       "                -0.02\n",
       "                </td>\n",
       "                \n",
       "                <td style=\"background-color:rgb(165,251,185)\">\n",
       "                -0.02\n",
       "                </td>\n",
       "                \n",
       "                <td style=\"background-color:rgb(163,253,186)\">\n",
       "                0.00\n",
       "                </td>\n",
       "                \n",
       "                <td style=\"background-color:rgb(255,117,117)\">\n",
       "                1.00\n",
       "                </td>\n",
       "                \n",
       "                <td style=\"background-color:rgb(164,252,185)\">\n",
       "                -0.02\n",
       "                </td>\n",
       "                \n",
       "                <td style=\"background-color:rgb(163,253,186)\">\n",
       "                -0.00\n",
       "                </td>\n",
       "                \n",
       "            </tr>\n",
       "            \n",
       "            <tr>\n",
       "                <td>sigma1</td>\n",
       "            \n",
       "                <td style=\"background-color:rgb(163,253,186)\">\n",
       "                -0.00\n",
       "                </td>\n",
       "                \n",
       "                <td style=\"background-color:rgb(163,253,186)\">\n",
       "                -0.00\n",
       "                </td>\n",
       "                \n",
       "                <td style=\"background-color:rgb(213,180,149)\">\n",
       "                -0.54\n",
       "                </td>\n",
       "                \n",
       "                <td style=\"background-color:rgb(164,252,185)\">\n",
       "                -0.02\n",
       "                </td>\n",
       "                \n",
       "                <td style=\"background-color:rgb(255,117,117)\">\n",
       "                1.00\n",
       "                </td>\n",
       "                \n",
       "                <td style=\"background-color:rgb(212,182,150)\">\n",
       "                0.53\n",
       "                </td>\n",
       "                \n",
       "            </tr>\n",
       "            \n",
       "            <tr>\n",
       "                <td>N1</td>\n",
       "            \n",
       "                <td style=\"background-color:rgb(164,253,186)\">\n",
       "                -0.01\n",
       "                </td>\n",
       "                \n",
       "                <td style=\"background-color:rgb(164,253,186)\">\n",
       "                -0.01\n",
       "                </td>\n",
       "                \n",
       "                <td style=\"background-color:rgb(219,171,144)\">\n",
       "                -0.61\n",
       "                </td>\n",
       "                \n",
       "                <td style=\"background-color:rgb(163,253,186)\">\n",
       "                -0.00\n",
       "                </td>\n",
       "                \n",
       "                <td style=\"background-color:rgb(212,182,150)\">\n",
       "                0.53\n",
       "                </td>\n",
       "                \n",
       "                <td style=\"background-color:rgb(255,117,117)\">\n",
       "                1.00\n",
       "                </td>\n",
       "                \n",
       "            </tr>\n",
       "            </table>\n",
       "\n",
       "            <pre id=\"YIRVZRnVFX\" style=\"display:none;\">\n",
       "            <textarea rows=\"21\" cols=\"50\" onclick=\"this.select()\" readonly>%\\usepackage[table]{xcolor} % include this for color\n",
       "%\\usepackage{rotating} % include this for rotate header\n",
       "%\\documentclass[xcolor=table]{beamer} % for beamer\n",
       "\\begin{tabular}{|c|c|c|c|c|c|c|}\n",
       "\\hline\n",
       "\\rotatebox{90}{} & \\rotatebox{90}{$c_{0}$} & \\rotatebox{90}{$c_{1}$} & \\rotatebox{90}{NBkg} & \\rotatebox{90}{mu1} & \\rotatebox{90}{sigma1} & \\rotatebox{90}{N1}\\\\\n",
       "\\hline\n",
       "$c_{0}$ & \\cellcolor[RGB]{255,117,117} 1.00 & \\cellcolor[RGB]{254,118,118} -0.99 & \\cellcolor[RGB]{164,253,186} 0.01 & \\cellcolor[RGB]{165,251,185} -0.02 & \\cellcolor[RGB]{163,253,186} -0.00 & \\cellcolor[RGB]{164,253,186} -0.01\\\\\n",
       "\\hline\n",
       "$c_{1}$ & \\cellcolor[RGB]{254,118,118} -0.99 & \\cellcolor[RGB]{255,117,117} 1.00 & \\cellcolor[RGB]{164,253,186} 0.01 & \\cellcolor[RGB]{165,251,185} -0.02 & \\cellcolor[RGB]{163,253,186} -0.00 & \\cellcolor[RGB]{164,253,186} -0.01\\\\\n",
       "\\hline\n",
       "NBkg & \\cellcolor[RGB]{164,253,186} 0.01 & \\cellcolor[RGB]{164,253,186} 0.01 & \\cellcolor[RGB]{255,117,117} 1.00 & \\cellcolor[RGB]{163,253,186} 0.00 & \\cellcolor[RGB]{213,180,149} -0.54 & \\cellcolor[RGB]{219,171,144} -0.61\\\\\n",
       "\\hline\n",
       "mu1 & \\cellcolor[RGB]{165,251,185} -0.02 & \\cellcolor[RGB]{165,251,185} -0.02 & \\cellcolor[RGB]{163,253,186} 0.00 & \\cellcolor[RGB]{255,117,117} 1.00 & \\cellcolor[RGB]{164,252,185} -0.02 & \\cellcolor[RGB]{163,253,186} -0.00\\\\\n",
       "\\hline\n",
       "sigma1 & \\cellcolor[RGB]{163,253,186} -0.00 & \\cellcolor[RGB]{163,253,186} -0.00 & \\cellcolor[RGB]{213,180,149} -0.54 & \\cellcolor[RGB]{164,252,185} -0.02 & \\cellcolor[RGB]{255,117,117} 1.00 & \\cellcolor[RGB]{212,182,150} 0.53\\\\\n",
       "\\hline\n",
       "N1 & \\cellcolor[RGB]{164,253,186} -0.01 & \\cellcolor[RGB]{164,253,186} -0.01 & \\cellcolor[RGB]{219,171,144} -0.61 & \\cellcolor[RGB]{163,253,186} -0.00 & \\cellcolor[RGB]{212,182,150} 0.53 & \\cellcolor[RGB]{255,117,117} 1.00\\\\\n",
       "\\hline\n",
       "\\end{tabular}</textarea>\n",
       "            </pre>\n",
       "            "
      ]
     },
     "metadata": {},
     "output_type": "display_data"
    }
   ],
   "source": [
    "binned_likelihood.show(minuit, parts=True);\n",
    "minuit.print_fmin()\n",
    "minuit.print_matrix()"
   ]
  },
  {
   "cell_type": "code",
   "execution_count": 14,
   "metadata": {
    "collapsed": false,
    "scrolled": true
   },
   "outputs": [
    {
     "name": "stdout",
     "output_type": "stream",
     "text": [
      "D0 mass: 1866.65112926 +/- 0.0711126213697\n"
     ]
    }
   ],
   "source": [
    "print (\"D0 mass:\", minuit.values['mu1'], \"+/-\", minuit.errors['mu1'])"
   ]
  },
  {
   "cell_type": "markdown",
   "metadata": {},
   "source": [
    "## D0 lifetime measurement\n",
    "\n",
    "Welcome to the LHCb masterclass exercise on measuring the lifetime of the D0 meson. \n",
    "The goal of this exercise is to measure the lifetime of the D0 meson, a fundamental\n",
    "particle made of a charm quark and an up anti-quark. In order to do so, you will\n",
    "first learn how to separate signal D0 mesons from backgrounds. Finally, you will\n",
    "compare your results to the values found by the Particle Data Group (http://pdgLive.lbl.gov).\n",
    "\n",
    "#### Step-by-step instructions :\n",
    "\n",
    "3. Plot the variable distributions. You will see three further plots appearing, and\n",
    "in each one the blue points represent the distribution of the signal in that variable\n",
    "while the red points represent the distribution of the background. The plot is logarithmic\n",
    "in the Y axis, and each point represents the fraction of the total signal in that bin.\n",
    "Which regions of each variable contain mostly signal? Which contain mostly background?\n",
    "4. Fit the lifetime distribution. Save the results\n",
    "of your fit and compare them to the PDG value. Do they agree?\n",
    "5. Repeat step 4 but now varying the upper D0 log(IP) variable range\n",
    "from 1.5 to -2 in steps of 0.2. Do you notice a pattern?\n",
    "6. Does the D0 lifetime with an log(IP) cut of\n",
    "-1.5 agree better or worse with the PDG than the lifetime with an log(IP) cut of 1.5?;"
   ]
  },
  {
   "cell_type": "markdown",
   "metadata": {},
   "source": [
    "## Lifetime\n",
    "\n",
    "Exponential decay:\n",
    "\n",
    "$$\\frac{dN}{dt} = -\\lambda N$$\n",
    "\n",
    "or \n",
    "\n",
    "$$\\frac{dN}{N} = -\\lambda dt$$\n",
    "\n",
    "integrating:\n",
    "\n",
    "$$\\mathrm{ln} N = - \\lambda t + C$$\n",
    "\n",
    "Mean lifetime (https://en.wikipedia.org/wiki/Exponential_decay):\n",
    "\n",
    "$$ \\tau = <t> = \\frac{1}{\\lambda} $$\n",
    "\n"
   ]
  },
  {
   "cell_type": "markdown",
   "metadata": {},
   "source": [
    "### Variables distribution"
   ]
  },
  {
   "cell_type": "code",
   "execution_count": 15,
   "metadata": {
    "collapsed": false
   },
   "outputs": [
    {
     "data": {
      "text/plain": [
       "<matplotlib.text.Text at 0x113f4dd90>"
      ]
     },
     "execution_count": 15,
     "metadata": {},
     "output_type": "execute_result"
    },
    {
     "data": {
      "image/png": "[encoded data removed]",
      "text/plain": [
       "<matplotlib.figure.Figure at 0x1136fb650>"
      ]
     },
     "metadata": {},
     "output_type": "display_data"
    }
   ],
   "source": [
    "plt.figure(figsize=(15, 4));\n",
    "plt.subplot(1,3,1)\n",
    "plt.hist(np.log10(df['D0_MINIP']), bins=50, histtype='stepfilled', alpha=0.5);\n",
    "plt.yscale('log')\n",
    "plt.title('log10(D0_MINIP)')\n",
    "plt.xlabel('log10(MINIP)')\n",
    "\n",
    "plt.subplot(1,3,2)\n",
    "plt.hist(df['D0_TAU']*1000, bins=50, histtype='stepfilled', alpha=0.5)\n",
    "plt.yscale('log')\n",
    "plt.xlabel('ps')\n",
    "plt.title('D0_TAU, Decay time')\n",
    "\n",
    "plt.subplot(1,3,3)\n",
    "plt.hist(df['D0_PT']/1000, bins=50, histtype='stepfilled', alpha=0.5, range=(0, 20));\n",
    "plt.xlabel('GeV')\n",
    "plt.yscale('log')\n",
    "plt.title('D0_PT')\n",
    "\n"
   ]
  },
  {
   "cell_type": "markdown",
   "metadata": {},
   "source": [
    "## Background substraction\n",
    "\n",
    "idea: \n",
    "\n",
    "1. We are interested in signal/background sample distribution (not individual events) wrt variable TAU.\n",
    "2. Check that variable MM is not correlated with TAU.\n",
    "3. For the whole sample define signal region R_s wrt mass variable (MM), i.e. interval with majority of signal. It splits whole data sample into 2 subsamples: \"signal region events\" and \"sideband region events\".\n",
    "4. Since TAU and MM are not correlated, distribution of a variable TAU for background to be the distribution of _sideband_ events. \n",
    "5. To plot normalized distribution of signal wrt variable TAU, one have to substract histogram  of background events (4) from histogram of _signal region_ events.\n"
   ]
  },
  {
   "cell_type": "code",
   "execution_count": 16,
   "metadata": {
    "collapsed": true
   },
   "outputs": [],
   "source": [
    "signal_region = (1844, 1890)"
   ]
  },
  {
   "cell_type": "markdown",
   "metadata": {},
   "source": [
    "### Checking correlation between MM & TAU\n"
   ]
  },
  {
   "cell_type": "code",
   "execution_count": 17,
   "metadata": {
    "collapsed": false
   },
   "outputs": [
    {
     "data": {
      "text/plain": [
       "array([[  4.71603887e+02,   2.20971762e-04],\n",
       "       [  2.20971762e-04,   1.15501796e-06]])"
      ]
     },
     "execution_count": 17,
     "metadata": {},
     "output_type": "execute_result"
    }
   ],
   "source": [
    "np.cov(df['D0_MM'],df['D0_TAU'])"
   ]
  },
  {
   "cell_type": "code",
   "execution_count": 18,
   "metadata": {
    "collapsed": false
   },
   "outputs": [
    {
     "data": {
      "text/plain": [
       "array([[  4.71603887e+02,   6.23003892e+02],\n",
       "       [  6.23003892e+02,   1.81859443e+06]])"
      ]
     },
     "execution_count": 18,
     "metadata": {},
     "output_type": "execute_result"
    }
   ],
   "source": [
    "np.cov(df['D0_MM'],df['D0_PT'])"
   ]
  },
  {
   "cell_type": "code",
   "execution_count": 19,
   "metadata": {
    "collapsed": false
   },
   "outputs": [
    {
     "data": {
      "text/plain": [
       "array([[  4.71603887e+02,   7.58660110e-03],\n",
       "       [  7.58660110e-03,   3.91780238e-02]])"
      ]
     },
     "execution_count": 19,
     "metadata": {},
     "output_type": "execute_result"
    }
   ],
   "source": [
    "np.cov(df['D0_MM'],df['D0_MINIP'])"
   ]
  },
  {
   "cell_type": "code",
   "execution_count": 20,
   "metadata": {
    "collapsed": false
   },
   "outputs": [],
   "source": [
    "signal_region_mask = df['D0_MM'] >= signal_region[0]\n",
    "signal_region_mask &= df['D0_MM'] < signal_region[1]"
   ]
  },
  {
   "cell_type": "code",
   "execution_count": 21,
   "metadata": {
    "collapsed": true
   },
   "outputs": [],
   "source": [
    "signal_region_events = df['D0_TAU'][signal_region_mask]"
   ]
  },
  {
   "cell_type": "code",
   "execution_count": 22,
   "metadata": {
    "collapsed": true
   },
   "outputs": [],
   "source": [
    "sideband_region_mask = signal_region_mask == False"
   ]
  },
  {
   "cell_type": "code",
   "execution_count": 23,
   "metadata": {
    "collapsed": false
   },
   "outputs": [],
   "source": [
    "sideband_region_events = df['D0_TAU'][sideband_region_mask]"
   ]
  },
  {
   "cell_type": "code",
   "execution_count": 24,
   "metadata": {
    "collapsed": true
   },
   "outputs": [],
   "source": [
    "back_scaling_factor = float(signal_region_events.shape[0]) / sideband_region_events.shape[0]"
   ]
  },
  {
   "cell_type": "code",
   "execution_count": 25,
   "metadata": {
    "collapsed": false
   },
   "outputs": [
    {
     "data": {
      "text/plain": [
       "2.4194400754954386"
      ]
     },
     "execution_count": 25,
     "metadata": {},
     "output_type": "execute_result"
    }
   ],
   "source": [
    "back_scaling_factor"
   ]
  },
  {
   "cell_type": "code",
   "execution_count": 26,
   "metadata": {
    "collapsed": false
   },
   "outputs": [
    {
     "data": {
      "text/plain": [
       "<matplotlib.text.Text at 0x113e41650>"
      ]
     },
     "execution_count": 26,
     "metadata": {},
     "output_type": "execute_result"
    },
    {
     "data": {
      "image/png": "[encoded data removed]",
      "text/plain": [
       "<matplotlib.figure.Figure at 0x11410d910>"
      ]
     },
     "metadata": {},
     "output_type": "display_data"
    }
   ],
   "source": [
    "n_bins = 72\n",
    "h_sr, bar_x, _ = plt.hist(signal_region_events, bins=n_bins, histtype='stepfilled', alpha=0.5)\n",
    "h_sb, _, _ = plt.hist(sideband_region_events, bins=n_bins, histtype='step', alpha=1., lw=2, color='r')\n",
    "h_sig = h_sr - h_sb / back_scaling_factor\n",
    "#plt.bar(bar_x, h_sig)\n",
    "plt.yscale('log')\n",
    "plt.xlabel('ps')\n",
    "plt.title('D0_TAU, Decay time')"
   ]
  },
  {
   "cell_type": "code",
   "execution_count": 27,
   "metadata": {
    "collapsed": false
   },
   "outputs": [
    {
     "data": {
      "image/png": "[encoded data removed]",
      "text/plain": [
       "<matplotlib.figure.Figure at 0x113f1a150>"
      ]
     },
     "metadata": {},
     "output_type": "display_data"
    }
   ],
   "source": [
    "plt.bar(bar_x[:-1], h_sig, width=bar_x[1] - bar_x[0])\n",
    "plt.yscale('log')"
   ]
  },
  {
   "cell_type": "code",
   "execution_count": 28,
   "metadata": {
    "collapsed": false
   },
   "outputs": [],
   "source": [
    "def line(x, m, c): # define it to be parabolic or whatever you like\n",
    "    return m * x + c\n",
    "err = np.maximum(np.nan_to_num(np.log(h_sig + np.sqrt(h_sig)) - np.log(h_sig)), 0.01)\n",
    "#err = np.ones(len(h_sig))\n",
    "chi2 = probfit.Chi2Regression(line, (bar_x[:1] + bar_x[1:])/2*1000, np.log(h_sig), err)"
   ]
  },
  {
   "cell_type": "code",
   "execution_count": 29,
   "metadata": {
    "collapsed": false
   },
   "outputs": [
    {
     "data": {
      "image/png": "[encoded data removed]",
      "text/plain": [
       "<matplotlib.figure.Figure at 0x1152ce590>"
      ]
     },
     "metadata": {},
     "output_type": "display_data"
    }
   ],
   "source": [
    "plt.errorbar((bar_x[:1] + bar_x[1:])/2*1000, np.log(h_sig), yerr=err, fmt='none');"
   ]
  },
  {
   "cell_type": "code",
   "execution_count": 30,
   "metadata": {
    "collapsed": false
   },
   "outputs": [
    {
     "data": {
      "text/html": [
       "<hr>"
      ]
     },
     "metadata": {},
     "output_type": "display_data"
    },
    {
     "data": {
      "text/html": [
       "\n",
       "        <table>\n",
       "            <tr>\n",
       "                <td title=\"Minimum value of function\">FCN = 9757.4604944</td>\n",
       "                <td title=\"Total number of call to FCN so far\">TOTAL NCALL = 44</td>\n",
       "                <td title=\"Number of call in last migrad\">NCALLS = 44</td>\n",
       "            </tr>\n",
       "            <tr>\n",
       "                <td title=\"Estimated distance to minimum\">EDM = 4.78939875441e-10</td>\n",
       "                <td title=\"Maximum EDM definition of convergence\">GOAL EDM = 1e-05</td>\n",
       "                <td title=\"Error def. Amount of increase in FCN to be defined as 1 standard deviation\">\n",
       "                UP = 1.0</td>\n",
       "            </tr>\n",
       "        </table>\n",
       "        \n",
       "        <table>\n",
       "            <tr>\n",
       "                <td align=\"center\" title=\"Validity of the migrad call\">Valid</td>\n",
       "                <td align=\"center\" title=\"Validity of parameters\">Valid Param</td>\n",
       "                <td align=\"center\" title=\"Is Covariance matrix accurate?\">Accurate Covar</td>\n",
       "                <td align=\"center\" title=\"Positive definiteness of covariance matrix\">PosDef</td>\n",
       "                <td align=\"center\" title=\"Was covariance matrix made posdef by adding diagonal element\">Made PosDef</td>\n",
       "            </tr>\n",
       "            <tr>\n",
       "                <td align=\"center\" style=\"background-color:#92CCA6\">True</td>\n",
       "                <td align=\"center\" style=\"background-color:#92CCA6\">True</td>\n",
       "                <td align=\"center\" style=\"background-color:#92CCA6\">True</td>\n",
       "                <td align=\"center\" style=\"background-color:#92CCA6\">True</td>\n",
       "                <td align=\"center\" style=\"background-color:#92CCA6\">False</td>\n",
       "            </tr>\n",
       "            <tr>\n",
       "                <td align=\"center\" title=\"Was last hesse call fail?\">Hesse Fail</td>\n",
       "                <td align=\"center\" title=\"Validity of covariance\">HasCov</td>\n",
       "                <td align=\"center\" title=\"Is EDM above goal EDM?\">Above EDM</td>\n",
       "                <td align=\"center\"></td>\n",
       "                <td align=\"center\" title=\"Did last migrad call reach max call limit?\">Reach calllim</td>\n",
       "            </tr>\n",
       "            <tr>\n",
       "                <td align=\"center\" style=\"background-color:#92CCA6\">False</td>\n",
       "                <td align=\"center\" style=\"background-color:#92CCA6\">True</td>\n",
       "                <td align=\"center\" style=\"background-color:#92CCA6\">False</td>\n",
       "                <td align=\"center\"></td>\n",
       "                <td align=\"center\" style=\"background-color:#92CCA6\">False</td>\n",
       "            </tr>\n",
       "        </table>\n",
       "        "
      ]
     },
     "metadata": {},
     "output_type": "display_data"
    },
    {
     "data": {
      "text/html": [
       "\n",
       "        <table>\n",
       "            <tr>\n",
       "                <td><a href=\"#\" onclick=\"$('#XDObmpWFIA').toggle()\">+</a></td>\n",
       "                <td title=\"Variable name\">Name</td>\n",
       "                <td title=\"Value of parameter\">Value</td>\n",
       "                <td title=\"Parabolic error\">Parab Error</td>\n",
       "                <td title=\"Minos lower error\">Minos Error-</td>\n",
       "                <td title=\"Minos upper error\">Minos Error+</td>\n",
       "                <td title=\"Lower limit of the parameter\">Limit-</td>\n",
       "                <td title=\"Upper limit of the parameter\">Limit+</td>\n",
       "                <td title=\"Is the parameter fixed in the fit\">FIXED</td>\n",
       "            </tr>\n",
       "        \n",
       "            <tr>\n",
       "                <td>1</td>\n",
       "                <td>m</td>\n",
       "                <td>-2.69627</td>\n",
       "                <td>0.011926</td>\n",
       "                <td>0</td>\n",
       "                <td>0</td>\n",
       "                <td>-5.0</td>\n",
       "                <td>0.0</td>\n",
       "                <td></td>\n",
       "            </tr>\n",
       "            \n",
       "            <tr>\n",
       "                <td>2</td>\n",
       "                <td>c</td>\n",
       "                <td>9.31359</td>\n",
       "                <td>0.00788456</td>\n",
       "                <td>0</td>\n",
       "                <td>0</td>\n",
       "                <td></td>\n",
       "                <td></td>\n",
       "                <td></td>\n",
       "            </tr>\n",
       "            \n",
       "            </table>\n",
       "        \n",
       "            <pre id=\"XDObmpWFIA\" style=\"display:none;\">\n",
       "            <textarea rows=\"10\" cols=\"50\" onclick=\"this.select()\" readonly>\\begin{tabular}{|c|r|r|r|r|r|r|r|c|}\n",
       "\\hline\n",
       " & Name & Value & Para Error & Error+ & Error- & Limit+ & Limit- & FIXED\\\\\n",
       "\\hline\n",
       "1 & m & -2.696e+00 & 1.193e-02 &  &  & -5.000e+00 & 0.000e+00 & \\\\\n",
       "\\hline\n",
       "2 & c & 9.314e+00 & 7.885e-03 &  &  &  &  & \\\\\n",
       "\\hline\n",
       "\\end{tabular}</textarea>\n",
       "            </pre>\n",
       "            "
      ]
     },
     "metadata": {},
     "output_type": "display_data"
    },
    {
     "data": {
      "text/html": [
       "<hr>"
      ]
     },
     "metadata": {},
     "output_type": "display_data"
    }
   ],
   "source": [
    "minuit = iminuit.Minuit(chi2, m=-1, c=10, limit_m=(-5,0), error_m=0.01, error_c=0.1) # see iminuit tutorial on how to give initial value/range/error\n",
    "minuit.migrad();"
   ]
  },
  {
   "cell_type": "code",
   "execution_count": 31,
   "metadata": {
    "collapsed": false,
    "scrolled": true
   },
   "outputs": [
    {
     "name": "stdout",
     "output_type": "stream",
     "text": [
      "D^{0} lifetime 0.3709 #pm 0.001640 (ps)\n"
     ]
    },
    {
     "data": {
      "image/png": "[encoded data removed]",
      "text/plain": [
       "<matplotlib.figure.Figure at 0x115550910>"
      ]
     },
     "metadata": {},
     "output_type": "display_data"
    }
   ],
   "source": [
    "chi2.draw(minuit)\n",
    "print (\"D^{0} lifetime %.4f #pm %.6f (ps)\" % \n",
    "  (-1./minuit.values[\"m\"], minuit.errors[\"m\"]/(minuit.values[\"m\"]**2)))"
   ]
  },
  {
   "cell_type": "markdown",
   "metadata": {},
   "source": [
    "## Tasks\n",
    "* MINIP dependence\n",
    "    - Repeat the previous step for different values of MINIP, as described in the instructions\n",
    "      included in the executable.\n",
    "    - At each step save the fit result.\n",
    "    - Plot the trend of fit results vs. MINIP."
   ]
  },
  {
   "cell_type": "code",
   "execution_count": 32,
   "metadata": {
    "collapsed": true
   },
   "outputs": [],
   "source": [
    "# TODO\n"
   ]
  },
  {
   "cell_type": "markdown",
   "metadata": {
    "collapsed": true
   },
   "source": [
    "## Quiz\n",
    "\n",
    "* Does the Gaussian fit the mass distribution well?\n",
    "    - Explain the reason why in the fits where there is less background, the Gaussian undershoots the data points on the left.\n",
    "    - Discuss radiative photon emission and mass bias.\n",
    "* Why does the original lifetime fit not agree with the PDG value?\n",
    "* Why does cutting on MINIP help, but cutting on D0 PT or TAU not help?\n",
    "* How would you estimate the systematic uncertainty on the measurement from the trend plot?"
   ]
  },
  {
   "cell_type": "code",
   "execution_count": 33,
   "metadata": {
    "collapsed": true
   },
   "outputs": [],
   "source": [
    "# Your answers go below"
   ]
  },
  {
   "cell_type": "code",
   "execution_count": null,
   "metadata": {
    "collapsed": true
   },
   "outputs": [],
   "source": []
  }
 ],
 "metadata": {
  "kernelspec": {
   "display_name": "Python 2",
   "language": "python",
   "name": "python2"
  },
  "language_info": {
   "codemirror_mode": {
    "name": "ipython",
    "version": 2
   },
   "file_extension": ".py",
   "mimetype": "text/x-python",
   "name": "python",
   "nbconvert_exporter": "python",
   "pygments_lexer": "ipython2",
   "version": "2.7.12"
  }
 },
 "nbformat": 4,
 "nbformat_minor": 0
}
